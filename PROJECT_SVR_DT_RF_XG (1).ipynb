{
 "cells": [
  {
   "cell_type": "code",
   "execution_count": 1,
   "id": "041eac8a",
   "metadata": {},
   "outputs": [],
   "source": [
    "import numpy as np\n",
    "import pandas as pd\n",
    "import matplotlib.pyplot as plt\n",
    "import datetime\n",
    "import seaborn as sns"
   ]
  },
  {
   "cell_type": "code",
   "execution_count": 2,
   "id": "a71ec7d9",
   "metadata": {},
   "outputs": [],
   "source": [
    "data=pd.read_excel(r'C:\\Users\\NITEESH\\Downloads\\Telegram Desktop\\project.xlsx')"
   ]
  },
  {
   "cell_type": "code",
   "execution_count": 3,
   "id": "faf1d997",
   "metadata": {},
   "outputs": [
    {
     "data": {
      "text/html": [
       "<div>\n",
       "<style scoped>\n",
       "    .dataframe tbody tr th:only-of-type {\n",
       "        vertical-align: middle;\n",
       "    }\n",
       "\n",
       "    .dataframe tbody tr th {\n",
       "        vertical-align: top;\n",
       "    }\n",
       "\n",
       "    .dataframe thead th {\n",
       "        text-align: right;\n",
       "    }\n",
       "</style>\n",
       "<table border=\"1\" class=\"dataframe\">\n",
       "  <thead>\n",
       "    <tr style=\"text-align: right;\">\n",
       "      <th></th>\n",
       "      <th>DATES</th>\n",
       "      <th>RUNOFF(Cumes)</th>\n",
       "      <th>AVERAGE RAINFALL(mm/day)</th>\n",
       "    </tr>\n",
       "  </thead>\n",
       "  <tbody>\n",
       "    <tr>\n",
       "      <th>0</th>\n",
       "      <td>2009-01-01</td>\n",
       "      <td>237.62383</td>\n",
       "      <td>0.0000</td>\n",
       "    </tr>\n",
       "    <tr>\n",
       "      <th>1</th>\n",
       "      <td>2009-01-02</td>\n",
       "      <td>238.6355</td>\n",
       "      <td>0.0300</td>\n",
       "    </tr>\n",
       "    <tr>\n",
       "      <th>2</th>\n",
       "      <td>2009-01-03</td>\n",
       "      <td>236</td>\n",
       "      <td>0.0125</td>\n",
       "    </tr>\n",
       "    <tr>\n",
       "      <th>3</th>\n",
       "      <td>2009-01-04</td>\n",
       "      <td>238</td>\n",
       "      <td>0.0025</td>\n",
       "    </tr>\n",
       "    <tr>\n",
       "      <th>4</th>\n",
       "      <td>2009-01-05</td>\n",
       "      <td>232.05756</td>\n",
       "      <td>0.0000</td>\n",
       "    </tr>\n",
       "    <tr>\n",
       "      <th>...</th>\n",
       "      <td>...</td>\n",
       "      <td>...</td>\n",
       "      <td>...</td>\n",
       "    </tr>\n",
       "    <tr>\n",
       "      <th>2548</th>\n",
       "      <td>2015-12-28</td>\n",
       "      <td>254.35973</td>\n",
       "      <td>0.0000</td>\n",
       "    </tr>\n",
       "    <tr>\n",
       "      <th>2549</th>\n",
       "      <td>2015-12-29</td>\n",
       "      <td>241.89023</td>\n",
       "      <td>0.0000</td>\n",
       "    </tr>\n",
       "    <tr>\n",
       "      <th>2550</th>\n",
       "      <td>2015-12-30</td>\n",
       "      <td>254.69104</td>\n",
       "      <td>0.0000</td>\n",
       "    </tr>\n",
       "    <tr>\n",
       "      <th>2551</th>\n",
       "      <td>2015-12-31</td>\n",
       "      <td>203.03522</td>\n",
       "      <td>0.0000</td>\n",
       "    </tr>\n",
       "    <tr>\n",
       "      <th>2552</th>\n",
       "      <td>NaT</td>\n",
       "      <td></td>\n",
       "      <td>NaN</td>\n",
       "    </tr>\n",
       "  </tbody>\n",
       "</table>\n",
       "<p>2553 rows × 3 columns</p>\n",
       "</div>"
      ],
      "text/plain": [
       "          DATES RUNOFF(Cumes)  AVERAGE RAINFALL(mm/day)\n",
       "0    2009-01-01     237.62383                    0.0000\n",
       "1    2009-01-02      238.6355                    0.0300\n",
       "2    2009-01-03           236                    0.0125\n",
       "3    2009-01-04           238                    0.0025\n",
       "4    2009-01-05     232.05756                    0.0000\n",
       "...         ...           ...                       ...\n",
       "2548 2015-12-28     254.35973                    0.0000\n",
       "2549 2015-12-29     241.89023                    0.0000\n",
       "2550 2015-12-30     254.69104                    0.0000\n",
       "2551 2015-12-31     203.03522                    0.0000\n",
       "2552        NaT                                     NaN\n",
       "\n",
       "[2553 rows x 3 columns]"
      ]
     },
     "execution_count": 3,
     "metadata": {},
     "output_type": "execute_result"
    }
   ],
   "source": [
    "data"
   ]
  },
  {
   "cell_type": "code",
   "execution_count": 4,
   "id": "7be809e9",
   "metadata": {},
   "outputs": [
    {
     "data": {
      "text/html": [
       "<div>\n",
       "<style scoped>\n",
       "    .dataframe tbody tr th:only-of-type {\n",
       "        vertical-align: middle;\n",
       "    }\n",
       "\n",
       "    .dataframe tbody tr th {\n",
       "        vertical-align: top;\n",
       "    }\n",
       "\n",
       "    .dataframe thead th {\n",
       "        text-align: right;\n",
       "    }\n",
       "</style>\n",
       "<table border=\"1\" class=\"dataframe\">\n",
       "  <thead>\n",
       "    <tr style=\"text-align: right;\">\n",
       "      <th></th>\n",
       "      <th>DATES</th>\n",
       "      <th>RUNOFF(Cumes)</th>\n",
       "      <th>AVERAGE RAINFALL(mm/day)</th>\n",
       "    </tr>\n",
       "  </thead>\n",
       "  <tbody>\n",
       "    <tr>\n",
       "      <th>0</th>\n",
       "      <td>2009-01-01</td>\n",
       "      <td>237.62383</td>\n",
       "      <td>0.0000</td>\n",
       "    </tr>\n",
       "    <tr>\n",
       "      <th>1</th>\n",
       "      <td>2009-01-02</td>\n",
       "      <td>238.63550</td>\n",
       "      <td>0.0300</td>\n",
       "    </tr>\n",
       "    <tr>\n",
       "      <th>2</th>\n",
       "      <td>2009-01-03</td>\n",
       "      <td>236.00000</td>\n",
       "      <td>0.0125</td>\n",
       "    </tr>\n",
       "    <tr>\n",
       "      <th>3</th>\n",
       "      <td>2009-01-04</td>\n",
       "      <td>238.00000</td>\n",
       "      <td>0.0025</td>\n",
       "    </tr>\n",
       "    <tr>\n",
       "      <th>4</th>\n",
       "      <td>2009-01-05</td>\n",
       "      <td>232.05756</td>\n",
       "      <td>0.0000</td>\n",
       "    </tr>\n",
       "    <tr>\n",
       "      <th>...</th>\n",
       "      <td>...</td>\n",
       "      <td>...</td>\n",
       "      <td>...</td>\n",
       "    </tr>\n",
       "    <tr>\n",
       "      <th>2547</th>\n",
       "      <td>2015-12-27</td>\n",
       "      <td>271.80314</td>\n",
       "      <td>0.0000</td>\n",
       "    </tr>\n",
       "    <tr>\n",
       "      <th>2548</th>\n",
       "      <td>2015-12-28</td>\n",
       "      <td>254.35973</td>\n",
       "      <td>0.0000</td>\n",
       "    </tr>\n",
       "    <tr>\n",
       "      <th>2549</th>\n",
       "      <td>2015-12-29</td>\n",
       "      <td>241.89023</td>\n",
       "      <td>0.0000</td>\n",
       "    </tr>\n",
       "    <tr>\n",
       "      <th>2550</th>\n",
       "      <td>2015-12-30</td>\n",
       "      <td>254.69104</td>\n",
       "      <td>0.0000</td>\n",
       "    </tr>\n",
       "    <tr>\n",
       "      <th>2551</th>\n",
       "      <td>2015-12-31</td>\n",
       "      <td>203.03522</td>\n",
       "      <td>0.0000</td>\n",
       "    </tr>\n",
       "  </tbody>\n",
       "</table>\n",
       "<p>2552 rows × 3 columns</p>\n",
       "</div>"
      ],
      "text/plain": [
       "          DATES  RUNOFF(Cumes)  AVERAGE RAINFALL(mm/day)\n",
       "0    2009-01-01      237.62383                    0.0000\n",
       "1    2009-01-02      238.63550                    0.0300\n",
       "2    2009-01-03      236.00000                    0.0125\n",
       "3    2009-01-04      238.00000                    0.0025\n",
       "4    2009-01-05      232.05756                    0.0000\n",
       "...         ...            ...                       ...\n",
       "2547 2015-12-27      271.80314                    0.0000\n",
       "2548 2015-12-28      254.35973                    0.0000\n",
       "2549 2015-12-29      241.89023                    0.0000\n",
       "2550 2015-12-30      254.69104                    0.0000\n",
       "2551 2015-12-31      203.03522                    0.0000\n",
       "\n",
       "[2552 rows x 3 columns]"
      ]
     },
     "execution_count": 4,
     "metadata": {},
     "output_type": "execute_result"
    }
   ],
   "source": [
    "data=data.drop(2552)\n",
    "data['RUNOFF(Cumes)']=data['RUNOFF(Cumes)'].astype('float')\n",
    "data"
   ]
  },
  {
   "cell_type": "code",
   "execution_count": 5,
   "id": "548a6cb8",
   "metadata": {},
   "outputs": [
    {
     "data": {
      "text/html": [
       "<div>\n",
       "<style scoped>\n",
       "    .dataframe tbody tr th:only-of-type {\n",
       "        vertical-align: middle;\n",
       "    }\n",
       "\n",
       "    .dataframe tbody tr th {\n",
       "        vertical-align: top;\n",
       "    }\n",
       "\n",
       "    .dataframe thead th {\n",
       "        text-align: right;\n",
       "    }\n",
       "</style>\n",
       "<table border=\"1\" class=\"dataframe\">\n",
       "  <thead>\n",
       "    <tr style=\"text-align: right;\">\n",
       "      <th></th>\n",
       "      <th>RUNOFF(Cumes)</th>\n",
       "      <th>AVERAGE RAINFALL(mm/day)</th>\n",
       "    </tr>\n",
       "  </thead>\n",
       "  <tbody>\n",
       "    <tr>\n",
       "      <th>count</th>\n",
       "      <td>2552.000000</td>\n",
       "      <td>2552.000000</td>\n",
       "    </tr>\n",
       "    <tr>\n",
       "      <th>mean</th>\n",
       "      <td>2536.308765</td>\n",
       "      <td>3.058114</td>\n",
       "    </tr>\n",
       "    <tr>\n",
       "      <th>std</th>\n",
       "      <td>5203.616438</td>\n",
       "      <td>6.225914</td>\n",
       "    </tr>\n",
       "    <tr>\n",
       "      <th>min</th>\n",
       "      <td>47.143963</td>\n",
       "      <td>0.000000</td>\n",
       "    </tr>\n",
       "    <tr>\n",
       "      <th>25%</th>\n",
       "      <td>255.896600</td>\n",
       "      <td>0.000000</td>\n",
       "    </tr>\n",
       "    <tr>\n",
       "      <th>50%</th>\n",
       "      <td>405.185800</td>\n",
       "      <td>0.178750</td>\n",
       "    </tr>\n",
       "    <tr>\n",
       "      <th>75%</th>\n",
       "      <td>2016.836550</td>\n",
       "      <td>3.177188</td>\n",
       "    </tr>\n",
       "    <tr>\n",
       "      <th>max</th>\n",
       "      <td>39046.710000</td>\n",
       "      <td>52.397500</td>\n",
       "    </tr>\n",
       "  </tbody>\n",
       "</table>\n",
       "</div>"
      ],
      "text/plain": [
       "       RUNOFF(Cumes)  AVERAGE RAINFALL(mm/day)\n",
       "count    2552.000000               2552.000000\n",
       "mean     2536.308765                  3.058114\n",
       "std      5203.616438                  6.225914\n",
       "min        47.143963                  0.000000\n",
       "25%       255.896600                  0.000000\n",
       "50%       405.185800                  0.178750\n",
       "75%      2016.836550                  3.177188\n",
       "max     39046.710000                 52.397500"
      ]
     },
     "execution_count": 5,
     "metadata": {},
     "output_type": "execute_result"
    }
   ],
   "source": [
    "data.describe()"
   ]
  },
  {
   "cell_type": "code",
   "execution_count": 6,
   "id": "f8f4b216",
   "metadata": {},
   "outputs": [],
   "source": [
    "data['RunOff (t-1)']=data['RUNOFF(Cumes)'].shift(1)\n",
    "data['RunOff (t-2)']=data['RUNOFF(Cumes)'].shift(2)\n",
    "data['RunOff (t-3)']=data['RUNOFF(Cumes)'].shift(3)\n",
    "data['RunOff (t-4)']=data['RUNOFF(Cumes)'].shift(4)\n",
    "data['AVERAGE RAINFALL(mm/day)(t-1)']=data['AVERAGE RAINFALL(mm/day)'].shift(1)\n",
    "data['AVERAGE RAINFALL(mm/day)(t-2)']=data['AVERAGE RAINFALL(mm/day)'].shift(2)\n",
    "data['AVERAGE RAINFALL(mm/day)(t-3)']=data['AVERAGE RAINFALL(mm/day)'].shift(3)\n",
    "data['AVERAGE RAINFALL(mm/day)(t-4)']=data['AVERAGE RAINFALL(mm/day)'].shift(4)"
   ]
  },
  {
   "cell_type": "code",
   "execution_count": 7,
   "id": "e212443b",
   "metadata": {},
   "outputs": [],
   "source": [
    "data.dropna(inplace=True)"
   ]
  },
  {
   "cell_type": "code",
   "execution_count": null,
   "id": "2420c841",
   "metadata": {},
   "outputs": [],
   "source": []
  },
  {
   "cell_type": "code",
   "execution_count": null,
   "id": "1155e569",
   "metadata": {},
   "outputs": [],
   "source": []
  },
  {
   "cell_type": "code",
   "execution_count": null,
   "id": "c1aff13a",
   "metadata": {},
   "outputs": [],
   "source": []
  },
  {
   "cell_type": "code",
   "execution_count": 8,
   "id": "3e2a4e4e",
   "metadata": {},
   "outputs": [],
   "source": [
    "data['Date']=data['DATES'].dt.day\n",
    "data['Month']=data['DATES'].dt.month\n",
    "data.set_index('DATES',inplace=True)"
   ]
  },
  {
   "cell_type": "code",
   "execution_count": 9,
   "id": "b6d47e45",
   "metadata": {},
   "outputs": [
    {
     "data": {
      "text/plain": [
       "<AxesSubplot:xlabel='DATES'>"
      ]
     },
     "execution_count": 9,
     "metadata": {},
     "output_type": "execute_result"
    },
    {
     "data": {
      "image/png": "[encoded data removed]",
      "text/plain": [
       "<Figure size 432x288 with 1 Axes>"
      ]
     },
     "metadata": {
      "needs_background": "light"
     },
     "output_type": "display_data"
    }
   ],
   "source": [
    "data['RUNOFF(Cumes)'].plot()"
   ]
  },
  {
   "cell_type": "code",
   "execution_count": 10,
   "id": "1b5ab0e0",
   "metadata": {},
   "outputs": [
    {
     "data": {
      "text/html": [
       "<div>\n",
       "<style scoped>\n",
       "    .dataframe tbody tr th:only-of-type {\n",
       "        vertical-align: middle;\n",
       "    }\n",
       "\n",
       "    .dataframe tbody tr th {\n",
       "        vertical-align: top;\n",
       "    }\n",
       "\n",
       "    .dataframe thead th {\n",
       "        text-align: right;\n",
       "    }\n",
       "</style>\n",
       "<table border=\"1\" class=\"dataframe\">\n",
       "  <thead>\n",
       "    <tr style=\"text-align: right;\">\n",
       "      <th></th>\n",
       "      <th>RUNOFF(Cumes)</th>\n",
       "      <th>AVERAGE RAINFALL(mm/day)</th>\n",
       "      <th>RunOff (t-1)</th>\n",
       "      <th>RunOff (t-2)</th>\n",
       "      <th>RunOff (t-3)</th>\n",
       "      <th>RunOff (t-4)</th>\n",
       "      <th>AVERAGE RAINFALL(mm/day)(t-1)</th>\n",
       "      <th>AVERAGE RAINFALL(mm/day)(t-2)</th>\n",
       "      <th>AVERAGE RAINFALL(mm/day)(t-3)</th>\n",
       "      <th>AVERAGE RAINFALL(mm/day)(t-4)</th>\n",
       "      <th>Date</th>\n",
       "      <th>Month</th>\n",
       "    </tr>\n",
       "    <tr>\n",
       "      <th>DATES</th>\n",
       "      <th></th>\n",
       "      <th></th>\n",
       "      <th></th>\n",
       "      <th></th>\n",
       "      <th></th>\n",
       "      <th></th>\n",
       "      <th></th>\n",
       "      <th></th>\n",
       "      <th></th>\n",
       "      <th></th>\n",
       "      <th></th>\n",
       "      <th></th>\n",
       "    </tr>\n",
       "  </thead>\n",
       "  <tbody>\n",
       "    <tr>\n",
       "      <th>2009-01-05</th>\n",
       "      <td>232.05756</td>\n",
       "      <td>0.000</td>\n",
       "      <td>238.00000</td>\n",
       "      <td>236.000000</td>\n",
       "      <td>238.635500</td>\n",
       "      <td>237.623830</td>\n",
       "      <td>0.0025</td>\n",
       "      <td>0.01250</td>\n",
       "      <td>0.03000</td>\n",
       "      <td>0.00000</td>\n",
       "      <td>5</td>\n",
       "      <td>1</td>\n",
       "    </tr>\n",
       "    <tr>\n",
       "      <th>2009-01-06</th>\n",
       "      <td>230.00000</td>\n",
       "      <td>0.000</td>\n",
       "      <td>232.05756</td>\n",
       "      <td>238.000000</td>\n",
       "      <td>236.000000</td>\n",
       "      <td>238.635500</td>\n",
       "      <td>0.0000</td>\n",
       "      <td>0.00250</td>\n",
       "      <td>0.01250</td>\n",
       "      <td>0.03000</td>\n",
       "      <td>6</td>\n",
       "      <td>1</td>\n",
       "    </tr>\n",
       "    <tr>\n",
       "      <th>2009-01-07</th>\n",
       "      <td>232.00000</td>\n",
       "      <td>0.000</td>\n",
       "      <td>230.00000</td>\n",
       "      <td>232.057560</td>\n",
       "      <td>238.000000</td>\n",
       "      <td>236.000000</td>\n",
       "      <td>0.0000</td>\n",
       "      <td>0.00000</td>\n",
       "      <td>0.00250</td>\n",
       "      <td>0.01250</td>\n",
       "      <td>7</td>\n",
       "      <td>1</td>\n",
       "    </tr>\n",
       "    <tr>\n",
       "      <th>2009-01-08</th>\n",
       "      <td>230.00000</td>\n",
       "      <td>0.005</td>\n",
       "      <td>232.00000</td>\n",
       "      <td>230.000000</td>\n",
       "      <td>232.057560</td>\n",
       "      <td>238.000000</td>\n",
       "      <td>0.0000</td>\n",
       "      <td>0.00000</td>\n",
       "      <td>0.00000</td>\n",
       "      <td>0.00250</td>\n",
       "      <td>8</td>\n",
       "      <td>1</td>\n",
       "    </tr>\n",
       "    <tr>\n",
       "      <th>2009-01-09</th>\n",
       "      <td>221.77718</td>\n",
       "      <td>0.000</td>\n",
       "      <td>230.00000</td>\n",
       "      <td>232.000000</td>\n",
       "      <td>230.000000</td>\n",
       "      <td>232.057560</td>\n",
       "      <td>0.0050</td>\n",
       "      <td>0.00000</td>\n",
       "      <td>0.00000</td>\n",
       "      <td>0.00000</td>\n",
       "      <td>9</td>\n",
       "      <td>1</td>\n",
       "    </tr>\n",
       "    <tr>\n",
       "      <th>...</th>\n",
       "      <td>...</td>\n",
       "      <td>...</td>\n",
       "      <td>...</td>\n",
       "      <td>...</td>\n",
       "      <td>...</td>\n",
       "      <td>...</td>\n",
       "      <td>...</td>\n",
       "      <td>...</td>\n",
       "      <td>...</td>\n",
       "      <td>...</td>\n",
       "      <td>...</td>\n",
       "      <td>...</td>\n",
       "    </tr>\n",
       "    <tr>\n",
       "      <th>2015-12-27</th>\n",
       "      <td>271.80314</td>\n",
       "      <td>0.000</td>\n",
       "      <td>289.24655</td>\n",
       "      <td>295.057503</td>\n",
       "      <td>300.868455</td>\n",
       "      <td>312.490360</td>\n",
       "      <td>0.2175</td>\n",
       "      <td>0.26875</td>\n",
       "      <td>0.00000</td>\n",
       "      <td>0.00000</td>\n",
       "      <td>27</td>\n",
       "      <td>12</td>\n",
       "    </tr>\n",
       "    <tr>\n",
       "      <th>2015-12-28</th>\n",
       "      <td>254.35973</td>\n",
       "      <td>0.000</td>\n",
       "      <td>271.80314</td>\n",
       "      <td>289.246550</td>\n",
       "      <td>295.057503</td>\n",
       "      <td>300.868455</td>\n",
       "      <td>0.0000</td>\n",
       "      <td>0.21750</td>\n",
       "      <td>0.26875</td>\n",
       "      <td>0.00000</td>\n",
       "      <td>28</td>\n",
       "      <td>12</td>\n",
       "    </tr>\n",
       "    <tr>\n",
       "      <th>2015-12-29</th>\n",
       "      <td>241.89023</td>\n",
       "      <td>0.000</td>\n",
       "      <td>254.35973</td>\n",
       "      <td>271.803140</td>\n",
       "      <td>289.246550</td>\n",
       "      <td>295.057503</td>\n",
       "      <td>0.0000</td>\n",
       "      <td>0.00000</td>\n",
       "      <td>0.21750</td>\n",
       "      <td>0.26875</td>\n",
       "      <td>29</td>\n",
       "      <td>12</td>\n",
       "    </tr>\n",
       "    <tr>\n",
       "      <th>2015-12-30</th>\n",
       "      <td>254.69104</td>\n",
       "      <td>0.000</td>\n",
       "      <td>241.89023</td>\n",
       "      <td>254.359730</td>\n",
       "      <td>271.803140</td>\n",
       "      <td>289.246550</td>\n",
       "      <td>0.0000</td>\n",
       "      <td>0.00000</td>\n",
       "      <td>0.00000</td>\n",
       "      <td>0.21750</td>\n",
       "      <td>30</td>\n",
       "      <td>12</td>\n",
       "    </tr>\n",
       "    <tr>\n",
       "      <th>2015-12-31</th>\n",
       "      <td>203.03522</td>\n",
       "      <td>0.000</td>\n",
       "      <td>254.69104</td>\n",
       "      <td>241.890230</td>\n",
       "      <td>254.359730</td>\n",
       "      <td>271.803140</td>\n",
       "      <td>0.0000</td>\n",
       "      <td>0.00000</td>\n",
       "      <td>0.00000</td>\n",
       "      <td>0.00000</td>\n",
       "      <td>31</td>\n",
       "      <td>12</td>\n",
       "    </tr>\n",
       "  </tbody>\n",
       "</table>\n",
       "<p>2548 rows × 12 columns</p>\n",
       "</div>"
      ],
      "text/plain": [
       "            RUNOFF(Cumes)  AVERAGE RAINFALL(mm/day)  RunOff (t-1)  \\\n",
       "DATES                                                               \n",
       "2009-01-05      232.05756                     0.000     238.00000   \n",
       "2009-01-06      230.00000                     0.000     232.05756   \n",
       "2009-01-07      232.00000                     0.000     230.00000   \n",
       "2009-01-08      230.00000                     0.005     232.00000   \n",
       "2009-01-09      221.77718                     0.000     230.00000   \n",
       "...                   ...                       ...           ...   \n",
       "2015-12-27      271.80314                     0.000     289.24655   \n",
       "2015-12-28      254.35973                     0.000     271.80314   \n",
       "2015-12-29      241.89023                     0.000     254.35973   \n",
       "2015-12-30      254.69104                     0.000     241.89023   \n",
       "2015-12-31      203.03522                     0.000     254.69104   \n",
       "\n",
       "            RunOff (t-2)  RunOff (t-3)  RunOff (t-4)  \\\n",
       "DATES                                                  \n",
       "2009-01-05    236.000000    238.635500    237.623830   \n",
       "2009-01-06    238.000000    236.000000    238.635500   \n",
       "2009-01-07    232.057560    238.000000    236.000000   \n",
       "2009-01-08    230.000000    232.057560    238.000000   \n",
       "2009-01-09    232.000000    230.000000    232.057560   \n",
       "...                  ...           ...           ...   \n",
       "2015-12-27    295.057503    300.868455    312.490360   \n",
       "2015-12-28    289.246550    295.057503    300.868455   \n",
       "2015-12-29    271.803140    289.246550    295.057503   \n",
       "2015-12-30    254.359730    271.803140    289.246550   \n",
       "2015-12-31    241.890230    254.359730    271.803140   \n",
       "\n",
       "            AVERAGE RAINFALL(mm/day)(t-1)  AVERAGE RAINFALL(mm/day)(t-2)  \\\n",
       "DATES                                                                      \n",
       "2009-01-05                         0.0025                        0.01250   \n",
       "2009-01-06                         0.0000                        0.00250   \n",
       "2009-01-07                         0.0000                        0.00000   \n",
       "2009-01-08                         0.0000                        0.00000   \n",
       "2009-01-09                         0.0050                        0.00000   \n",
       "...                                   ...                            ...   \n",
       "2015-12-27                         0.2175                        0.26875   \n",
       "2015-12-28                         0.0000                        0.21750   \n",
       "2015-12-29                         0.0000                        0.00000   \n",
       "2015-12-30                         0.0000                        0.00000   \n",
       "2015-12-31                         0.0000                        0.00000   \n",
       "\n",
       "            AVERAGE RAINFALL(mm/day)(t-3)  AVERAGE RAINFALL(mm/day)(t-4)  \\\n",
       "DATES                                                                      \n",
       "2009-01-05                        0.03000                        0.00000   \n",
       "2009-01-06                        0.01250                        0.03000   \n",
       "2009-01-07                        0.00250                        0.01250   \n",
       "2009-01-08                        0.00000                        0.00250   \n",
       "2009-01-09                        0.00000                        0.00000   \n",
       "...                                   ...                            ...   \n",
       "2015-12-27                        0.00000                        0.00000   \n",
       "2015-12-28                        0.26875                        0.00000   \n",
       "2015-12-29                        0.21750                        0.26875   \n",
       "2015-12-30                        0.00000                        0.21750   \n",
       "2015-12-31                        0.00000                        0.00000   \n",
       "\n",
       "            Date  Month  \n",
       "DATES                    \n",
       "2009-01-05     5      1  \n",
       "2009-01-06     6      1  \n",
       "2009-01-07     7      1  \n",
       "2009-01-08     8      1  \n",
       "2009-01-09     9      1  \n",
       "...          ...    ...  \n",
       "2015-12-27    27     12  \n",
       "2015-12-28    28     12  \n",
       "2015-12-29    29     12  \n",
       "2015-12-30    30     12  \n",
       "2015-12-31    31     12  \n",
       "\n",
       "[2548 rows x 12 columns]"
      ]
     },
     "execution_count": 10,
     "metadata": {},
     "output_type": "execute_result"
    }
   ],
   "source": [
    "data"
   ]
  },
  {
   "cell_type": "code",
   "execution_count": 11,
   "id": "d33291e1",
   "metadata": {},
   "outputs": [
    {
     "name": "stdout",
     "output_type": "stream",
     "text": [
      "<class 'pandas.core.frame.DataFrame'>\n",
      "DatetimeIndex: 2548 entries, 2009-01-05 to 2015-12-31\n",
      "Data columns (total 12 columns):\n",
      " #   Column                         Non-Null Count  Dtype  \n",
      "---  ------                         --------------  -----  \n",
      " 0   RUNOFF(Cumes)                  2548 non-null   float64\n",
      " 1   AVERAGE RAINFALL(mm/day)       2548 non-null   float64\n",
      " 2   RunOff (t-1)                   2548 non-null   float64\n",
      " 3   RunOff (t-2)                   2548 non-null   float64\n",
      " 4   RunOff (t-3)                   2548 non-null   float64\n",
      " 5   RunOff (t-4)                   2548 non-null   float64\n",
      " 6   AVERAGE RAINFALL(mm/day)(t-1)  2548 non-null   float64\n",
      " 7   AVERAGE RAINFALL(mm/day)(t-2)  2548 non-null   float64\n",
      " 8   AVERAGE RAINFALL(mm/day)(t-3)  2548 non-null   float64\n",
      " 9   AVERAGE RAINFALL(mm/day)(t-4)  2548 non-null   float64\n",
      " 10  Date                           2548 non-null   int64  \n",
      " 11  Month                          2548 non-null   int64  \n",
      "dtypes: float64(10), int64(2)\n",
      "memory usage: 258.8 KB\n"
     ]
    }
   ],
   "source": [
    "data.info()"
   ]
  },
  {
   "cell_type": "code",
   "execution_count": 12,
   "id": "bec06620",
   "metadata": {},
   "outputs": [
    {
     "data": {
      "text/html": [
       "<div>\n",
       "<style scoped>\n",
       "    .dataframe tbody tr th:only-of-type {\n",
       "        vertical-align: middle;\n",
       "    }\n",
       "\n",
       "    .dataframe tbody tr th {\n",
       "        vertical-align: top;\n",
       "    }\n",
       "\n",
       "    .dataframe thead th {\n",
       "        text-align: right;\n",
       "    }\n",
       "</style>\n",
       "<table border=\"1\" class=\"dataframe\">\n",
       "  <thead>\n",
       "    <tr style=\"text-align: right;\">\n",
       "      <th></th>\n",
       "      <th>RUNOFF(Cumes)</th>\n",
       "      <th>AVERAGE RAINFALL(mm/day)</th>\n",
       "      <th>RunOff (t-1)</th>\n",
       "      <th>RunOff (t-2)</th>\n",
       "      <th>RunOff (t-3)</th>\n",
       "      <th>RunOff (t-4)</th>\n",
       "      <th>AVERAGE RAINFALL(mm/day)(t-1)</th>\n",
       "      <th>AVERAGE RAINFALL(mm/day)(t-2)</th>\n",
       "      <th>AVERAGE RAINFALL(mm/day)(t-3)</th>\n",
       "      <th>AVERAGE RAINFALL(mm/day)(t-4)</th>\n",
       "      <th>Date</th>\n",
       "      <th>Month</th>\n",
       "    </tr>\n",
       "  </thead>\n",
       "  <tbody>\n",
       "    <tr>\n",
       "      <th>count</th>\n",
       "      <td>2548.000000</td>\n",
       "      <td>2548.000000</td>\n",
       "      <td>2548.000000</td>\n",
       "      <td>2548.000000</td>\n",
       "      <td>2548.000000</td>\n",
       "      <td>2548.000000</td>\n",
       "      <td>2548.000000</td>\n",
       "      <td>2548.000000</td>\n",
       "      <td>2548.000000</td>\n",
       "      <td>2548.000000</td>\n",
       "      <td>2548.000000</td>\n",
       "      <td>2548.000000</td>\n",
       "    </tr>\n",
       "    <tr>\n",
       "      <th>mean</th>\n",
       "      <td>2539.917468</td>\n",
       "      <td>3.062897</td>\n",
       "      <td>2539.931191</td>\n",
       "      <td>2539.923855</td>\n",
       "      <td>2539.922578</td>\n",
       "      <td>2539.916009</td>\n",
       "      <td>3.062898</td>\n",
       "      <td>3.062903</td>\n",
       "      <td>3.062915</td>\n",
       "      <td>3.062915</td>\n",
       "      <td>15.736656</td>\n",
       "      <td>6.528650</td>\n",
       "    </tr>\n",
       "    <tr>\n",
       "      <th>std</th>\n",
       "      <td>5206.902822</td>\n",
       "      <td>6.229629</td>\n",
       "      <td>5206.896707</td>\n",
       "      <td>5206.899941</td>\n",
       "      <td>5206.900505</td>\n",
       "      <td>5206.903400</td>\n",
       "      <td>6.229629</td>\n",
       "      <td>6.229627</td>\n",
       "      <td>6.229621</td>\n",
       "      <td>6.229621</td>\n",
       "      <td>8.790148</td>\n",
       "      <td>3.445402</td>\n",
       "    </tr>\n",
       "    <tr>\n",
       "      <th>min</th>\n",
       "      <td>47.143963</td>\n",
       "      <td>0.000000</td>\n",
       "      <td>47.143963</td>\n",
       "      <td>47.143963</td>\n",
       "      <td>47.143963</td>\n",
       "      <td>47.143963</td>\n",
       "      <td>0.000000</td>\n",
       "      <td>0.000000</td>\n",
       "      <td>0.000000</td>\n",
       "      <td>0.000000</td>\n",
       "      <td>1.000000</td>\n",
       "      <td>1.000000</td>\n",
       "    </tr>\n",
       "    <tr>\n",
       "      <th>25%</th>\n",
       "      <td>257.345627</td>\n",
       "      <td>0.000000</td>\n",
       "      <td>257.345627</td>\n",
       "      <td>257.345627</td>\n",
       "      <td>257.345627</td>\n",
       "      <td>257.345627</td>\n",
       "      <td>0.000000</td>\n",
       "      <td>0.000000</td>\n",
       "      <td>0.000000</td>\n",
       "      <td>0.000000</td>\n",
       "      <td>8.000000</td>\n",
       "      <td>4.000000</td>\n",
       "    </tr>\n",
       "    <tr>\n",
       "      <th>50%</th>\n",
       "      <td>406.446200</td>\n",
       "      <td>0.182500</td>\n",
       "      <td>406.446200</td>\n",
       "      <td>406.446200</td>\n",
       "      <td>406.446200</td>\n",
       "      <td>406.446200</td>\n",
       "      <td>0.182500</td>\n",
       "      <td>0.182500</td>\n",
       "      <td>0.182500</td>\n",
       "      <td>0.182500</td>\n",
       "      <td>16.000000</td>\n",
       "      <td>7.000000</td>\n",
       "    </tr>\n",
       "    <tr>\n",
       "      <th>75%</th>\n",
       "      <td>2047.471900</td>\n",
       "      <td>3.184688</td>\n",
       "      <td>2047.471900</td>\n",
       "      <td>2047.471900</td>\n",
       "      <td>2047.471900</td>\n",
       "      <td>2047.471900</td>\n",
       "      <td>3.184688</td>\n",
       "      <td>3.184688</td>\n",
       "      <td>3.184688</td>\n",
       "      <td>3.184688</td>\n",
       "      <td>23.000000</td>\n",
       "      <td>10.000000</td>\n",
       "    </tr>\n",
       "    <tr>\n",
       "      <th>max</th>\n",
       "      <td>39046.710000</td>\n",
       "      <td>52.397500</td>\n",
       "      <td>39046.710000</td>\n",
       "      <td>39046.710000</td>\n",
       "      <td>39046.710000</td>\n",
       "      <td>39046.710000</td>\n",
       "      <td>52.397500</td>\n",
       "      <td>52.397500</td>\n",
       "      <td>52.397500</td>\n",
       "      <td>52.397500</td>\n",
       "      <td>31.000000</td>\n",
       "      <td>12.000000</td>\n",
       "    </tr>\n",
       "  </tbody>\n",
       "</table>\n",
       "</div>"
      ],
      "text/plain": [
       "       RUNOFF(Cumes)  AVERAGE RAINFALL(mm/day)  RunOff (t-1)  RunOff (t-2)  \\\n",
       "count    2548.000000               2548.000000   2548.000000   2548.000000   \n",
       "mean     2539.917468                  3.062897   2539.931191   2539.923855   \n",
       "std      5206.902822                  6.229629   5206.896707   5206.899941   \n",
       "min        47.143963                  0.000000     47.143963     47.143963   \n",
       "25%       257.345627                  0.000000    257.345627    257.345627   \n",
       "50%       406.446200                  0.182500    406.446200    406.446200   \n",
       "75%      2047.471900                  3.184688   2047.471900   2047.471900   \n",
       "max     39046.710000                 52.397500  39046.710000  39046.710000   \n",
       "\n",
       "       RunOff (t-3)  RunOff (t-4)  AVERAGE RAINFALL(mm/day)(t-1)  \\\n",
       "count   2548.000000   2548.000000                    2548.000000   \n",
       "mean    2539.922578   2539.916009                       3.062898   \n",
       "std     5206.900505   5206.903400                       6.229629   \n",
       "min       47.143963     47.143963                       0.000000   \n",
       "25%      257.345627    257.345627                       0.000000   \n",
       "50%      406.446200    406.446200                       0.182500   \n",
       "75%     2047.471900   2047.471900                       3.184688   \n",
       "max    39046.710000  39046.710000                      52.397500   \n",
       "\n",
       "       AVERAGE RAINFALL(mm/day)(t-2)  AVERAGE RAINFALL(mm/day)(t-3)  \\\n",
       "count                    2548.000000                    2548.000000   \n",
       "mean                        3.062903                       3.062915   \n",
       "std                         6.229627                       6.229621   \n",
       "min                         0.000000                       0.000000   \n",
       "25%                         0.000000                       0.000000   \n",
       "50%                         0.182500                       0.182500   \n",
       "75%                         3.184688                       3.184688   \n",
       "max                        52.397500                      52.397500   \n",
       "\n",
       "       AVERAGE RAINFALL(mm/day)(t-4)         Date        Month  \n",
       "count                    2548.000000  2548.000000  2548.000000  \n",
       "mean                        3.062915    15.736656     6.528650  \n",
       "std                         6.229621     8.790148     3.445402  \n",
       "min                         0.000000     1.000000     1.000000  \n",
       "25%                         0.000000     8.000000     4.000000  \n",
       "50%                         0.182500    16.000000     7.000000  \n",
       "75%                         3.184688    23.000000    10.000000  \n",
       "max                        52.397500    31.000000    12.000000  "
      ]
     },
     "execution_count": 12,
     "metadata": {},
     "output_type": "execute_result"
    }
   ],
   "source": [
    "data.describe()"
   ]
  },
  {
   "cell_type": "code",
   "execution_count": 13,
   "id": "c309c0f4",
   "metadata": {},
   "outputs": [
    {
     "data": {
      "text/plain": [
       "Index(['RUNOFF(Cumes)', 'AVERAGE RAINFALL(mm/day)', 'RunOff (t-1)',\n",
       "       'RunOff (t-2)', 'RunOff (t-3)', 'RunOff (t-4)',\n",
       "       'AVERAGE RAINFALL(mm/day)(t-1)', 'AVERAGE RAINFALL(mm/day)(t-2)',\n",
       "       'AVERAGE RAINFALL(mm/day)(t-3)', 'AVERAGE RAINFALL(mm/day)(t-4)',\n",
       "       'Date', 'Month'],\n",
       "      dtype='object')"
      ]
     },
     "execution_count": 13,
     "metadata": {},
     "output_type": "execute_result"
    }
   ],
   "source": [
    "data.columns"
   ]
  },
  {
   "cell_type": "code",
   "execution_count": 14,
   "id": "2e0338c0",
   "metadata": {},
   "outputs": [],
   "source": [
    "y=data['RUNOFF(Cumes)']\n",
    "x=data.drop('RUNOFF(Cumes)',axis=1)"
   ]
  },
  {
   "cell_type": "markdown",
   "id": "c88b3c32",
   "metadata": {},
   "source": [
    "# 100% Data"
   ]
  },
  {
   "cell_type": "code",
   "execution_count": 15,
   "id": "0e7d4e9c",
   "metadata": {},
   "outputs": [],
   "source": [
    "from sklearn.svm import SVR\n",
    "from xgboost import XGBRegressor\n",
    "from sklearn.ensemble import RandomForestRegressor\n",
    "from sklearn.tree import DecisionTreeRegressor \n",
    "import math\n",
    "from sklearn.metrics import mean_squared_error\n",
    "from sklearn.metrics import r2_score\n",
    "from sklearn.metrics import mean_absolute_error"
   ]
  },
  {
   "cell_type": "markdown",
   "id": "ec6de146",
   "metadata": {},
   "source": [
    "# SVR"
   ]
  },
  {
   "cell_type": "code",
   "execution_count": 16,
   "id": "f83b4c72",
   "metadata": {},
   "outputs": [
    {
     "data": {
      "text/plain": [
       "SVR()"
      ]
     },
     "execution_count": 16,
     "metadata": {},
     "output_type": "execute_result"
    }
   ],
   "source": [
    "model=SVR()\n",
    "model.fit(x,y)"
   ]
  },
  {
   "cell_type": "code",
   "execution_count": null,
   "id": "f2f99378",
   "metadata": {},
   "outputs": [],
   "source": [
    "model = SVR(kernel='linear',C=1.0)\n",
    "model.fit(x,y)\n",
    "print('accuracy:',model.score(x,y))"
   ]
  },
  {
   "cell_type": "code",
   "execution_count": null,
   "id": "755238d7",
   "metadata": {},
   "outputs": [],
   "source": [
    "pred=model.predict(x)\n",
    "results=pd.DataFrame({'pred':list(pred),'actual':y})"
   ]
  },
  {
   "cell_type": "code",
   "execution_count": null,
   "id": "5b121d71",
   "metadata": {},
   "outputs": [],
   "source": [
    "results.plot()\n",
    "plt.xlabel(\"Date\")\n",
    "plt.ylabel(\"Runoff\")\n",
    "plt.title(\"SVR\")"
   ]
  },
  {
   "cell_type": "code",
   "execution_count": null,
   "id": "c11319e8",
   "metadata": {},
   "outputs": [],
   "source": [
    "results"
   ]
  },
  {
   "cell_type": "code",
   "execution_count": null,
   "id": "98269cb1",
   "metadata": {},
   "outputs": [],
   "source": [
    "results.to_csv('100_svr.csv')"
   ]
  },
  {
   "cell_type": "code",
   "execution_count": null,
   "id": "1b03f689",
   "metadata": {},
   "outputs": [],
   "source": []
  },
  {
   "cell_type": "markdown",
   "id": "32ca8c37",
   "metadata": {},
   "source": [
    "#  Decision tree"
   ]
  },
  {
   "cell_type": "code",
   "execution_count": null,
   "id": "29cad484",
   "metadata": {},
   "outputs": [],
   "source": [
    "model=DecisionTreeRegressor()"
   ]
  },
  {
   "cell_type": "code",
   "execution_count": null,
   "id": "83a592e1",
   "metadata": {},
   "outputs": [],
   "source": [
    "model.fit(x,y)\n",
    "pred=model.predict(x)\n",
    "results=pd.DataFrame({'pred':list(pred),'actual':y})"
   ]
  },
  {
   "cell_type": "code",
   "execution_count": null,
   "id": "697a7f93",
   "metadata": {},
   "outputs": [],
   "source": [
    "results.plot()"
   ]
  },
  {
   "cell_type": "code",
   "execution_count": null,
   "id": "34199d96",
   "metadata": {},
   "outputs": [],
   "source": [
    "print('accuracy:',model.score(x,y))"
   ]
  },
  {
   "cell_type": "code",
   "execution_count": null,
   "id": "bf36b92e",
   "metadata": {},
   "outputs": [],
   "source": [
    "results"
   ]
  },
  {
   "cell_type": "code",
   "execution_count": null,
   "id": "3c450229",
   "metadata": {},
   "outputs": [],
   "source": [
    "results.to_csv('100_Decisiontree.csv')"
   ]
  },
  {
   "cell_type": "markdown",
   "id": "44d197f9",
   "metadata": {},
   "source": [
    "# RandomForest"
   ]
  },
  {
   "cell_type": "code",
   "execution_count": null,
   "id": "9b91b3c6",
   "metadata": {},
   "outputs": [],
   "source": [
    "model=RandomForestRegressor()"
   ]
  },
  {
   "cell_type": "code",
   "execution_count": null,
   "id": "41946f15",
   "metadata": {},
   "outputs": [],
   "source": [
    "model.fit(x,y)\n",
    "pred=model.predict(x)\n",
    "results=pd.DataFrame({'pred':list(pred),'actual':y})"
   ]
  },
  {
   "cell_type": "code",
   "execution_count": null,
   "id": "a08cd72e",
   "metadata": {},
   "outputs": [],
   "source": [
    "results.plot()"
   ]
  },
  {
   "cell_type": "code",
   "execution_count": null,
   "id": "46570d2c",
   "metadata": {},
   "outputs": [],
   "source": [
    "print('accuracy:',model.score(x,y))"
   ]
  },
  {
   "cell_type": "code",
   "execution_count": null,
   "id": "9289a80a",
   "metadata": {},
   "outputs": [],
   "source": [
    "results.to_csv('100_RandomForest.csv')"
   ]
  },
  {
   "cell_type": "markdown",
   "id": "a3b9490c",
   "metadata": {},
   "source": [
    "# XG Booster"
   ]
  },
  {
   "cell_type": "code",
   "execution_count": null,
   "id": "020e08ed",
   "metadata": {},
   "outputs": [],
   "source": [
    "model=XGBRegressor()"
   ]
  },
  {
   "cell_type": "code",
   "execution_count": null,
   "id": "86f4fc2e",
   "metadata": {},
   "outputs": [],
   "source": [
    "model.fit(x,y)\n",
    "pred=model.predict(x)\n",
    "results=pd.DataFrame({'pred':list(pred),'actual':y})"
   ]
  },
  {
   "cell_type": "code",
   "execution_count": null,
   "id": "3dbb5240",
   "metadata": {},
   "outputs": [],
   "source": [
    "results.to_csv('100_XG Booster.csv')"
   ]
  },
  {
   "cell_type": "code",
   "execution_count": null,
   "id": "367ca366",
   "metadata": {},
   "outputs": [],
   "source": [
    "results.plot()"
   ]
  },
  {
   "cell_type": "code",
   "execution_count": null,
   "id": "25e7498f",
   "metadata": {},
   "outputs": [],
   "source": [
    "print('accuracy:',model.score(x,y))"
   ]
  },
  {
   "cell_type": "code",
   "execution_count": null,
   "id": "e878e9b7",
   "metadata": {},
   "outputs": [],
   "source": [
    "ml=[]\n",
    "values={}\n",
    "model=DecisionTreeRegressor()\n",
    "ml.append(model)\n",
    "model=RandomForestRegressor()\n",
    "ml.append(model)\n",
    "model=XGBRegressor()\n",
    "ml.append(model)\n",
    "model=SVR(kernel='linear')\n",
    "ml.append(model)"
   ]
  },
  {
   "cell_type": "code",
   "execution_count": null,
   "id": "11ae0a03",
   "metadata": {},
   "outputs": [],
   "source": [
    "for i in ml:\n",
    "    i.fit(x,y)\n",
    "    pred=i.predict(x)\n",
    "    r2=r2_score(y,pred)\n",
    "    rmse=np.sqrt(mean_squared_error(y,pred))\n",
    "    adj_r2= 1 - ( 1-i.score(x, y) ) * ( len(y) - 1 ) / ( len(y) - x.shape[1] - 1 )\n",
    "    mae=mean_absolute_error(y,pred)\n",
    "    values[str(i)[:12]]=[adj_r2,rmse,r2,mae]"
   ]
  },
  {
   "cell_type": "code",
   "execution_count": null,
   "id": "8694bb31",
   "metadata": {},
   "outputs": [],
   "source": [
    "values=pd.DataFrame(values)\n",
    "values.index=['adj_R2_Score','RMSE','R2','MAE']\n",
    "values"
   ]
  },
  {
   "cell_type": "markdown",
   "id": "599463a5",
   "metadata": {},
   "source": [
    "#  80 - 20 Training-Testing"
   ]
  },
  {
   "cell_type": "code",
   "execution_count": null,
   "id": "914e56dd",
   "metadata": {},
   "outputs": [],
   "source": [
    "from sklearn.model_selection import train_test_split"
   ]
  },
  {
   "cell_type": "code",
   "execution_count": null,
   "id": "d4f51f60",
   "metadata": {},
   "outputs": [],
   "source": [
    "x_train,x_test,y_train,y_test=train_test_split(x,y,test_size=0.2,shuffle=False)"
   ]
  },
  {
   "cell_type": "markdown",
   "id": "d2f74901",
   "metadata": {},
   "source": [
    "# SVR"
   ]
  },
  {
   "cell_type": "code",
   "execution_count": null,
   "id": "8264530c",
   "metadata": {},
   "outputs": [],
   "source": [
    "model=SVR()\n",
    "model = SVR(kernel='linear',C=1.0)\n",
    "model.fit(x_train,y_train)"
   ]
  },
  {
   "cell_type": "code",
   "execution_count": null,
   "id": "f5b6538a",
   "metadata": {},
   "outputs": [],
   "source": [
    "pred=model.predict(x_train)\n",
    "results=pd.DataFrame({'predicted':list(pred),'observed':y_train})\n",
    "results['predicted'].plot(color='red',linestyle='--')\n",
    "results['observed'].plot(color='black',linestyle='-')\n",
    "plt.xlabel('Days')\n",
    "plt.ylabel('Runoff(cumes)')\n",
    "plt.title('SVR_80')\n",
    "plt.legend(loc='upper right')\n",
    "plt.savefig('SVR_80_scatter.png')\n",
    "plt.show()"
   ]
  },
  {
   "cell_type": "code",
   "execution_count": null,
   "id": "2d9719f7",
   "metadata": {},
   "outputs": [],
   "source": [
    "results.to_csv('80_svr.csv')\n",
    "plt.scatter(pred,y_train)\n",
    "m, b = np.polyfit(pred,y_train, 1)\n",
    "\n",
    "#add linear regression line to scatterplot \n",
    "plt.plot(pred,m*pred+b)\n",
    "plt.xlabel('predicted')\n",
    "plt.ylabel('observed')\n",
    "plt.title('80_SVR')\n",
    "plt.savefig('80_SVR_scatter.jpg')"
   ]
  },
  {
   "cell_type": "code",
   "execution_count": null,
   "id": "22a69c2b",
   "metadata": {},
   "outputs": [],
   "source": [
    "results"
   ]
  },
  {
   "cell_type": "code",
   "execution_count": null,
   "id": "2f6e0f43",
   "metadata": {},
   "outputs": [],
   "source": []
  },
  {
   "cell_type": "code",
   "execution_count": null,
   "id": "80130e2d",
   "metadata": {},
   "outputs": [],
   "source": [
    "def fun(a,p):\n",
    "    ARE = []\n",
    "    n = len(pred)\n",
    "    for i in range(n):\n",
    "        val = (abs(a[i]-p[i])/a[i])*100\n",
    "        ARE.append(val)\n",
    "    c = 0\n",
    "    for i in range(n):\n",
    "        if ARE[i]<75:\n",
    "            c+=1\n",
    "    TS_75 = (c*100)/n\n",
    "    \n",
    "    d = 0\n",
    "    for i in range(n):\n",
    "        if ARE[i]<100:\n",
    "            d+=1\n",
    "    TS_100 = (d*100)/n\n",
    "    \n",
    "    return TS_75,TS_100\n",
    "\n",
    "TS_75,TS_100 = fun(y_train,pred)\n",
    "\n",
    "print(\"TS 75: \", TS_75, \"TS 100: \", TS_100)\n",
    "    "
   ]
  },
  {
   "cell_type": "code",
   "execution_count": null,
   "id": "bc538ad8",
   "metadata": {},
   "outputs": [],
   "source": [
    "print('accuracy:',model.score(x_train,y_train))\n",
    "no_of_observations=results.count()   \n",
    "type(no_of_observations)"
   ]
  },
  {
   "cell_type": "code",
   "execution_count": null,
   "id": "c90d4e03",
   "metadata": {},
   "outputs": [],
   "source": [
    "pred=model.predict(x_test)\n",
    "results=pd.DataFrame({'predicted':list(pred),'observed':y_test})"
   ]
  },
  {
   "cell_type": "code",
   "execution_count": null,
   "id": "5bc31460",
   "metadata": {},
   "outputs": [],
   "source": [
    "results.to_csv('20_svr.csv')\n",
    "plt.scatter(pred,y_test)\n",
    "m, b = np.polyfit(pred,y_test, 1)\n",
    "\n",
    "#add linear regression line to scatterplot \n",
    "plt.plot(pred,m*pred+b)\n",
    "plt.xlabel('predicted')\n",
    "plt.ylabel('observed')\n",
    "plt.title('20_SVR')\n",
    "plt.savefig('20_SVR_scatter.jpg')"
   ]
  },
  {
   "cell_type": "code",
   "execution_count": null,
   "id": "ca390ea6",
   "metadata": {},
   "outputs": [],
   "source": [
    "results['predicted'].plot(color='red',linestyle='--')\n",
    "results['observed'].plot(color='black',linestyle='-')\n",
    "plt.xlabel('Days')\n",
    "plt.ylabel('Runoff(cumes)')\n",
    "plt.title('SVR_20')\n",
    "plt.legend(loc='upper right')\n",
    "plt.savefig('SVR_20_scatter.png')\n",
    "plt.show()"
   ]
  },
  {
   "cell_type": "code",
   "execution_count": null,
   "id": "465d0dbd",
   "metadata": {},
   "outputs": [],
   "source": [
    "print('accuracy:',model.score(x_test,y_test))\n",
    "def fun(a,p):\n",
    "    ARE = []\n",
    "    n = len(pred)\n",
    "    for i in range(n):\n",
    "        val = (abs(a[i]-p[i])/a[i])*100\n",
    "        ARE.append(val)\n",
    "    c = 0\n",
    "    for i in range(n):\n",
    "        if ARE[i]<75:\n",
    "            c+=1\n",
    "    TS_75 = (c*100)/n\n",
    "    \n",
    "    d = 0\n",
    "    for i in range(n):\n",
    "        if ARE[i]<100:\n",
    "            d+=1\n",
    "    TS_100 = (d*100)/n\n",
    "    \n",
    "    return TS_75,TS_100\n",
    "\n",
    "TS_75,TS_100 = fun(y_test,pred)\n",
    "\n",
    "print(\"TS 75: \", TS_75, \"TS 100: \", TS_100)"
   ]
  },
  {
   "cell_type": "markdown",
   "id": "52a26354",
   "metadata": {},
   "source": [
    "#  Decision tree"
   ]
  },
  {
   "cell_type": "code",
   "execution_count": null,
   "id": "dfe010d9",
   "metadata": {},
   "outputs": [],
   "source": [
    "model=DecisionTreeRegressor()"
   ]
  },
  {
   "cell_type": "code",
   "execution_count": null,
   "id": "7b7be197",
   "metadata": {},
   "outputs": [],
   "source": [
    "model.fit(x_train,y_train)\n",
    "pred=model.predict(x_train)\n",
    "results=pd.DataFrame({'predicted':list(pred),'observed':y_train})\n",
    "results['predicted'].plot(color='red',linestyle='--')\n",
    "results['observed'].plot(color='black',linestyle='-')\n",
    "plt.xlabel('Days')\n",
    "plt.ylabel('Runoff(cumes)')\n",
    "plt.title('DT_80')\n",
    "plt.legend(loc='upper right')\n",
    "plt.savefig('DT_80_scatter.png')\n",
    "plt.show()"
   ]
  },
  {
   "cell_type": "code",
   "execution_count": null,
   "id": "ba9a617e",
   "metadata": {},
   "outputs": [],
   "source": [
    "results.to_csv('80_Decisiontree.csv')\n",
    "plt.scatter(pred,y_train)\n",
    "m, b = np.polyfit(pred,y_train, 1)\n",
    "\n",
    "#add linear regression line to scatterplot \n",
    "plt.plot(pred,m*pred+b)\n",
    "plt.xlabel('predicted')\n",
    "plt.ylabel('observed')\n",
    "plt.title('80_DT_')\n",
    "plt.savefig('80_DT_scatter.jpg')"
   ]
  },
  {
   "cell_type": "code",
   "execution_count": null,
   "id": "e44b8aa6",
   "metadata": {},
   "outputs": [],
   "source": [
    "print('accuracy:',model.score(x_train,y_train))\n",
    "def fun(a,p):\n",
    "    ARE = []\n",
    "    n = len(pred)\n",
    "    for i in range(n):\n",
    "        val = (abs(a[i]-p[i])/a[i])*100\n",
    "        ARE.append(val)\n",
    "    c = 0\n",
    "    for i in range(n):\n",
    "        if ARE[i]<75:\n",
    "            c+=1\n",
    "    TS_75 = (c*100)/n\n",
    "    \n",
    "    d = 0\n",
    "    for i in range(n):\n",
    "        if ARE[i]<100:\n",
    "            d+=1\n",
    "    TS_100 = (d*100)/n\n",
    "    \n",
    "    return TS_75,TS_100\n",
    "\n",
    "TS_75,TS_100 = fun(y_train,pred)\n",
    "\n",
    "print(\"TS 75: \", TS_75, \"TS 100: \", TS_100)"
   ]
  },
  {
   "cell_type": "code",
   "execution_count": null,
   "id": "b7d7678c",
   "metadata": {},
   "outputs": [],
   "source": [
    "pred=model.predict(x_test)\n",
    "results=pd.DataFrame({'predicted':list(pred),'observed':y_test})"
   ]
  },
  {
   "cell_type": "code",
   "execution_count": null,
   "id": "8155751c",
   "metadata": {},
   "outputs": [],
   "source": [
    "results.to_csv('20_Decisiontree.csv')\n",
    "plt.scatter(pred,y_test)\n",
    "m, b = np.polyfit(pred,y_test, 1)\n",
    "#add linear regression line to scatterplot \n",
    "plt.plot(pred,m*pred+b)\n",
    "plt.xlabel('predicted')\n",
    "plt.ylabel('observed')\n",
    "plt.title('20_DT_')\n",
    "plt.savefig('20_DT_scatter.jpg')"
   ]
  },
  {
   "cell_type": "code",
   "execution_count": null,
   "id": "63fb9b08",
   "metadata": {},
   "outputs": [],
   "source": [
    "results['predicted'].plot(color='red',linestyle='--')\n",
    "results['observed'].plot(color='black',linestyle='-')\n",
    "plt.xlabel('Days')\n",
    "plt.ylabel('Runoff(cumes)')\n",
    "plt.title('DT_20')\n",
    "plt.legend(loc='upper right')\n",
    "plt.savefig('DT_20_scatter.png')\n",
    "plt.show()"
   ]
  },
  {
   "cell_type": "code",
   "execution_count": null,
   "id": "78db6f03",
   "metadata": {},
   "outputs": [],
   "source": [
    "print('accuracy:',model.score(x_test,y_test))\n",
    "def fun(a,p):\n",
    "    ARE = []\n",
    "    n = len(pred)\n",
    "    for i in range(n):\n",
    "        val = (abs(a[i]-p[i])/a[i])*100\n",
    "        ARE.append(val)\n",
    "    c = 0\n",
    "    for i in range(n):\n",
    "        if ARE[i]<75:\n",
    "            c+=1\n",
    "    TS_75 = (c*100)/n\n",
    "    \n",
    "    d = 0\n",
    "    for i in range(n):\n",
    "        if ARE[i]<100:\n",
    "            d+=1\n",
    "    TS_100 = (d*100)/n\n",
    "    \n",
    "    return TS_75,TS_100\n",
    "\n",
    "TS_75,TS_100 = fun(y_test,pred)\n",
    "\n",
    "print(\"TS 75: \", TS_75, \"TS 100: \", TS_100)"
   ]
  },
  {
   "cell_type": "markdown",
   "id": "110b7338",
   "metadata": {},
   "source": [
    "# RandomForest"
   ]
  },
  {
   "cell_type": "code",
   "execution_count": null,
   "id": "040f3b13",
   "metadata": {},
   "outputs": [],
   "source": [
    "model=RandomForestRegressor()"
   ]
  },
  {
   "cell_type": "code",
   "execution_count": null,
   "id": "8f9a97cb",
   "metadata": {},
   "outputs": [],
   "source": [
    "model.fit(x_train,y_train)\n",
    "pred=model.predict(x_train)\n",
    "results=pd.DataFrame({'predicted':list(pred),'observed':y_train})\n",
    "results['predicted'].plot(color='red',linestyle='--')\n",
    "results['observed'].plot(color='black',linestyle='-')\n",
    "plt.xlabel('Days')\n",
    "plt.ylabel('Runoff(cumes)')\n",
    "plt.title('RF_80')\n",
    "plt.legend(loc='upper right')\n",
    "plt.savefig('RF_80_scatter.png')\n",
    "plt.show()"
   ]
  },
  {
   "cell_type": "code",
   "execution_count": null,
   "id": "fd6af596",
   "metadata": {},
   "outputs": [],
   "source": [
    "results.to_csv('80_RandomForest.csv')\n",
    "plt.scatter(pred,y_train)\n",
    "m, b = np.polyfit(pred,y_train, 1)\n",
    "#add linear regression line to scatterplot \n",
    "plt.plot(pred,m*pred+b)\n",
    "plt.xlabel('predicted')\n",
    "plt.ylabel('observed')\n",
    "plt.title('80_RF_')\n",
    "plt.savefig('80_RF_scatter.jpg')"
   ]
  },
  {
   "cell_type": "code",
   "execution_count": null,
   "id": "d95e2c79",
   "metadata": {},
   "outputs": [],
   "source": [
    "print('accuracy:',model.score(x_train,y_train))\n",
    "def fun(a,p):\n",
    "    ARE = []\n",
    "    n = len(pred)\n",
    "    for i in range(n):\n",
    "        val = (abs(a[i]-p[i])/a[i])*100\n",
    "        ARE.append(val)\n",
    "    c = 0\n",
    "    for i in range(n):\n",
    "        if ARE[i]<75:\n",
    "            c+=1\n",
    "    TS_75 = (c*100)/n\n",
    "    \n",
    "    d = 0\n",
    "    for i in range(n):\n",
    "        if ARE[i]<100:\n",
    "            d+=1\n",
    "    TS_100 = (d*100)/n\n",
    "    \n",
    "    return TS_75,TS_100\n",
    "\n",
    "TS_75,TS_100 = fun(y_train,pred)\n",
    "\n",
    "print(\"TS 75: \", TS_75, \"TS 100: \", TS_100)"
   ]
  },
  {
   "cell_type": "code",
   "execution_count": null,
   "id": "b32e05dc",
   "metadata": {},
   "outputs": [],
   "source": [
    "pred=model.predict(x_test)\n",
    "results=pd.DataFrame({'predicted':list(pred),'observed':y_test})"
   ]
  },
  {
   "cell_type": "code",
   "execution_count": null,
   "id": "22cec8d6",
   "metadata": {},
   "outputs": [],
   "source": [
    "results.to_csv('20_RandomForest.csv')\n",
    "plt.scatter(pred,y_test)\n",
    "m, b = np.polyfit(pred,y_test, 1)\n",
    "#add linear regression line to scatterplot \n",
    "plt.plot(pred,m*pred+b)\n",
    "plt.xlabel('predicted')\n",
    "plt.ylabel('observed')\n",
    "plt.title('20_RF_')\n",
    "plt.savefig('20_RF_scatter.jpg')"
   ]
  },
  {
   "cell_type": "code",
   "execution_count": null,
   "id": "28959d3a",
   "metadata": {},
   "outputs": [],
   "source": [
    "results['predicted'].plot(color='red',linestyle='--')\n",
    "results['observed'].plot(color='black',linestyle='-')\n",
    "plt.xlabel('Days')\n",
    "plt.ylabel('Runoff(cumes)')\n",
    "plt.title('RF_20')\n",
    "plt.legend(loc='upper right')\n",
    "plt.savefig('RF_20_scatter.png')\n",
    "plt.show()"
   ]
  },
  {
   "cell_type": "code",
   "execution_count": null,
   "id": "125bbd4b",
   "metadata": {},
   "outputs": [],
   "source": [
    "print('accuracy:',model.score(x_test,y_test))\n",
    "def fun(a,p):\n",
    "    ARE = []\n",
    "    n = len(pred)\n",
    "    for i in range(n):\n",
    "        val = (abs(a[i]-p[i])/a[i])*100\n",
    "        ARE.append(val)\n",
    "    c = 0\n",
    "    for i in range(n):\n",
    "        if ARE[i]<75:\n",
    "            c+=1\n",
    "    TS_75 = (c*100)/n\n",
    "    \n",
    "    d = 0\n",
    "    for i in range(n):\n",
    "        if ARE[i]<100:\n",
    "            d+=1\n",
    "    TS_100 = (d*100)/n\n",
    "    \n",
    "    return TS_75,TS_100\n",
    "\n",
    "TS_75,TS_100 = fun(y_test,pred)\n",
    "\n",
    "print(\"TS 75: \", TS_75, \"TS 100: \", TS_100)"
   ]
  },
  {
   "cell_type": "markdown",
   "id": "04193395",
   "metadata": {},
   "source": [
    "# XG Booster"
   ]
  },
  {
   "cell_type": "code",
   "execution_count": null,
   "id": "e6463141",
   "metadata": {},
   "outputs": [],
   "source": [
    "model=XGBRegressor()"
   ]
  },
  {
   "cell_type": "code",
   "execution_count": null,
   "id": "d4a7f3b0",
   "metadata": {},
   "outputs": [],
   "source": [
    "model.fit(x_train,y_train)\n",
    "pred=model.predict(x_train)\n",
    "results=pd.DataFrame({'predicted':list(pred),'observed':y_train})\n",
    "results['predicted'].plot(color='red',linestyle='--')\n",
    "results['observed'].plot(color='black',linestyle='-')\n",
    "plt.xlabel('Days')\n",
    "plt.ylabel('Runoff(cumes)')\n",
    "plt.title('XGB_80')\n",
    "plt.legend(loc='upper right')\n",
    "plt.savefig('XGB_80_scatter.png')\n",
    "plt.show()"
   ]
  },
  {
   "cell_type": "code",
   "execution_count": null,
   "id": "a1615757",
   "metadata": {},
   "outputs": [],
   "source": [
    "results.to_csv('80_XG Booster.csv')\n",
    "plt.scatter(pred,y_train)\n",
    "m, b = np.polyfit(pred,y_train, 1)\n",
    "\n",
    "#add linear regression line to scatterplot \n",
    "plt.plot(pred,m*pred+b)\n",
    "plt.xlabel('predicted')\n",
    "plt.ylabel('observed')\n",
    "plt.title('80_XGB')\n",
    "plt.savefig('80_XGB_scatter.jpg')"
   ]
  },
  {
   "cell_type": "code",
   "execution_count": null,
   "id": "6793e382",
   "metadata": {},
   "outputs": [],
   "source": [
    "print('accuracy:',model.score(x_train,y_train))\n",
    "def fun(a,p):\n",
    "    ARE = []\n",
    "    n = len(pred)\n",
    "    for i in range(n):\n",
    "        val = (abs(a[i]-p[i])/a[i])*100\n",
    "        ARE.append(val)\n",
    "    c = 0\n",
    "    for i in range(n):\n",
    "        if ARE[i]<75:\n",
    "            c+=1\n",
    "    TS_75 = (c*100)/n\n",
    "    \n",
    "    d = 0\n",
    "    for i in range(n):\n",
    "        if ARE[i]<100:\n",
    "            d+=1\n",
    "    TS_100 = (d*100)/n\n",
    "    \n",
    "    return TS_75,TS_100\n",
    "\n",
    "TS_75,TS_100 = fun(y_train,pred)\n",
    "\n",
    "print(\"TS 75: \", TS_75, \"TS 100: \", TS_100)"
   ]
  },
  {
   "cell_type": "code",
   "execution_count": null,
   "id": "ddb7c1b2",
   "metadata": {},
   "outputs": [],
   "source": [
    "model.fit(x_train,y_train)\n",
    "pred=model.predict(x_test)\n",
    "results=pd.DataFrame({'predicted':list(pred),'observed':y_test})"
   ]
  },
  {
   "cell_type": "code",
   "execution_count": null,
   "id": "98fcaba3",
   "metadata": {},
   "outputs": [],
   "source": [
    "results.to_csv('20_XG Booster.csv')\n",
    "plt.scatter(pred,y_test)\n",
    "m, b = np.polyfit(pred,y_test, 1)\n",
    "\n",
    "#add linear regression line to scatterplot \n",
    "plt.plot(pred,m*pred+b)\n",
    "plt.xlabel('predicted')\n",
    "plt.ylabel('observed')\n",
    "plt.title('20_XGB')\n",
    "plt.savefig('20_XGB_scatter.jpg')"
   ]
  },
  {
   "cell_type": "code",
   "execution_count": null,
   "id": "27f1237b",
   "metadata": {},
   "outputs": [],
   "source": [
    "results['predicted'].plot(color='red',linestyle='--')\n",
    "results['observed'].plot(color='black',linestyle='-')\n",
    "plt.xlabel('Days')\n",
    "plt.ylabel('Runoff(cumes)')\n",
    "plt.title('XGB_20')\n",
    "plt.legend(loc='upper right')\n",
    "plt.savefig('XGB_20_scatter.png')\n",
    "plt.show()"
   ]
  },
  {
   "cell_type": "code",
   "execution_count": null,
   "id": "354e050c",
   "metadata": {},
   "outputs": [],
   "source": [
    "print('accuracy:',model.score(x_test,y_test))\n",
    "def fun(a,p):\n",
    "    ARE = []\n",
    "    n = len(pred)\n",
    "    for i in range(n):\n",
    "        val = (abs(a[i]-p[i])/a[i])*100\n",
    "        ARE.append(val)\n",
    "    c = 0\n",
    "    for i in range(n):\n",
    "        if ARE[i]<75:\n",
    "            c+=1\n",
    "    TS_75 = (c*100)/n\n",
    "    \n",
    "    d = 0\n",
    "    for i in range(n):\n",
    "        if ARE[i]<100:\n",
    "            d+=1\n",
    "    TS_100 = (d*100)/n\n",
    "    \n",
    "    return TS_75,TS_100\n",
    "\n",
    "TS_75,TS_100 = fun(y_test,pred)\n",
    "\n",
    "print(\"TS 75: \", TS_75, \"TS 100: \", TS_100)"
   ]
  },
  {
   "cell_type": "code",
   "execution_count": null,
   "id": "32326037",
   "metadata": {},
   "outputs": [],
   "source": [
    "ml=[]\n",
    "values={}\n",
    "model=DecisionTreeRegressor()\n",
    "ml.append(model)\n",
    "model=RandomForestRegressor()\n",
    "ml.append(model)\n",
    "model=XGBRegressor()\n",
    "ml.append(model)\n",
    "model=SVR(kernel='linear')\n",
    "ml.append(model)"
   ]
  },
  {
   "cell_type": "code",
   "execution_count": null,
   "id": "c380d9f6",
   "metadata": {},
   "outputs": [],
   "source": [
    "for i in ml:\n",
    "    i.fit(x_train,y_train)\n",
    "    pred=i.predict(x_train)\n",
    "    r2=r2_score(y_train,pred)\n",
    "    rmse=np.sqrt(mean_squared_error(y_train,pred))\n",
    "    adj_r2= 1 - ( 1-i.score(x_train, y_train) ) * ( len(y_train) - 1 ) / ( len(y_train) - x_train.shape[1] - 1 )\n",
    "    mae=mean_absolute_error(y_train,pred)\n",
    "    values[str(i)[:12]]=[adj_r2,rmse,r2,mae]"
   ]
  },
  {
   "cell_type": "code",
   "execution_count": null,
   "id": "ac2ec6e4",
   "metadata": {},
   "outputs": [],
   "source": [
    "values=pd.DataFrame(values)\n",
    "values.index=['adj_R2_Score','RMSE','R2','MAE']\n",
    "values"
   ]
  },
  {
   "cell_type": "code",
   "execution_count": null,
   "id": "655f9d67",
   "metadata": {},
   "outputs": [],
   "source": [
    "ml=[]\n",
    "values={}\n",
    "model=DecisionTreeRegressor()\n",
    "ml.append(model)\n",
    "model=RandomForestRegressor()\n",
    "ml.append(model)\n",
    "model=XGBRegressor()\n",
    "ml.append(model)\n",
    "model=SVR(kernel='linear')\n",
    "ml.append(model)"
   ]
  },
  {
   "cell_type": "code",
   "execution_count": null,
   "id": "7072c166",
   "metadata": {},
   "outputs": [],
   "source": [
    "for i in ml:\n",
    "    i.fit(x_test,y_test)\n",
    "    pred=i.predict(x_test)\n",
    "    r2=r2_score(y_test,pred)\n",
    "    rmse=np.sqrt(mean_squared_error(y_test,pred))\n",
    "    adj_r2= 1 - ( 1-i.score(x_test, y_test) ) * ( len(y_test) - 1 ) / ( len(y_test) - x_test.shape[1] - 1 )\n",
    "    mae=mean_absolute_error(y_test,pred)\n",
    "    values[str(i)[:12]]=[adj_r2,rmse,r2,mae]"
   ]
  },
  {
   "cell_type": "code",
   "execution_count": null,
   "id": "fd60de1a",
   "metadata": {},
   "outputs": [],
   "source": [
    "values=pd.DataFrame(values)\n",
    "values.index=['adj_R2_Score','RMSE','R2','MAE']\n",
    "values"
   ]
  },
  {
   "cell_type": "code",
   "execution_count": null,
   "id": "c2638359",
   "metadata": {},
   "outputs": [],
   "source": []
  },
  {
   "cell_type": "markdown",
   "id": "cf93fb77",
   "metadata": {},
   "source": [
    "# 70-30 Training-Testing split"
   ]
  },
  {
   "cell_type": "code",
   "execution_count": null,
   "id": "22d175b0",
   "metadata": {},
   "outputs": [],
   "source": [
    "x_train,x_test,y_train,y_test=train_test_split(x,y,test_size=0.3,shuffle=False)"
   ]
  },
  {
   "cell_type": "markdown",
   "id": "c136271f",
   "metadata": {},
   "source": [
    "# SVR"
   ]
  },
  {
   "cell_type": "code",
   "execution_count": null,
   "id": "3ef40814",
   "metadata": {},
   "outputs": [],
   "source": [
    "model=SVR()\n",
    "model = SVR(kernel='linear',C=1.0)\n",
    "model.fit(x_train,y_train)"
   ]
  },
  {
   "cell_type": "code",
   "execution_count": null,
   "id": "4956c377",
   "metadata": {},
   "outputs": [],
   "source": [
    "model.fit(x_train,y_train)\n",
    "pred=model.predict(x_train)\n",
    "results=pd.DataFrame({'predicted':list(pred),'observed':y_train})\n",
    "results['predicted'].plot(color='red',linestyle='--')\n",
    "results['observed'].plot(color='black',linestyle='-')\n",
    "plt.xlabel('Days')\n",
    "plt.ylabel('Runoff(cumes)')\n",
    "plt.title('SVR_70')\n",
    "plt.legend(loc='upper right')\n",
    "plt.savefig('SVR_70_scatter.png')\n",
    "plt.show()"
   ]
  },
  {
   "cell_type": "code",
   "execution_count": null,
   "id": "856f69d1",
   "metadata": {},
   "outputs": [],
   "source": [
    "results.to_csv('70_svr.csv')\n",
    "plt.scatter(pred,y_train)\n",
    "m, b = np.polyfit(pred,y_train, 1)\n",
    "\n",
    "#add linear regression line to scatterplot \n",
    "plt.plot(pred,m*pred+b)\n",
    "plt.xlabel('predicted')\n",
    "plt.ylabel('observed')\n",
    "plt.title('70_SVR')\n",
    "plt.savefig('70_SVR_scatter.jpg')"
   ]
  },
  {
   "cell_type": "code",
   "execution_count": null,
   "id": "f765d958",
   "metadata": {},
   "outputs": [],
   "source": [
    "print('accuracy:',model.score(x_train,y_train))\n",
    "def fun(a,p):\n",
    "    ARE = []\n",
    "    n = len(pred)\n",
    "    for i in range(n):\n",
    "        val = (abs(a[i]-p[i])/a[i])*100\n",
    "        ARE.append(val)\n",
    "    c = 0\n",
    "    for i in range(n):\n",
    "        if ARE[i]<75:\n",
    "            c+=1\n",
    "    TS_75 = (c*100)/n\n",
    "    \n",
    "    d = 0\n",
    "    for i in range(n):\n",
    "        if ARE[i]<100:\n",
    "            d+=1\n",
    "    TS_100 = (d*100)/n\n",
    "    \n",
    "    return TS_75,TS_100\n",
    "\n",
    "TS_75,TS_100 = fun(y_train,pred)\n",
    "\n",
    "print(\"TS 75: \", TS_75, \"TS 100: \", TS_100)"
   ]
  },
  {
   "cell_type": "code",
   "execution_count": null,
   "id": "8b32fb82",
   "metadata": {},
   "outputs": [],
   "source": [
    "pred=model.predict(x_test)\n",
    "results=pd.DataFrame({'predicted':list(pred),'observed':y_test})\n",
    "results['predicted'].plot(color='red',linestyle='--')\n",
    "results['observed'].plot(color='black',linestyle='-')\n",
    "plt.xlabel('Days')\n",
    "plt.ylabel('Runoff(cumes)')\n",
    "plt.title('SVR_30')\n",
    "plt.legend(loc='upper right')\n",
    "plt.savefig('SVR_30_scatter.png')\n",
    "plt.show()"
   ]
  },
  {
   "cell_type": "code",
   "execution_count": null,
   "id": "9120bfd4",
   "metadata": {},
   "outputs": [],
   "source": [
    "results.to_csv('30_svr.csv')\n",
    "plt.scatter(pred,y_test)\n",
    "m, b = np.polyfit(pred,y_test, 1)\n",
    "\n",
    "#add linear regression line to scatterplot \n",
    "plt.plot(pred,m*pred+b)\n",
    "plt.xlabel('predicted')\n",
    "plt.ylabel('observed')\n",
    "plt.title('30_SVR')\n",
    "plt.savefig('30_SVR_scatter.jpg')"
   ]
  },
  {
   "cell_type": "code",
   "execution_count": null,
   "id": "b8df8afb",
   "metadata": {},
   "outputs": [],
   "source": [
    "print('accuracy:',model.score(x_test,y_test))\n",
    "def fun(a,p):\n",
    "    ARE = []\n",
    "    n = len(pred)\n",
    "    for i in range(n):\n",
    "        val = (abs(a[i]-p[i])/a[i])*100\n",
    "        ARE.append(val)\n",
    "    c = 0\n",
    "    for i in range(n):\n",
    "        if ARE[i]<75:\n",
    "            c+=1\n",
    "    TS_75 = (c*100)/n\n",
    "    \n",
    "    d = 0\n",
    "    for i in range(n):\n",
    "        if ARE[i]<100:\n",
    "            d+=1\n",
    "    TS_100 = (d*100)/n\n",
    "    \n",
    "    return TS_75,TS_100\n",
    "\n",
    "TS_75,TS_100 = fun(y_test,pred)\n",
    "\n",
    "print(\"TS 75: \", TS_75, \"TS 100: \", TS_100)"
   ]
  },
  {
   "cell_type": "markdown",
   "id": "84224ae0",
   "metadata": {},
   "source": [
    "#  Decision tree"
   ]
  },
  {
   "cell_type": "code",
   "execution_count": null,
   "id": "ff97bf50",
   "metadata": {},
   "outputs": [],
   "source": [
    "model=DecisionTreeRegressor()"
   ]
  },
  {
   "cell_type": "code",
   "execution_count": null,
   "id": "72534c67",
   "metadata": {},
   "outputs": [],
   "source": [
    "model.fit(x_train,y_train)\n",
    "pred=model.predict(x_train)\n",
    "results=pd.DataFrame({'predicted':list(pred),'observed':y_train})\n",
    "results['predicted'].plot(color='red',linestyle='--')\n",
    "results['observed'].plot(color='black',linestyle='-')\n",
    "plt.xlabel('Days')\n",
    "plt.ylabel('Runoff(cumes)')\n",
    "plt.title('DT_70')\n",
    "plt.legend(loc='upper right')\n",
    "plt.savefig('DT_70_scatter.png')\n",
    "plt.show()"
   ]
  },
  {
   "cell_type": "code",
   "execution_count": null,
   "id": "23589341",
   "metadata": {},
   "outputs": [],
   "source": [
    "results.to_csv('70_Decisiontree.csv')\n",
    "plt.scatter(pred,y_train)\n",
    "m, b = np.polyfit(pred,y_train, 1)\n",
    "\n",
    "#add linear regression line to scatterplot \n",
    "plt.plot(pred,m*pred+b)\n",
    "plt.xlabel('predicted')\n",
    "plt.ylabel('observed')\n",
    "plt.title('70_DT_')\n",
    "plt.savefig('70_DT_scatter.jpg')"
   ]
  },
  {
   "cell_type": "code",
   "execution_count": null,
   "id": "2d510ce3",
   "metadata": {},
   "outputs": [],
   "source": [
    "print('accuracy:',model.score(x_train,y_train))\n",
    "def fun(a,p):\n",
    "    ARE = []\n",
    "    n = len(pred)\n",
    "    for i in range(n):\n",
    "        val = (abs(a[i]-p[i])/a[i])*100\n",
    "        ARE.append(val)\n",
    "    c = 0\n",
    "    for i in range(n):\n",
    "        if ARE[i]<75:\n",
    "            c+=1\n",
    "    TS_75 = (c*100)/n\n",
    "    \n",
    "    d = 0\n",
    "    for i in range(n):\n",
    "        if ARE[i]<100:\n",
    "            d+=1\n",
    "    TS_100 = (d*100)/n\n",
    "    \n",
    "    return TS_75,TS_100\n",
    "\n",
    "TS_75,TS_100 = fun(y_train,pred)\n",
    "\n",
    "print(\"TS 75: \", TS_75, \"TS 100: \", TS_100)"
   ]
  },
  {
   "cell_type": "code",
   "execution_count": null,
   "id": "33bdb3c0",
   "metadata": {},
   "outputs": [],
   "source": [
    "model.fit(x_train,y_train)\n",
    "pred=model.predict(x_test)\n",
    "results=pd.DataFrame({'predicted':list(pred),'observed':y_test})\n",
    "results['predicted'].plot(color='red',linestyle='--')\n",
    "results['observed'].plot(color='black',linestyle='-')\n",
    "plt.xlabel('Days')\n",
    "plt.ylabel('Runoff(cumes)')\n",
    "plt.title('DT_30')\n",
    "plt.legend(loc='upper right')\n",
    "plt.savefig('DT_30_scatter.png')\n",
    "plt.show()"
   ]
  },
  {
   "cell_type": "code",
   "execution_count": null,
   "id": "71bfcb78",
   "metadata": {},
   "outputs": [],
   "source": [
    "results.to_csv('30_Decisiontree.csv')\n",
    "plt.scatter(pred,y_test)\n",
    "m, b = np.polyfit(pred,y_test, 1)\n",
    "\n",
    "#add linear regression line to scatterplot \n",
    "plt.plot(pred,m*pred+b)\n",
    "plt.xlabel('predicted')\n",
    "plt.ylabel('observed')\n",
    "plt.title('30_DT_')\n",
    "plt.savefig('30_DT_scatter.jpg')"
   ]
  },
  {
   "cell_type": "code",
   "execution_count": null,
   "id": "d97606a6",
   "metadata": {},
   "outputs": [],
   "source": [
    "print('accuracy:',model.score(x_test,y_test))\n",
    "def fun(a,p):\n",
    "    ARE = []\n",
    "    n = len(pred)\n",
    "    for i in range(n):\n",
    "        val = (abs(a[i]-p[i])/a[i])*100\n",
    "        ARE.append(val)\n",
    "    c = 0\n",
    "    for i in range(n):\n",
    "        if ARE[i]<75:\n",
    "            c+=1\n",
    "    TS_75 = (c*100)/n\n",
    "    \n",
    "    d = 0\n",
    "    for i in range(n):\n",
    "        if ARE[i]<100:\n",
    "            d+=1\n",
    "    TS_100 = (d*100)/n\n",
    "    \n",
    "    return TS_75,TS_100\n",
    "\n",
    "TS_75,TS_100 = fun(y_test,pred)\n",
    "\n",
    "print(\"TS 75: \", TS_75, \"TS 100: \", TS_100)"
   ]
  },
  {
   "cell_type": "markdown",
   "id": "21404ffc",
   "metadata": {},
   "source": [
    "# RandomForest"
   ]
  },
  {
   "cell_type": "code",
   "execution_count": null,
   "id": "0c92a078",
   "metadata": {},
   "outputs": [],
   "source": [
    "model=RandomForestRegressor()"
   ]
  },
  {
   "cell_type": "code",
   "execution_count": null,
   "id": "b9e7c88b",
   "metadata": {},
   "outputs": [],
   "source": [
    "model.fit(x_train,y_train)\n",
    "pred=model.predict(x_train)\n",
    "results=pd.DataFrame({'predicted':list(pred),'observed':y_train})\n",
    "results['predicted'].plot(color='red',linestyle='--')\n",
    "results['observed'].plot(color='black',linestyle='-')\n",
    "plt.xlabel('Days')\n",
    "plt.ylabel('Runoff(cumes)')\n",
    "plt.title('RF_70')\n",
    "plt.legend(loc='upper right')\n",
    "plt.savefig('RF_70_scatter.png')\n",
    "plt.show()"
   ]
  },
  {
   "cell_type": "code",
   "execution_count": null,
   "id": "a44882f4",
   "metadata": {},
   "outputs": [],
   "source": [
    "results.to_csv('70_RandomForest.csv')\n",
    "plt.scatter(pred,y_train)\n",
    "m, b = np.polyfit(pred,y_train, 1)\n",
    "\n",
    "#add linear regression line to scatterplot \n",
    "plt.plot(pred,m*pred+b)\n",
    "plt.xlabel('predicted')\n",
    "plt.ylabel('observed')\n",
    "plt.title('70_RF_')\n",
    "plt.savefig('70_RF_scatter.jpg')"
   ]
  },
  {
   "cell_type": "code",
   "execution_count": null,
   "id": "67e9412f",
   "metadata": {},
   "outputs": [],
   "source": [
    "print('accuracy:',model.score(x_train,y_train))\n",
    "def fun(a,p):\n",
    "    ARE = []\n",
    "    n = len(pred)\n",
    "    for i in range(n):\n",
    "        val = (abs(a[i]-p[i])/a[i])*100\n",
    "        ARE.append(val)\n",
    "    c = 0\n",
    "    for i in range(n):\n",
    "        if ARE[i]<75:\n",
    "            c+=1\n",
    "    TS_75 = (c*100)/n\n",
    "    \n",
    "    d = 0\n",
    "    for i in range(n):\n",
    "        if ARE[i]<100:\n",
    "            d+=1\n",
    "    TS_100 = (d*100)/n\n",
    "    \n",
    "    return TS_75,TS_100\n",
    "\n",
    "TS_75,TS_100 = fun(y_train,pred)\n",
    "\n",
    "print(\"TS 75: \", TS_75, \"TS 100: \", TS_100)"
   ]
  },
  {
   "cell_type": "code",
   "execution_count": null,
   "id": "b1ea0a5c",
   "metadata": {},
   "outputs": [],
   "source": [
    "model.fit(x_train,y_train)\n",
    "pred=model.predict(x_test)\n",
    "results=pd.DataFrame({'predicted':list(pred),'observed':y_test})\n",
    "results['predicted'].plot(color='red',linestyle='--')\n",
    "results['observed'].plot(color='black',linestyle='-')\n",
    "plt.xlabel('Days')\n",
    "plt.ylabel('Runoff(cumes)')\n",
    "plt.title('RF_30')\n",
    "plt.legend(loc='upper right')\n",
    "plt.savefig('RF_30_scatter.png')\n",
    "plt.show()"
   ]
  },
  {
   "cell_type": "code",
   "execution_count": null,
   "id": "6506e29d",
   "metadata": {},
   "outputs": [],
   "source": [
    "results.to_csv('30_RandomForest.csv')\n",
    "plt.scatter(pred,y_test)\n",
    "m, b = np.polyfit(pred,y_test, 1)\n",
    "\n",
    "#add linear regression line to scatterplot \n",
    "plt.plot(pred,m*pred+b)\n",
    "plt.xlabel('predicted')\n",
    "plt.ylabel('observed')\n",
    "plt.title('30_RF_')\n",
    "plt.savefig('30_RF_scatter.jpg')"
   ]
  },
  {
   "cell_type": "code",
   "execution_count": null,
   "id": "bbaed189",
   "metadata": {},
   "outputs": [],
   "source": [
    "print('accuracy:',model.score(x_test,y_test))\n",
    "def fun(a,p):\n",
    "    ARE = []\n",
    "    n = len(pred)\n",
    "    for i in range(n):\n",
    "        val = (abs(a[i]-p[i])/a[i])*100\n",
    "        ARE.append(val)\n",
    "    c = 0\n",
    "    for i in range(n):\n",
    "        if ARE[i]<75:\n",
    "            c+=1\n",
    "    TS_75 = (c*100)/n\n",
    "    \n",
    "    d = 0\n",
    "    for i in range(n):\n",
    "        if ARE[i]<100:\n",
    "            d+=1\n",
    "    TS_100 = (d*100)/n\n",
    "    \n",
    "    return TS_75,TS_100\n",
    "\n",
    "TS_75,TS_100 = fun(y_test,pred)\n",
    "\n",
    "print(\"TS 75: \", TS_75, \"TS 100: \", TS_100)"
   ]
  },
  {
   "cell_type": "markdown",
   "id": "ce34d41d",
   "metadata": {},
   "source": [
    "# XG Booster"
   ]
  },
  {
   "cell_type": "code",
   "execution_count": null,
   "id": "373a7e9e",
   "metadata": {},
   "outputs": [],
   "source": [
    "model=XGBRegressor()"
   ]
  },
  {
   "cell_type": "code",
   "execution_count": null,
   "id": "3f897b20",
   "metadata": {},
   "outputs": [],
   "source": [
    "model.fit(x_train,y_train)\n",
    "pred=model.predict(x_train)\n",
    "results=pd.DataFrame({'predicted':list(pred),'observed':y_train})\n",
    "results['predicted'].plot(color='red',linestyle='--')\n",
    "results['observed'].plot(color='black',linestyle='-')\n",
    "plt.xlabel('Days')\n",
    "plt.ylabel('Runoff(cumes)')\n",
    "plt.title('XGB_70')\n",
    "plt.legend(loc='upper right')\n",
    "plt.savefig('XGB_70_scatter.png')\n",
    "plt.show()"
   ]
  },
  {
   "cell_type": "code",
   "execution_count": null,
   "id": "897708ee",
   "metadata": {},
   "outputs": [],
   "source": [
    "results.to_csv('70_XG Booster.csv')\n",
    "plt.scatter(pred,y_train)\n",
    "m, b = np.polyfit(pred,y_train, 1)\n",
    "\n",
    "#add linear regression line to scatterplot \n",
    "plt.plot(pred,m*pred+b)\n",
    "plt.xlabel('predicted')\n",
    "plt.ylabel('observed')\n",
    "plt.title('70_XGB')\n",
    "plt.savefig('70_XGB_scatter.jpg')"
   ]
  },
  {
   "cell_type": "code",
   "execution_count": null,
   "id": "54348ddb",
   "metadata": {},
   "outputs": [],
   "source": [
    "print('accuracy:',model.score(x_train,y_train))\n",
    "def fun(a,p):\n",
    "    ARE = []\n",
    "    n = len(pred)\n",
    "    for i in range(n):\n",
    "        val = (abs(a[i]-p[i])/a[i])*100\n",
    "        ARE.append(val)\n",
    "    c = 0\n",
    "    for i in range(n):\n",
    "        if ARE[i]<75:\n",
    "            c+=1\n",
    "    TS_75 = (c*100)/n\n",
    "    \n",
    "    d = 0\n",
    "    for i in range(n):\n",
    "        if ARE[i]<100:\n",
    "            d+=1\n",
    "    TS_100 = (d*100)/n\n",
    "    \n",
    "    return TS_75,TS_100\n",
    "\n",
    "TS_75,TS_100 = fun(y_train,pred)\n",
    "\n",
    "print(\"TS 75: \", TS_75, \"TS 100: \", TS_100)"
   ]
  },
  {
   "cell_type": "code",
   "execution_count": null,
   "id": "bd1c9ab7",
   "metadata": {},
   "outputs": [],
   "source": [
    "model.fit(x_train,y_train)\n",
    "pred=model.predict(x_test)\n",
    "results=pd.DataFrame({'predicted':list(pred),'observed':y_test})\n",
    "results['predicted'].plot(color='red',linestyle='--')\n",
    "results['observed'].plot(color='black',linestyle='-')\n",
    "plt.xlabel('Days')\n",
    "plt.ylabel('Runoff(cumes)')\n",
    "plt.title('XGB_30')\n",
    "plt.legend(loc='upper right')\n",
    "plt.savefig('XGB_30_scatter.png')\n",
    "plt.show()"
   ]
  },
  {
   "cell_type": "code",
   "execution_count": null,
   "id": "a233597f",
   "metadata": {},
   "outputs": [],
   "source": [
    "results.to_csv('30_XG Booster.csv')\n",
    "plt.scatter(pred,y_test)\n",
    "m, b = np.polyfit(pred,y_test, 1)\n",
    "\n",
    "#add linear regression line to scatterplot \n",
    "plt.plot(pred,m*pred+b)\n",
    "plt.xlabel('predicted')\n",
    "plt.ylabel('observed')\n",
    "plt.title('30_XGB')\n",
    "plt.savefig('30_XGB_scatter.jpg')"
   ]
  },
  {
   "cell_type": "code",
   "execution_count": null,
   "id": "2ef69061",
   "metadata": {},
   "outputs": [],
   "source": [
    "print('accuracy:',model.score(x_test,y_test))\n",
    "def fun(a,p):\n",
    "    ARE = []\n",
    "    n = len(pred)\n",
    "    for i in range(n):\n",
    "        val = (abs(a[i]-p[i])/a[i])*100\n",
    "        ARE.append(val)\n",
    "    c = 0\n",
    "    for i in range(n):\n",
    "        if ARE[i]<75:\n",
    "            c+=1\n",
    "    TS_75 = (c*100)/n\n",
    "    \n",
    "    d = 0\n",
    "    for i in range(n):\n",
    "        if ARE[i]<100:\n",
    "            d+=1\n",
    "    TS_100 = (d*100)/n\n",
    "    \n",
    "    return TS_75,TS_100\n",
    "\n",
    "TS_75,TS_100 = fun(y_test,pred)\n",
    "\n",
    "print(\"TS 75: \", TS_75, \"TS 100: \", TS_100)"
   ]
  },
  {
   "cell_type": "code",
   "execution_count": null,
   "id": "cf18818f",
   "metadata": {},
   "outputs": [],
   "source": [
    "ml=[]\n",
    "values={}\n",
    "model=DecisionTreeRegressor()\n",
    "ml.append(model)\n",
    "model=RandomForestRegressor()\n",
    "ml.append(model)\n",
    "model=XGBRegressor()\n",
    "ml.append(model)\n",
    "model=SVR(kernel='linear')\n",
    "ml.append(model)"
   ]
  },
  {
   "cell_type": "code",
   "execution_count": null,
   "id": "5a73b738",
   "metadata": {},
   "outputs": [],
   "source": [
    "for i in ml:\n",
    "    i.fit(x_train,y_train)\n",
    "    pred=i.predict(x_train)\n",
    "    r2=r2_score(y_train,pred)\n",
    "    rmse=np.sqrt(mean_squared_error(y_train,pred))\n",
    "    adj_r2= 1 - ( 1-i.score(x_train, y_train) ) * ( len(y_train) - 1 ) / ( len(y_train) - x_train.shape[1] - 1 )\n",
    "    mae=mean_absolute_error(y_train,pred)\n",
    "    values[str(i)[:12]]=[adj_r2,rmse,r2,mae]"
   ]
  },
  {
   "cell_type": "code",
   "execution_count": null,
   "id": "ccb57f33",
   "metadata": {},
   "outputs": [],
   "source": [
    "values=pd.DataFrame(values)\n",
    "values.index=['adj_R2_Score','RMSE','R2','MAE']\n",
    "values"
   ]
  },
  {
   "cell_type": "code",
   "execution_count": null,
   "id": "9d095dc3",
   "metadata": {},
   "outputs": [],
   "source": [
    "ml=[]\n",
    "values={}\n",
    "model=DecisionTreeRegressor()\n",
    "ml.append(model)\n",
    "model=RandomForestRegressor()\n",
    "ml.append(model)\n",
    "model=XGBRegressor()\n",
    "ml.append(model)\n",
    "model=SVR(kernel='linear')\n",
    "ml.append(model)"
   ]
  },
  {
   "cell_type": "code",
   "execution_count": null,
   "id": "ca00a841",
   "metadata": {},
   "outputs": [],
   "source": [
    "for i in ml:\n",
    "    i.fit(x_test,y_test)\n",
    "    pred=i.predict(x_test)\n",
    "    r2=r2_score(y_test,pred)\n",
    "    rmse=np.sqrt(mean_squared_error(y_test,pred))\n",
    "    adj_r2= 1 - ( 1-i.score(x_test, y_test) ) * ( len(y_test) - 1 ) / ( len(y_test) - x_test.shape[1] - 1 )\n",
    "    mae=mean_absolute_error(y_test,pred)\n",
    "    values[str(i)[:12]]=[adj_r2,rmse,r2,mae]"
   ]
  },
  {
   "cell_type": "code",
   "execution_count": null,
   "id": "50ac3a9c",
   "metadata": {},
   "outputs": [],
   "source": [
    "values=pd.DataFrame(values)\n",
    "values.index=['adj_R2_Score','RMSE','R2','MAE']\n",
    "values"
   ]
  },
  {
   "cell_type": "markdown",
   "id": "19a9fe88",
   "metadata": {},
   "source": [
    "#  60-40 Training-Testing"
   ]
  },
  {
   "cell_type": "code",
   "execution_count": null,
   "id": "96d1a273",
   "metadata": {},
   "outputs": [],
   "source": [
    "x_train,x_test,y_train,y_test=train_test_split(x,y,test_size=0.4,shuffle=False)"
   ]
  },
  {
   "cell_type": "markdown",
   "id": "8477b1ca",
   "metadata": {},
   "source": [
    "# SVR"
   ]
  },
  {
   "cell_type": "code",
   "execution_count": null,
   "id": "f2bc5ef8",
   "metadata": {},
   "outputs": [],
   "source": [
    "model=SVR()\n",
    "model = SVR(kernel='linear',C=1.0)\n",
    "model.fit(x_train,y_train)"
   ]
  },
  {
   "cell_type": "code",
   "execution_count": null,
   "id": "16f45296",
   "metadata": {},
   "outputs": [],
   "source": [
    "model.fit(x_train,y_train)\n",
    "pred=model.predict(x_train)\n",
    "results=pd.DataFrame({'predicted':list(pred),'observed':y_train})\n",
    "results['predicted'].plot(color='red',linestyle='--')\n",
    "results['observed'].plot(color='black',linestyle='-')\n",
    "plt.xlabel('Days')\n",
    "plt.ylabel('Runoff(cumes)')\n",
    "plt.title('SVR_60')\n",
    "plt.legend(loc='upper right')\n",
    "plt.savefig('SVR_60_scatter.png')\n",
    "plt.show()"
   ]
  },
  {
   "cell_type": "code",
   "execution_count": null,
   "id": "e50756f1",
   "metadata": {},
   "outputs": [],
   "source": [
    "results.to_csv('60_svr.csv')\n",
    "plt.scatter(pred,y_train)\n",
    "m, b = np.polyfit(pred,y_train, 1)\n",
    "\n",
    "#add linear regression line to scatterplot \n",
    "plt.plot(pred,m*pred+b)\n",
    "plt.xlabel('predicted')\n",
    "plt.ylabel('observed')\n",
    "plt.title('60_SVR')\n",
    "plt.savefig('60_SVR_scatter.jpg')"
   ]
  },
  {
   "cell_type": "code",
   "execution_count": null,
   "id": "c84fe45e",
   "metadata": {},
   "outputs": [],
   "source": [
    "print('accuracy:',model.score(x_train,y_train))\n",
    "def fun(a,p):\n",
    "    ARE = []\n",
    "    n = len(pred)\n",
    "    for i in range(n):\n",
    "        val = (abs(a[i]-p[i])/a[i])*100\n",
    "        ARE.append(val)\n",
    "    c = 0\n",
    "    for i in range(n):\n",
    "        if ARE[i]<75:\n",
    "            c+=1\n",
    "    TS_75 = (c*100)/n\n",
    "    \n",
    "    d = 0\n",
    "    for i in range(n):\n",
    "        if ARE[i]<100:\n",
    "            d+=1\n",
    "    TS_100 = (d*100)/n\n",
    "    \n",
    "    return TS_75,TS_100\n",
    "\n",
    "TS_75,TS_100 = fun(y_train,pred)\n",
    "\n",
    "print(\"TS 75: \", TS_75, \"TS 100: \", TS_100)"
   ]
  },
  {
   "cell_type": "code",
   "execution_count": null,
   "id": "49c14603",
   "metadata": {},
   "outputs": [],
   "source": [
    "pred=model.predict(x_test)\n",
    "results=pd.DataFrame({'predicted':list(pred),'observed':y_test})\n",
    "results['predicted'].plot(color='red',linestyle='--')\n",
    "results['observed'].plot(color='black',linestyle='-')\n",
    "plt.xlabel('Days')\n",
    "plt.ylabel('Runoff(cumes)')\n",
    "plt.title('SVR_40')\n",
    "plt.legend(loc='upper right')\n",
    "plt.savefig('SVR_40_scatter.png')\n",
    "plt.show()"
   ]
  },
  {
   "cell_type": "code",
   "execution_count": null,
   "id": "b4580602",
   "metadata": {},
   "outputs": [],
   "source": [
    "results.to_csv('40_svr.csv')\n",
    "plt.scatter(pred,y_test)\n",
    "m, b = np.polyfit(pred,y_test, 1)\n",
    "\n",
    "#add linear regression line to scatterplot \n",
    "plt.plot(pred,m*pred+b)\n",
    "plt.xlabel('predicted')\n",
    "plt.ylabel('observed')\n",
    "plt.title('40_SVR')\n",
    "plt.savefig('40_SVR_scatter.jpg')"
   ]
  },
  {
   "cell_type": "code",
   "execution_count": null,
   "id": "60cae326",
   "metadata": {},
   "outputs": [],
   "source": [
    "print('accuracy:',model.score(x_test,y_test))\n",
    "def fun(a,p):\n",
    "    ARE = []\n",
    "    n = len(pred)\n",
    "    for i in range(n):\n",
    "        val = (abs(a[i]-p[i])/a[i])*100\n",
    "        ARE.append(val)\n",
    "    c = 0\n",
    "    for i in range(n):\n",
    "        if ARE[i]<75:\n",
    "            c+=1\n",
    "    TS_75 = (c*100)/n\n",
    "    \n",
    "    d = 0\n",
    "    for i in range(n):\n",
    "        if ARE[i]<100:\n",
    "            d+=1\n",
    "    TS_100 = (d*100)/n\n",
    "    \n",
    "    return TS_75,TS_100\n",
    "\n",
    "TS_75,TS_100 = fun(y_test,pred)\n",
    "\n",
    "print(\"TS 75: \", TS_75, \"TS 100: \", TS_100)"
   ]
  },
  {
   "cell_type": "markdown",
   "id": "8cd48778",
   "metadata": {},
   "source": [
    "#  Decision tree"
   ]
  },
  {
   "cell_type": "code",
   "execution_count": null,
   "id": "8e75ebca",
   "metadata": {},
   "outputs": [],
   "source": [
    "model=DecisionTreeRegressor()"
   ]
  },
  {
   "cell_type": "code",
   "execution_count": null,
   "id": "a375ceda",
   "metadata": {},
   "outputs": [],
   "source": [
    "model.fit(x_train,y_train)\n",
    "pred=model.predict(x_train)\n",
    "results=pd.DataFrame({'predicted':list(pred),'observed':y_train})\n",
    "results['predicted'].plot(color='red',linestyle='--')\n",
    "results['observed'].plot(color='black',linestyle='-')\n",
    "plt.xlabel('Days')\n",
    "plt.ylabel('Runoff(cumes)')\n",
    "plt.title('DT_60')\n",
    "plt.legend(loc='upper right')\n",
    "plt.savefig('DT_60_scatter.png')\n",
    "plt.show()"
   ]
  },
  {
   "cell_type": "code",
   "execution_count": null,
   "id": "f4c05b60",
   "metadata": {},
   "outputs": [],
   "source": [
    "results.to_csv('60_Decisiontree.csv')\n",
    "plt.scatter(pred,y_train)\n",
    "m, b = np.polyfit(pred,y_train, 1)\n",
    "\n",
    "#add linear regression line to scatterplot \n",
    "plt.plot(pred,m*pred+b)\n",
    "plt.xlabel('predicted')\n",
    "plt.ylabel('observed')\n",
    "plt.title('60_DT_')\n",
    "plt.savefig('60_DT_scatter.jpg')"
   ]
  },
  {
   "cell_type": "code",
   "execution_count": null,
   "id": "d75249aa",
   "metadata": {},
   "outputs": [],
   "source": [
    "print('accuracy:',model.score(x_train,y_train))\n",
    "def fun(a,p):\n",
    "    ARE = []\n",
    "    n = len(pred)\n",
    "    for i in range(n):\n",
    "        val = (abs(a[i]-p[i])/a[i])*100\n",
    "        ARE.append(val)\n",
    "    c = 0\n",
    "    for i in range(n):\n",
    "        if ARE[i]<75:\n",
    "            c+=1\n",
    "    TS_75 = (c*100)/n\n",
    "    \n",
    "    d = 0\n",
    "    for i in range(n):\n",
    "        if ARE[i]<100:\n",
    "            d+=1\n",
    "    TS_100 = (d*100)/n\n",
    "    \n",
    "    return TS_75,TS_100\n",
    "\n",
    "TS_75,TS_100 = fun(y_train,pred)\n",
    "\n",
    "print(\"TS 75: \", TS_75, \"TS 100: \", TS_100)"
   ]
  },
  {
   "cell_type": "code",
   "execution_count": null,
   "id": "99b7e7bf",
   "metadata": {},
   "outputs": [],
   "source": [
    "model.fit(x_train,y_train)\n",
    "pred=model.predict(x_test)\n",
    "results=pd.DataFrame({'predicted':list(pred),'observed':y_test})\n",
    "results['predicted'].plot(color='red',linestyle='--')\n",
    "results['observed'].plot(color='black',linestyle='-')\n",
    "plt.xlabel('Days')\n",
    "plt.ylabel('Runoff(cumes)')\n",
    "plt.title('DT_40')\n",
    "plt.legend(loc='upper right')\n",
    "plt.savefig('DT_40_scatter.png')\n",
    "plt.show()"
   ]
  },
  {
   "cell_type": "code",
   "execution_count": null,
   "id": "8f831ce0",
   "metadata": {},
   "outputs": [],
   "source": [
    "results.to_csv('40_Decisiontree.csv')\n",
    "plt.scatter(pred,y_test)\n",
    "m, b = np.polyfit(pred,y_test, 1)\n",
    "\n",
    "#add linear regression line to scatterplot \n",
    "plt.plot(pred,m*pred+b)\n",
    "plt.xlabel('predicted')\n",
    "plt.ylabel('observed')\n",
    "plt.title('40_DT_')\n",
    "plt.savefig('40_DT_scatter.jpg')"
   ]
  },
  {
   "cell_type": "code",
   "execution_count": null,
   "id": "615ef8c9",
   "metadata": {},
   "outputs": [],
   "source": [
    "print('accuracy:',model.score(x_test,y_test))\n",
    "def fun(a,p):\n",
    "    ARE = []\n",
    "    n = len(pred)\n",
    "    for i in range(n):\n",
    "        val = (abs(a[i]-p[i])/a[i])*100\n",
    "        ARE.append(val)\n",
    "    c = 0\n",
    "    for i in range(n):\n",
    "        if ARE[i]<75:\n",
    "            c+=1\n",
    "    TS_75 = (c*100)/n\n",
    "    \n",
    "    d = 0\n",
    "    for i in range(n):\n",
    "        if ARE[i]<100:\n",
    "            d+=1\n",
    "    TS_100 = (d*100)/n\n",
    "    \n",
    "    return TS_75,TS_100\n",
    "\n",
    "TS_75,TS_100 = fun(y_test,pred)\n",
    "\n",
    "print(\"TS 75: \", TS_75, \"TS 100: \", TS_100)"
   ]
  },
  {
   "cell_type": "markdown",
   "id": "0db41db2",
   "metadata": {},
   "source": [
    "# RandomForest"
   ]
  },
  {
   "cell_type": "code",
   "execution_count": null,
   "id": "a01a8c1e",
   "metadata": {},
   "outputs": [],
   "source": [
    "model=RandomForestRegressor()"
   ]
  },
  {
   "cell_type": "code",
   "execution_count": null,
   "id": "e28485fa",
   "metadata": {},
   "outputs": [],
   "source": [
    "model.fit(x_train,y_train)\n",
    "pred=model.predict(x_train)\n",
    "results=pd.DataFrame({'predicted':list(pred),'observed':y_train})\n",
    "results['predicted'].plot(color='red',linestyle='--')\n",
    "results['observed'].plot(color='black',linestyle='-')\n",
    "plt.xlabel('Days')\n",
    "plt.ylabel('Runoff(cumes)')\n",
    "plt.title('RF_60')\n",
    "plt.legend(loc='upper right')\n",
    "plt.savefig('RF_60_scatter.png')\n",
    "plt.show()"
   ]
  },
  {
   "cell_type": "code",
   "execution_count": null,
   "id": "16e2fb95",
   "metadata": {},
   "outputs": [],
   "source": [
    "results.to_csv('60_RandomForest.csv')\n",
    "plt.scatter(pred,y_train)\n",
    "m, b = np.polyfit(pred,y_train, 1)\n",
    "\n",
    "#add linear regression line to scatterplot \n",
    "plt.plot(pred,m*pred+b)\n",
    "plt.xlabel('predicted')\n",
    "plt.ylabel('observed')\n",
    "plt.title('60_RF_')\n",
    "plt.savefig('60_RF_scatter.jpg')"
   ]
  },
  {
   "cell_type": "code",
   "execution_count": null,
   "id": "2f0c2a26",
   "metadata": {},
   "outputs": [],
   "source": [
    "print('accuracy:',model.score(x_train,y_train))\n",
    "def fun(a,p):\n",
    "    ARE = []\n",
    "    n = len(pred)\n",
    "    for i in range(n):\n",
    "        val = (abs(a[i]-p[i])/a[i])*100\n",
    "        ARE.append(val)\n",
    "    c = 0\n",
    "    for i in range(n):\n",
    "        if ARE[i]<75:\n",
    "            c+=1\n",
    "    TS_75 = (c*100)/n\n",
    "    \n",
    "    d = 0\n",
    "    for i in range(n):\n",
    "        if ARE[i]<100:\n",
    "            d+=1\n",
    "    TS_100 = (d*100)/n\n",
    "    \n",
    "    return TS_75,TS_100\n",
    "\n",
    "TS_75,TS_100 = fun(y_train,pred)\n",
    "\n",
    "print(\"TS 75: \", TS_75, \"TS 100: \", TS_100)"
   ]
  },
  {
   "cell_type": "code",
   "execution_count": null,
   "id": "0ca52f84",
   "metadata": {},
   "outputs": [],
   "source": [
    "model.fit(x_train,y_train)\n",
    "pred=model.predict(x_test)\n",
    "results=pd.DataFrame({'predicted':list(pred),'observed':y_test})\n",
    "results['predicted'].plot(color='red',linestyle='--')\n",
    "results['observed'].plot(color='black',linestyle='-')\n",
    "plt.xlabel('Days')\n",
    "plt.ylabel('Runoff(cumes)')\n",
    "plt.title('RF_40')\n",
    "plt.legend(loc='upper right')\n",
    "plt.savefig('RF_40_scatter.png')\n",
    "plt.show()"
   ]
  },
  {
   "cell_type": "code",
   "execution_count": null,
   "id": "8974e992",
   "metadata": {},
   "outputs": [],
   "source": [
    "results.to_csv('40_RandomForest.csv')\n",
    "plt.scatter(pred,y_test)\n",
    "m, b = np.polyfit(pred,y_test, 1)\n",
    "\n",
    "#add linear regression line to scatterplot \n",
    "plt.plot(pred,m*pred+b)\n",
    "plt.xlabel('predicted')\n",
    "plt.ylabel('observed')\n",
    "plt.title('40_RF_')\n",
    "plt.savefig('40_RF_scatter.jpg')"
   ]
  },
  {
   "cell_type": "code",
   "execution_count": null,
   "id": "2a51f516",
   "metadata": {},
   "outputs": [],
   "source": [
    "print('accuracy:',model.score(x_test,y_test))\n",
    "def fun(a,p):\n",
    "    ARE = []\n",
    "    n = len(pred)\n",
    "    for i in range(n):\n",
    "        val = (abs(a[i]-p[i])/a[i])*100\n",
    "        ARE.append(val)\n",
    "    c = 0\n",
    "    for i in range(n):\n",
    "        if ARE[i]<75:\n",
    "            c+=1\n",
    "    TS_75 = (c*100)/n\n",
    "    \n",
    "    d = 0\n",
    "    for i in range(n):\n",
    "        if ARE[i]<100:\n",
    "            d+=1\n",
    "    TS_100 = (d*100)/n\n",
    "    \n",
    "    return TS_75,TS_100\n",
    "\n",
    "TS_75,TS_100 = fun(y_test,pred)\n",
    "\n",
    "print(\"TS 75: \", TS_75, \"TS 100: \", TS_100)"
   ]
  },
  {
   "cell_type": "markdown",
   "id": "df0fdbab",
   "metadata": {},
   "source": [
    "# XG Booster"
   ]
  },
  {
   "cell_type": "code",
   "execution_count": null,
   "id": "a6ced502",
   "metadata": {},
   "outputs": [],
   "source": [
    "model=XGBRegressor()"
   ]
  },
  {
   "cell_type": "code",
   "execution_count": null,
   "id": "ea9a6585",
   "metadata": {},
   "outputs": [],
   "source": [
    "model.fit(x_train,y_train)\n",
    "pred=model.predict(x_train)\n",
    "results=pd.DataFrame({'predicted':list(pred),'observed':y_train})\n",
    "results['predicted'].plot(color='red',linestyle='--')\n",
    "results['observed'].plot(color='black',linestyle='-')\n",
    "plt.xlabel('Days')\n",
    "plt.ylabel('Runoff(cumes)')\n",
    "plt.title('XGB_60')\n",
    "plt.legend(loc='upper right')\n",
    "plt.savefig('XGB_60_scatter.png')\n",
    "plt.show()"
   ]
  },
  {
   "cell_type": "code",
   "execution_count": null,
   "id": "eaecaf68",
   "metadata": {},
   "outputs": [],
   "source": [
    "results.to_csv('60_XG Booster.csv')\n",
    "plt.scatter(pred,y_train)\n",
    "m, b = np.polyfit(pred,y_train, 1)\n",
    "\n",
    "#add linear regression line to scatterplot \n",
    "plt.plot(pred,m*pred+b)\n",
    "plt.xlabel('predicted')\n",
    "plt.ylabel('observed')\n",
    "plt.title('60_XGB')\n",
    "plt.savefig('60_XGB_scatter.jpg')"
   ]
  },
  {
   "cell_type": "code",
   "execution_count": null,
   "id": "149acc60",
   "metadata": {},
   "outputs": [],
   "source": [
    "print('accuracy:',model.score(x_train,y_train))\n",
    "def fun(a,p):\n",
    "    ARE = []\n",
    "    n = len(pred)\n",
    "    for i in range(n):\n",
    "        val = (abs(a[i]-p[i])/a[i])*100\n",
    "        ARE.append(val)\n",
    "    c = 0\n",
    "    for i in range(n):\n",
    "        if ARE[i]<75:\n",
    "            c+=1\n",
    "    TS_75 = (c*100)/n\n",
    "    \n",
    "    d = 0\n",
    "    for i in range(n):\n",
    "        if ARE[i]<100:\n",
    "            d+=1\n",
    "    TS_100 = (d*100)/n\n",
    "    \n",
    "    return TS_75,TS_100\n",
    "\n",
    "TS_75,TS_100 = fun(y_train,pred)\n",
    "\n",
    "print(\"TS 75: \", TS_75, \"TS 100: \", TS_100)"
   ]
  },
  {
   "cell_type": "code",
   "execution_count": null,
   "id": "6c880764",
   "metadata": {},
   "outputs": [],
   "source": [
    "model.fit(x_train,y_train)\n",
    "pred=model.predict(x_test)\n",
    "results=pd.DataFrame({'predicted':list(pred),'observed':y_test})\n",
    "results['predicted'].plot(color='red',linestyle='--')\n",
    "results['observed'].plot(color='black',linestyle='-')\n",
    "plt.xlabel('Days')\n",
    "plt.ylabel('Runoff(cumes)')\n",
    "plt.title('XGB_40')\n",
    "plt.legend(loc='upper right')\n",
    "plt.savefig('XGB_40_scatter.png')\n",
    "plt.show()"
   ]
  },
  {
   "cell_type": "code",
   "execution_count": null,
   "id": "426ff887",
   "metadata": {},
   "outputs": [],
   "source": [
    "results.to_csv('40_XG Booster.csv')\n",
    "plt.scatter(pred,y_test)\n",
    "m, b = np.polyfit(pred,y_test, 1)\n",
    "\n",
    "#add linear regression line to scatterplot \n",
    "plt.plot(pred,m*pred+b)\n",
    "plt.xlabel('predicted')\n",
    "plt.ylabel('observed')\n",
    "plt.title('40_XGB')\n",
    "plt.savefig('40_XGB_scatter.jpg')"
   ]
  },
  {
   "cell_type": "code",
   "execution_count": null,
   "id": "c80e6de5",
   "metadata": {},
   "outputs": [],
   "source": [
    "print('accuracy:',model.score(x_test,y_test))\n",
    "def fun(a,p):\n",
    "    ARE = []\n",
    "    n = len(pred)\n",
    "    for i in range(n):\n",
    "        val = (abs(a[i]-p[i])/a[i])*100\n",
    "        ARE.append(val)\n",
    "    c = 0\n",
    "    for i in range(n):\n",
    "        if ARE[i]<75:\n",
    "            c+=1\n",
    "    TS_75 = (c*100)/n\n",
    "    \n",
    "    d = 0\n",
    "    for i in range(n):\n",
    "        if ARE[i]<100:\n",
    "            d+=1\n",
    "    TS_100 = (d*100)/n\n",
    "    \n",
    "    return TS_75,TS_100\n",
    "\n",
    "TS_75,TS_100 = fun(y_test,pred)\n",
    "\n",
    "print(\"TS 75: \", TS_75, \"TS 100: \", TS_100)"
   ]
  },
  {
   "cell_type": "markdown",
   "id": "7e34a7ec",
   "metadata": {},
   "source": [
    "# 50-50 test training"
   ]
  },
  {
   "cell_type": "code",
   "execution_count": null,
   "id": "060f5887",
   "metadata": {},
   "outputs": [],
   "source": [
    "x_train,x_test,y_train,y_test=train_test_split(x,y,test_size=0.5,shuffle=False)"
   ]
  },
  {
   "cell_type": "markdown",
   "id": "73c424e3",
   "metadata": {},
   "source": [
    "# SVR"
   ]
  },
  {
   "cell_type": "code",
   "execution_count": null,
   "id": "28a5c675",
   "metadata": {},
   "outputs": [],
   "source": [
    "model=SVR()\n",
    "model = SVR(kernel='linear',C=1.0)\n",
    "model.fit(x_train,y_train)"
   ]
  },
  {
   "cell_type": "code",
   "execution_count": null,
   "id": "0d8aa257",
   "metadata": {},
   "outputs": [],
   "source": [
    "model.fit(x_train,y_train)\n",
    "pred=model.predict(x_train)\n",
    "results=pd.DataFrame({'predicted':list(pred),'observed':y_train})\n",
    "results['predicted'].plot(color='red',linestyle='--')\n",
    "results['observed'].plot(color='black',linestyle='-')\n",
    "plt.xlabel('Days')\n",
    "plt.ylabel('Runoff(cumes)')\n",
    "plt.title('SVR_50_train')\n",
    "plt.legend(loc='upper right')\n",
    "plt.savefig('SVR_50_scatter_train.png')\n",
    "plt.show()"
   ]
  },
  {
   "cell_type": "code",
   "execution_count": null,
   "id": "4db48d7c",
   "metadata": {},
   "outputs": [],
   "source": [
    "results.to_csv('50_svr_train.csv')\n",
    "plt.scatter(pred,y_train)\n",
    "m, b = np.polyfit(pred,y_train, 1)\n",
    "\n",
    "#add linear regression line to scatterplot \n",
    "plt.plot(pred,m*pred+b)\n",
    "plt.xlabel('predicted')\n",
    "plt.ylabel('observed')\n",
    "plt.title('50_SVR_train')\n",
    "plt.savefig('50_SVR_scatter_train.jpg')"
   ]
  },
  {
   "cell_type": "code",
   "execution_count": null,
   "id": "fb2d7af3",
   "metadata": {},
   "outputs": [],
   "source": [
    "print('accuracy:',model.score(x_train,y_train))\n",
    "def fun(a,p):\n",
    "    ARE = []\n",
    "    n = len(pred)\n",
    "    for i in range(n):\n",
    "        val = (abs(a[i]-p[i])/a[i])*100\n",
    "        ARE.append(val)\n",
    "    c = 0\n",
    "    for i in range(n):\n",
    "        if ARE[i]<75:\n",
    "            c+=1\n",
    "    TS_75 = (c*100)/n\n",
    "    \n",
    "    d = 0\n",
    "    for i in range(n):\n",
    "        if ARE[i]<100:\n",
    "            d+=1\n",
    "    TS_100 = (d*100)/n\n",
    "    \n",
    "    return TS_75,TS_100\n",
    "\n",
    "TS_75,TS_100 = fun(y_train,pred)\n",
    "\n",
    "print(\"TS 75: \", TS_75, \"TS 100: \", TS_100)"
   ]
  },
  {
   "cell_type": "code",
   "execution_count": null,
   "id": "1112b9b4",
   "metadata": {},
   "outputs": [],
   "source": [
    "pred=model.predict(x_test)\n",
    "results=pd.DataFrame({'predicted':list(pred),'observed':y_test})\n",
    "results['predicted'].plot(color='red',linestyle='--')\n",
    "results['observed'].plot(color='black',linestyle='-')\n",
    "plt.xlabel('Days')\n",
    "plt.ylabel('Runoff(cumes)')\n",
    "plt.title('SVR_50_test')\n",
    "plt.legend(loc='upper right')\n",
    "plt.savefig('SVR_50_scatter_test.png')\n",
    "plt.show()"
   ]
  },
  {
   "cell_type": "code",
   "execution_count": null,
   "id": "d078b8e4",
   "metadata": {},
   "outputs": [],
   "source": [
    "results.to_csv('50_svr_test.csv')\n",
    "plt.scatter(pred,y_test)\n",
    "m, b = np.polyfit(pred,y_test, 1)\n",
    "\n",
    "#add linear regression line to scatterplot \n",
    "plt.plot(pred,m*pred+b)\n",
    "plt.xlabel('predicted')\n",
    "plt.ylabel('observed')\n",
    "plt.title('50_SVR_test')\n",
    "plt.savefig('50_SVR_scatter_test.jpg')"
   ]
  },
  {
   "cell_type": "code",
   "execution_count": null,
   "id": "84783b78",
   "metadata": {},
   "outputs": [],
   "source": [
    "print('accuracy:',model.score(x_test,y_test))\n",
    "def fun(a,p):\n",
    "    ARE = []\n",
    "    n = len(pred)\n",
    "    for i in range(n):\n",
    "        val = (abs(a[i]-p[i])/a[i])*100\n",
    "        ARE.append(val)\n",
    "    c = 0\n",
    "    for i in range(n):\n",
    "        if ARE[i]<75:\n",
    "            c+=1\n",
    "    TS_75 = (c*100)/n\n",
    "    \n",
    "    d = 0\n",
    "    for i in range(n):\n",
    "        if ARE[i]<100:\n",
    "            d+=1\n",
    "    TS_100 = (d*100)/n\n",
    "    \n",
    "    return TS_75,TS_100\n",
    "\n",
    "TS_75,TS_100 = fun(y_test,pred)\n",
    "\n",
    "print(\"TS 75: \", TS_75, \"TS 100: \", TS_100)  "
   ]
  },
  {
   "cell_type": "markdown",
   "id": "59b4bfc8",
   "metadata": {},
   "source": [
    "# Decision tree "
   ]
  },
  {
   "cell_type": "code",
   "execution_count": null,
   "id": "5e8498c6",
   "metadata": {},
   "outputs": [],
   "source": [
    "model=DecisionTreeRegressor()"
   ]
  },
  {
   "cell_type": "code",
   "execution_count": null,
   "id": "6ab67e59",
   "metadata": {},
   "outputs": [],
   "source": [
    "model.fit(x_train,y_train)\n",
    "pred=model.predict(x_train)\n",
    "results=pd.DataFrame({'predicted':list(pred),'observed':y_train})\n",
    "results['predicted'].plot(color='red',linestyle='--')\n",
    "results['observed'].plot(color='black',linestyle='-')\n",
    "plt.xlabel('Days')\n",
    "plt.ylabel('Runoff(cumes)')\n",
    "plt.title('DT_50_train')\n",
    "plt.legend(loc='upper right')\n",
    "plt.savefig('DT_50_scatter.png')\n",
    "plt.show()"
   ]
  },
  {
   "cell_type": "code",
   "execution_count": null,
   "id": "2905fb3b",
   "metadata": {},
   "outputs": [],
   "source": [
    "results.to_csv('50_Decisiontree_train.csv')\n",
    "plt.scatter(pred,y_train)\n",
    "m, b = np.polyfit(pred,y_train, 1)\n",
    "\n",
    "#add linear regression line to scatterplot \n",
    "plt.plot(pred,m*pred+b)\n",
    "plt.xlabel('predicted')\n",
    "plt.ylabel('observed')\n",
    "plt.title('50_DT_train')\n",
    "plt.savefig('50_DT_scatter_train.jpg')"
   ]
  },
  {
   "cell_type": "code",
   "execution_count": null,
   "id": "04626347",
   "metadata": {},
   "outputs": [],
   "source": [
    "print('accuracy:',model.score(x_train,y_train))\n",
    "def fun(a,p):\n",
    "    ARE = []\n",
    "    n = len(pred)\n",
    "    for i in range(n):\n",
    "        val = (abs(a[i]-p[i])/a[i])*100\n",
    "        ARE.append(val)\n",
    "    c = 0\n",
    "    for i in range(n):\n",
    "        if ARE[i]<75:\n",
    "            c+=1\n",
    "    TS_75 = (c*100)/n\n",
    "    \n",
    "    d = 0\n",
    "    for i in range(n):\n",
    "        if ARE[i]<100:\n",
    "            d+=1\n",
    "    TS_100 = (d*100)/n\n",
    "    \n",
    "    return TS_75,TS_100\n",
    "\n",
    "TS_75,TS_100 = fun(y_train,pred)\n",
    "\n",
    "print(\"TS 75: \", TS_75, \"TS 100: \", TS_100)"
   ]
  },
  {
   "cell_type": "code",
   "execution_count": null,
   "id": "fb242f8f",
   "metadata": {},
   "outputs": [],
   "source": [
    "pred=model.predict(x_test)\n",
    "results=pd.DataFrame({'predicted':list(pred),'observed':y_test})\n",
    "results['predicted'].plot(color='red',linestyle='--')\n",
    "results['observed'].plot(color='black',linestyle='-')\n",
    "plt.xlabel('Days')\n",
    "plt.ylabel('Runoff(cumes)')\n",
    "plt.title('DT_50_test')\n",
    "plt.legend(loc='upper right')\n",
    "plt.savefig('DT_50_test_scatter.png')\n",
    "plt.show()"
   ]
  },
  {
   "cell_type": "code",
   "execution_count": null,
   "id": "8873087c",
   "metadata": {},
   "outputs": [],
   "source": [
    "results.to_csv('50_Decisiontree_test.csv')\n",
    "plt.scatter(pred,y_test)\n",
    "m, b = np.polyfit(pred,y_test, 1)\n",
    "\n",
    "#add linear regression line to scatterplot \n",
    "plt.plot(pred,m*pred+b)\n",
    "plt.xlabel('predicted')\n",
    "plt.ylabel('observed')\n",
    "plt.title('50_DT_test')\n",
    "plt.savefig('50_DT_scatter_test.jpg')"
   ]
  },
  {
   "cell_type": "code",
   "execution_count": null,
   "id": "4ac147e1",
   "metadata": {},
   "outputs": [],
   "source": [
    "print('accuracy:',model.score(x_test,y_test))\n",
    "def fun(a,p):\n",
    "    ARE = []\n",
    "    n = len(pred)\n",
    "    for i in range(n):\n",
    "        val = (abs(a[i]-p[i])/a[i])*100\n",
    "        ARE.append(val)\n",
    "    c = 0\n",
    "    for i in range(n):\n",
    "        if ARE[i]<75:\n",
    "            c+=1\n",
    "    TS_75 = (c*100)/n\n",
    "    \n",
    "    d = 0\n",
    "    for i in range(n):\n",
    "        if ARE[i]<100:\n",
    "            d+=1\n",
    "    TS_100 = (d*100)/n\n",
    "    \n",
    "    return TS_75,TS_100\n",
    "\n",
    "TS_75,TS_100 = fun(y_test,pred)\n",
    "\n",
    "print(\"TS 75: \", TS_75, \"TS 100: \", TS_100)"
   ]
  },
  {
   "cell_type": "markdown",
   "id": "13e91826",
   "metadata": {},
   "source": [
    "# Random forest"
   ]
  },
  {
   "cell_type": "code",
   "execution_count": null,
   "id": "5f287e50",
   "metadata": {},
   "outputs": [],
   "source": [
    "model=RandomForestRegressor()"
   ]
  },
  {
   "cell_type": "code",
   "execution_count": null,
   "id": "fa97224f",
   "metadata": {},
   "outputs": [],
   "source": [
    "model.fit(x_train,y_train)\n",
    "pred=model.predict(x_train)\n",
    "results=pd.DataFrame({'predicted':list(pred),'observed':y_train})\n",
    "results['predicted'].plot(color='red',linestyle='--')\n",
    "results['observed'].plot(color='black',linestyle='-')\n",
    "plt.xlabel('Days')\n",
    "plt.ylabel('Runoff(cumes)')\n",
    "plt.title('RF_50_train')\n",
    "plt.legend(loc='upper right')\n",
    "plt.savefig('RF_80_train_scatter.png')\n",
    "plt.show()"
   ]
  },
  {
   "cell_type": "code",
   "execution_count": null,
   "id": "f94e570b",
   "metadata": {},
   "outputs": [],
   "source": [
    "results.to_csv('50_RandomForest_train.csv')\n",
    "plt.scatter(pred,y_train)\n",
    "m, b = np.polyfit(pred,y_train, 1)\n",
    "\n",
    "#add linear regression line to scatterplot \n",
    "plt.plot(pred,m*pred+b)\n",
    "plt.xlabel('predicted')\n",
    "plt.ylabel('observed')\n",
    "plt.title('50_RF_train')\n",
    "plt.savefig('50_RF_scatter_train.jpg')"
   ]
  },
  {
   "cell_type": "code",
   "execution_count": null,
   "id": "37bda0a4",
   "metadata": {},
   "outputs": [],
   "source": [
    "print('accuracy:',model.score(x_train,y_train))\n",
    "def fun(a,p):\n",
    "    ARE = []\n",
    "    n = len(pred)\n",
    "    for i in range(n):\n",
    "        val = (abs(a[i]-p[i])/a[i])*100\n",
    "        ARE.append(val)\n",
    "    c = 0\n",
    "    for i in range(n):\n",
    "        if ARE[i]<75:\n",
    "            c+=1\n",
    "    TS_75 = (c*100)/n\n",
    "    \n",
    "    d = 0\n",
    "    for i in range(n):\n",
    "        if ARE[i]<100:\n",
    "            d+=1\n",
    "    TS_100 = (d*100)/n\n",
    "    \n",
    "    return TS_75,TS_100\n",
    "\n",
    "TS_75,TS_100 = fun(y_train,pred)\n",
    "\n",
    "print(\"TS 75: \", TS_75, \"TS 100: \", TS_100)"
   ]
  },
  {
   "cell_type": "code",
   "execution_count": null,
   "id": "e72ab846",
   "metadata": {},
   "outputs": [],
   "source": [
    "pred=model.predict(x_test)\n",
    "results=pd.DataFrame({'predicted':list(pred),'observed':y_test})\n",
    "results['predicted'].plot(color='red',linestyle='--')\n",
    "results['observed'].plot(color='black',linestyle='-')\n",
    "plt.xlabel('Days')\n",
    "plt.ylabel('Runoff(cumes)')\n",
    "plt.title('RF_50_test')\n",
    "plt.legend(loc='upper right')\n",
    "plt.savefig('RF_50_test_scatter.png')\n",
    "plt.show()"
   ]
  },
  {
   "cell_type": "code",
   "execution_count": null,
   "id": "0ee70451",
   "metadata": {},
   "outputs": [],
   "source": [
    "results.to_csv('50_RandomForest_test.csv')\n",
    "plt.scatter(pred,y_test)\n",
    "m, b = np.polyfit(pred,y_test, 1)\n",
    "\n",
    "#add linear regression line to scatterplot \n",
    "plt.plot(pred,m*pred+b)\n",
    "plt.xlabel('predicted')\n",
    "plt.ylabel('observed')\n",
    "plt.title('50_RF_test')\n",
    "plt.savefig('50_RF_scatter_test.jpg')"
   ]
  },
  {
   "cell_type": "code",
   "execution_count": null,
   "id": "93243663",
   "metadata": {},
   "outputs": [],
   "source": [
    "print('accuracy:',model.score(x_test,y_test))\n",
    "def fun(a,p):\n",
    "    ARE = []\n",
    "    n = len(pred)\n",
    "    for i in range(n):\n",
    "        val = (abs(a[i]-p[i])/a[i])*100\n",
    "        ARE.append(val)\n",
    "    c = 0\n",
    "    for i in range(n):\n",
    "        if ARE[i]<75:\n",
    "            c+=1\n",
    "    TS_75 = (c*100)/n\n",
    "    \n",
    "    d = 0\n",
    "    for i in range(n):\n",
    "        if ARE[i]<100:\n",
    "            d+=1\n",
    "    TS_100 = (d*100)/n\n",
    "    \n",
    "    return TS_75,TS_100\n",
    "\n",
    "TS_75,TS_100 = fun(y_test,pred)\n",
    "\n",
    "print(\"TS 75: \", TS_75, \"TS 100: \", TS_100)"
   ]
  },
  {
   "cell_type": "markdown",
   "id": "25bebe78",
   "metadata": {},
   "source": [
    "#  XG Booster"
   ]
  },
  {
   "cell_type": "code",
   "execution_count": null,
   "id": "80f5cf70",
   "metadata": {},
   "outputs": [],
   "source": [
    "model=XGBRegressor()"
   ]
  },
  {
   "cell_type": "code",
   "execution_count": null,
   "id": "1f7c7435",
   "metadata": {},
   "outputs": [],
   "source": [
    "model.fit(x_train,y_train)\n",
    "pred=model.predict(x_train)\n",
    "results=pd.DataFrame({'predicted':list(pred),'observed':y_train})\n",
    "results['predicted'].plot(color='red',linestyle='--')\n",
    "results['observed'].plot(color='black',linestyle='-')\n",
    "plt.xlabel('Days')\n",
    "plt.ylabel('Runoff(cumes)')\n",
    "plt.title('XGB_50_train')\n",
    "plt.legend(loc='upper right')\n",
    "plt.savefig('XGB_50_train_scatter.png')\n",
    "plt.show()"
   ]
  },
  {
   "cell_type": "code",
   "execution_count": null,
   "id": "5f2f4166",
   "metadata": {},
   "outputs": [],
   "source": [
    "plt.scatter(pred,y_train)\n",
    "m, b = np.polyfit(pred,y_train, 1)\n",
    "\n",
    "#add linear regression line to scatterplot \n",
    "plt.plot(pred,m*pred+b)\n",
    "plt.xlabel('predicted')\n",
    "plt.ylabel('observed')\n",
    "plt.title('50_XGB_train')\n",
    "plt.savefig('50_XGB_scatter_train.jpg')"
   ]
  },
  {
   "cell_type": "code",
   "execution_count": null,
   "id": "b7da62fe",
   "metadata": {},
   "outputs": [],
   "source": [
    "results.to_csv('50_XG Booster_train.csv')"
   ]
  },
  {
   "cell_type": "code",
   "execution_count": null,
   "id": "299e66bb",
   "metadata": {},
   "outputs": [],
   "source": [
    "print('accuracy:',model.score(x_train,y_train))\n",
    "def fun(a,p):\n",
    "    ARE = []\n",
    "    n = len(pred)\n",
    "    for i in range(n):\n",
    "        val = (abs(a[i]-p[i])/a[i])*100\n",
    "        ARE.append(val)\n",
    "    c = 0\n",
    "    for i in range(n):\n",
    "        if ARE[i]<75:\n",
    "            c+=1\n",
    "    TS_75 = (c*100)/n\n",
    "    \n",
    "    d = 0\n",
    "    for i in range(n):\n",
    "        if ARE[i]<100:\n",
    "            d+=1\n",
    "    TS_100 = (d*100)/n\n",
    "    \n",
    "    return TS_75,TS_100\n",
    "\n",
    "TS_75,TS_100 = fun(y_train,pred)\n",
    "\n",
    "print(\"TS 75: \", TS_75, \"TS 100: \", TS_100)"
   ]
  },
  {
   "cell_type": "code",
   "execution_count": null,
   "id": "66c57bfb",
   "metadata": {},
   "outputs": [],
   "source": [
    "pred=model.predict(x_test)\n",
    "results=pd.DataFrame({'predicted':list(pred),'observed':y_test})\n",
    "results['predicted'].plot(color='red',linestyle='--')\n",
    "results['observed'].plot(color='black',linestyle='-')\n",
    "plt.xlabel('Days')\n",
    "plt.ylabel('Runoff(cumes)')\n",
    "plt.title('XGB_50_test')\n",
    "plt.legend(loc='upper right')\n",
    "plt.savefig('XGB_50_test_scatter.png')\n",
    "plt.show()"
   ]
  },
  {
   "cell_type": "code",
   "execution_count": null,
   "id": "01c2bc79",
   "metadata": {},
   "outputs": [],
   "source": [
    "results.to_csv('50_XG Booster_test.csv')"
   ]
  },
  {
   "cell_type": "code",
   "execution_count": null,
   "id": "0eb39aae",
   "metadata": {},
   "outputs": [],
   "source": [
    "print('accuracy:',model.score(x_test,y_test))\n",
    "def fun(a,p):\n",
    "    ARE = []\n",
    "    n = len(pred)\n",
    "    for i in range(n):\n",
    "        val = (abs(a[i]-p[i])/a[i])*100\n",
    "        ARE.append(val)\n",
    "    c = 0\n",
    "    for i in range(n):\n",
    "        if ARE[i]<75:\n",
    "            c+=1\n",
    "    TS_75 = (c*100)/n\n",
    "    \n",
    "    d = 0\n",
    "    for i in range(n):\n",
    "        if ARE[i]<100:\n",
    "            d+=1\n",
    "    TS_100 = (d*100)/n\n",
    "    \n",
    "    return TS_75,TS_100\n",
    "\n",
    "TS_75,TS_100 = fun(y_test,pred)\n",
    "\n",
    "print(\"TS 75: \", TS_75, \"TS 100: \", TS_100)"
   ]
  },
  {
   "cell_type": "code",
   "execution_count": null,
   "id": "efaa68ac",
   "metadata": {},
   "outputs": [],
   "source": [
    "plt.scatter(pred,y_test)\n",
    "m, b = np.polyfit(pred,y_test, 1)\n",
    "\n",
    "#add linear regression line to scatterplot \n",
    "plt.plot(pred,m*pred+b)\n",
    "plt.xlabel('predicted')\n",
    "plt.ylabel('observed')\n",
    "plt.title('50_XGB_test')\n",
    "plt.savefig('50_XGB_scatter_test.jpg')"
   ]
  },
  {
   "cell_type": "code",
   "execution_count": null,
   "id": "44c5b8c6",
   "metadata": {},
   "outputs": [],
   "source": []
  },
  {
   "cell_type": "code",
   "execution_count": null,
   "id": "4bbbaad7",
   "metadata": {},
   "outputs": [],
   "source": []
  },
  {
   "cell_type": "markdown",
   "id": "538c2f9f",
   "metadata": {},
   "source": [
    "# Metrics"
   ]
  },
  {
   "cell_type": "code",
   "execution_count": null,
   "id": "7edf30c9",
   "metadata": {},
   "outputs": [],
   "source": [
    "import math\n",
    "from sklearn.metrics import mean_squared_error\n",
    "from sklearn.metrics import r2_score\n",
    "from sklearn.metrics import mean_absolute_error"
   ]
  },
  {
   "cell_type": "code",
   "execution_count": null,
   "id": "830e335b",
   "metadata": {},
   "outputs": [],
   "source": [
    "ml=[]\n",
    "values={}\n",
    "model=DecisionTreeRegressor()\n",
    "ml.append(model)\n",
    "model=RandomForestRegressor()\n",
    "ml.append(model)\n",
    "model=XGBRegressor()\n",
    "ml.append(model)\n",
    "model=SVR(kernel='linear')\n",
    "ml.append(model)"
   ]
  },
  {
   "cell_type": "code",
   "execution_count": null,
   "id": "f06ead05",
   "metadata": {},
   "outputs": [],
   "source": [
    "for i in ml:\n",
    "    i.fit(x_train,y_train)\n",
    "    pred=i.predict(x_train)\n",
    "    r2=r2_score(y_train,pred)\n",
    "    rmse=np.sqrt(mean_squared_error(y_train,pred))\n",
    "    adj_r2= 1 - ( 1-i.score(x_train, y_train) ) * ( len(y_train) - 1 ) / ( len(y_train) - x_train.shape[1] - 1 )\n",
    "    mae=mean_absolute_error(y_train,pred)\n",
    "    values[str(i)[:12]]=[adj_r2,rmse,r2,mae]"
   ]
  },
  {
   "cell_type": "code",
   "execution_count": null,
   "id": "a6ffe480",
   "metadata": {},
   "outputs": [],
   "source": [
    "values=pd.DataFrame(values)\n",
    "values.index=['adj_R2_Score','RMSE','R2','MAE']\n",
    "values"
   ]
  },
  {
   "cell_type": "code",
   "execution_count": null,
   "id": "01e8078f",
   "metadata": {},
   "outputs": [],
   "source": [
    "ml=[]\n",
    "values={}\n",
    "model=DecisionTreeRegressor()\n",
    "ml.append(model)\n",
    "model=RandomForestRegressor()\n",
    "ml.append(model)\n",
    "model=XGBRegressor()\n",
    "ml.append(model)\n",
    "model=SVR(kernel='linear')\n",
    "ml.append(model)"
   ]
  },
  {
   "cell_type": "code",
   "execution_count": null,
   "id": "61fed84e",
   "metadata": {},
   "outputs": [],
   "source": [
    "for i in ml:\n",
    "    i.fit(x_test,y_test)\n",
    "    pred=i.predict(x_test)\n",
    "    r2=r2_score(y_test,pred)\n",
    "    rmse=np.sqrt(mean_squared_error(y_test,pred))\n",
    "    adj_r2= 1 - ( 1-i.score(x_test, y_test) ) * ( len(y_test) - 1 ) / ( len(y_test) - x_test.shape[1] - 1 )\n",
    "    mae=mean_absolute_error(y_test,pred)\n",
    "    values[str(i)[:12]]=[adj_r2,rmse,r2,mae]"
   ]
  },
  {
   "cell_type": "code",
   "execution_count": null,
   "id": "5164f6fa",
   "metadata": {},
   "outputs": [],
   "source": [
    "values=pd.DataFrame(values)\n",
    "values.index=['adj_R2_Score','RMSE','R2','MAE']\n",
    "values"
   ]
  },
  {
   "cell_type": "code",
   "execution_count": null,
   "id": "aef20dea",
   "metadata": {},
   "outputs": [],
   "source": []
  }
 ],
 "metadata": {
  "kernelspec": {
   "display_name": "Python 3 (ipykernel)",
   "language": "python",
   "name": "python3"
  },
  "language_info": {
   "codemirror_mode": {
    "name": "ipython",
    "version": 3
   },
   "file_extension": ".py",
   "mimetype": "text/x-python",
   "name": "python",
   "nbconvert_exporter": "python",
   "pygments_lexer": "ipython3",
   "version": "3.9.7"
  }
 },
 "nbformat": 4,
 "nbformat_minor": 5
}
