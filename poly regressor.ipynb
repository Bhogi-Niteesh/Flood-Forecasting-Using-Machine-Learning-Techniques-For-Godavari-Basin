{
 "cells": [
  {
   "cell_type": "code",
   "execution_count": 1,
   "id": "fe718b38",
   "metadata": {},
   "outputs": [],
   "source": [
    "import numpy as np\n",
    "import pandas as pd\n",
    "import matplotlib.pyplot as plt\n",
    "import datetime\n",
    "import seaborn as sns"
   ]
  },
  {
   "cell_type": "code",
   "execution_count": 2,
   "id": "b8d2566e",
   "metadata": {},
   "outputs": [],
   "source": [
    "data=pd.read_excel(r'C:\\Users\\NITEESH\\Downloads\\Telegram Desktop\\project.xlsx')\n",
    "PLR=[]\n",
    "final=pd.DataFrame()"
   ]
  },
  {
   "cell_type": "code",
   "execution_count": null,
   "id": "f3cea2db",
   "metadata": {},
   "outputs": [],
   "source": [
    "data"
   ]
  },
  {
   "cell_type": "code",
   "execution_count": null,
   "id": "ad074396",
   "metadata": {},
   "outputs": [],
   "source": [
    "data=data.drop(2552)\n",
    "data['RUNOFF(Cumes)']=data['RUNOFF(Cumes)'].astype('float')\n",
    "data\n"
   ]
  },
  {
   "cell_type": "code",
   "execution_count": null,
   "id": "28d71fd8",
   "metadata": {},
   "outputs": [],
   "source": [
    "data.describe()"
   ]
  },
  {
   "cell_type": "code",
   "execution_count": null,
   "id": "79952984",
   "metadata": {},
   "outputs": [],
   "source": [
    "data['RunOff (t-1)']=data['RUNOFF(Cumes)'].shift(1)\n",
    "data['RunOff (t-2)']=data['RUNOFF(Cumes)'].shift(2)\n",
    "data['RunOff (t-3)']=data['RUNOFF(Cumes)'].shift(3)\n",
    "data['RunOff (t-4)']=data['RUNOFF(Cumes)'].shift(4)\n",
    "data['AVERAGE RAINFALL(mm/day)(t-1)']=data['AVERAGE RAINFALL(mm/day)'].shift(1)\n",
    "data['AVERAGE RAINFALL(mm/day)(t-2)']=data['AVERAGE RAINFALL(mm/day)'].shift(2)\n",
    "data['AVERAGE RAINFALL(mm/day)(t-3)']=data['AVERAGE RAINFALL(mm/day)'].shift(3)\n",
    "data['AVERAGE RAINFALL(mm/day)(t-4)']=data['AVERAGE RAINFALL(mm/day)'].shift(4)"
   ]
  },
  {
   "cell_type": "code",
   "execution_count": null,
   "id": "698fbb69",
   "metadata": {},
   "outputs": [],
   "source": [
    "data.dropna(inplace=True)"
   ]
  },
  {
   "cell_type": "code",
   "execution_count": null,
   "id": "8b645f1a",
   "metadata": {},
   "outputs": [],
   "source": [
    "data"
   ]
  },
  {
   "cell_type": "code",
   "execution_count": null,
   "id": "f08d5150",
   "metadata": {},
   "outputs": [],
   "source": [
    "data.set_index('DATES',inplace=True)"
   ]
  },
  {
   "cell_type": "code",
   "execution_count": null,
   "id": "5aadf73e",
   "metadata": {},
   "outputs": [],
   "source": [
    "data['RUNOFF(Cumes)'].plot()"
   ]
  },
  {
   "cell_type": "code",
   "execution_count": null,
   "id": "72c4c7a8",
   "metadata": {},
   "outputs": [],
   "source": [
    "data"
   ]
  },
  {
   "cell_type": "code",
   "execution_count": null,
   "id": "b47d301b",
   "metadata": {},
   "outputs": [],
   "source": [
    "data.info()"
   ]
  },
  {
   "cell_type": "code",
   "execution_count": null,
   "id": "3f28a544",
   "metadata": {},
   "outputs": [],
   "source": [
    "data.columns"
   ]
  },
  {
   "cell_type": "code",
   "execution_count": null,
   "id": "2436d3f2",
   "metadata": {},
   "outputs": [],
   "source": [
    "y=data['RUNOFF(Cumes)']\n",
    "x=data.drop('RUNOFF(Cumes)',axis=1)"
   ]
  },
  {
   "cell_type": "markdown",
   "id": "2036da4b",
   "metadata": {},
   "source": [
    "# 80-20 Training testing "
   ]
  },
  {
   "cell_type": "code",
   "execution_count": null,
   "id": "a3e1e12e",
   "metadata": {},
   "outputs": [],
   "source": [
    "from sklearn.preprocessing import PolynomialFeatures\n",
    "from sklearn.linear_model import LinearRegression\n",
    "import math\n",
    "from sklearn.metrics import mean_squared_error\n",
    "from sklearn.metrics import r2_score\n",
    "from sklearn.metrics import mean_absolute_error\n",
    "from sklearn.model_selection import train_test_split\n",
    "x_train,x_test,y_train,y_test=train_test_split(x,y,test_size=0.2,shuffle=False)"
   ]
  },
  {
   "cell_type": "code",
   "execution_count": null,
   "id": "dc5338b0",
   "metadata": {
    "scrolled": true
   },
   "outputs": [],
   "source": [
    "model=PolynomialFeatures(2)\n",
    "x_train=model.fit_transform(np.array(x_train))\n",
    "x_test=model.fit_transform(np.array(x_test))"
   ]
  },
  {
   "cell_type": "code",
   "execution_count": null,
   "id": "e8796252",
   "metadata": {},
   "outputs": [],
   "source": [
    "print(x_train)\n",
    "print(x_test)"
   ]
  },
  {
   "cell_type": "code",
   "execution_count": null,
   "id": "beee528c",
   "metadata": {},
   "outputs": [],
   "source": [
    "reg = LinearRegression()\n",
    "reg.fit(x_train,y_train)\n",
    "print(\"Train Score\",reg.score(x_train, y_train))\n",
    "print(\"Test Score\",reg.score(x_test,y_test))"
   ]
  },
  {
   "cell_type": "code",
   "execution_count": null,
   "id": "fa5c43ab",
   "metadata": {
    "scrolled": true
   },
   "outputs": [],
   "source": [
    "pred=reg.predict(x_train)\n",
    "results=pd.DataFrame({'predicted':list(pred),'observed':y_train})\n",
    "results['predicted'].plot(color='red',linestyle='--')\n",
    "results['observed'].plot(color='black',linestyle='-')\n",
    "plt.xlabel('Days')\n",
    "plt.ylabel('Runoff(cumes)')\n",
    "plt.title('MLR_train_80')\n",
    "plt.legend(loc='upper right')\n",
    "plt.savefig('MLR_train_80_red.png')\n",
    "plt.show()\n"
   ]
  },
  {
   "cell_type": "code",
   "execution_count": null,
   "id": "55598611",
   "metadata": {},
   "outputs": [],
   "source": [
    "pred=reg.predict(x_train)\n",
    "results=pd.DataFrame({'predicted':list(pred),'observed':y_train})\n",
    "results['predicted'].plot(color='red',linestyle='--')\n",
    "results['observed'].plot(color='black',linestyle='-')\n",
    "plt.xlabel('Days')\n",
    "plt.ylabel('Runoff(cumes)')\n",
    "plt.title('MLR_train_80')\n",
    "plt.legend(loc='upper right')\n",
    "plt.savefig('MLR_train_80_black.png')\n",
    "plt.show()"
   ]
  },
  {
   "cell_type": "code",
   "execution_count": null,
   "id": "5bd3751b",
   "metadata": {},
   "outputs": [],
   "source": [
    "results.to_csv('80_PR.csv')\n",
    "plt.scatter(pred,y_train)\n",
    "m, b = np.polyfit(pred,y_train, 1)\n",
    "#add linear regression line to scatterplot \n",
    "plt.plot(pred,m*pred+b)\n",
    "plt.xlabel('predicted')\n",
    "plt.ylabel('observed')\n",
    "plt.title('80_MLR_train')\n",
    "plt.savefig('80_MLR_scatter.jpg')\n",
    "results"
   ]
  },
  {
   "cell_type": "code",
   "execution_count": null,
   "id": "df856687",
   "metadata": {},
   "outputs": [],
   "source": [
    "def fun(a,p):\n",
    "    ARE = []\n",
    "    n = len(pred)\n",
    "    for i in range(n):\n",
    "        val = (abs(a[i]-p[i])/a[i])*100\n",
    "        ARE.append(val)\n",
    "    c = 0\n",
    "    for i in range(n):\n",
    "        if ARE[i]<75:\n",
    "            c+=1\n",
    "    TS_75 = (c*100)/n\n",
    "    \n",
    "    d = 0\n",
    "    for i in range(n):\n",
    "        if ARE[i]<100:\n",
    "            d+=1\n",
    "    TS_100 = (d*100)/n\n",
    "    \n",
    "    return TS_75,TS_100\n",
    "\n",
    "TS_75,TS_100 = fun(y_train,pred)\n",
    "\n",
    "print(\"TS 75: \", TS_75, \"TS 100: \", TS_100)"
   ]
  },
  {
   "cell_type": "code",
   "execution_count": null,
   "id": "204a6d16",
   "metadata": {},
   "outputs": [],
   "source": []
  },
  {
   "cell_type": "code",
   "execution_count": null,
   "id": "dccf2c75",
   "metadata": {},
   "outputs": [],
   "source": [
    "pred=reg.predict(x_test)\n",
    "results=pd.DataFrame({'predicted':list(pred),'observed':y_test})\n",
    "results['predicted'].plot(color='red',linestyle='--')\n",
    "results['observed'].plot(color='black',linestyle='-')\n",
    "plt.xlabel('Days')\n",
    "plt.ylabel('Runoff(cumes)')\n",
    "plt.title('MLR_test_20')\n",
    "plt.legend(loc='upper right')\n",
    "plt.savefig('MLR_test_20_black.png')\n",
    "plt.show()"
   ]
  },
  {
   "cell_type": "code",
   "execution_count": null,
   "id": "8dd87e31",
   "metadata": {},
   "outputs": [],
   "source": [
    "def fun(a,p):\n",
    "    ARE = []\n",
    "    n = len(pred)\n",
    "    for i in range(n):\n",
    "        val = (abs(a[i]-p[i])/a[i])*100\n",
    "        ARE.append(val)\n",
    "    c = 0\n",
    "    for i in range(n):\n",
    "        if ARE[i]<75:\n",
    "            c+=1\n",
    "    TS_75 = (c*100)/n\n",
    "    \n",
    "    d = 0\n",
    "    for i in range(n):\n",
    "        if ARE[i]<100:\n",
    "            d+=1\n",
    "    TS_100 = (d*100)/n\n",
    "    \n",
    "    return TS_75,TS_100\n",
    "\n",
    "TS_75,TS_100 = fun(y_test,pred)\n",
    "\n",
    "print(\"TS 75: \", TS_75, \"TS 100: \", TS_100)"
   ]
  },
  {
   "cell_type": "code",
   "execution_count": null,
   "id": "014f50ef",
   "metadata": {},
   "outputs": [],
   "source": [
    "results.to_csv('20_PR.csv')\n",
    "plt.scatter(pred,y_test)\n",
    "m, b = np.polyfit(pred,y_test, 1)\n",
    "\n",
    "#add linear regression line to scatterplot \n",
    "plt.plot(pred,m*pred+b)\n",
    "plt.xlabel('predicted')\n",
    "plt.ylabel('observed')\n",
    "plt.title('20_MLR_test')\n",
    "plt.savefig('20_MLR_scatter.jpg')\n",
    "results"
   ]
  },
  {
   "cell_type": "code",
   "execution_count": null,
   "id": "f5eb26d9",
   "metadata": {},
   "outputs": [],
   "source": [
    "x_train,x_test,y_train,y_test=train_test_split(x,y,test_size=0.3,shuffle=False)"
   ]
  },
  {
   "cell_type": "code",
   "execution_count": null,
   "id": "74219d6f",
   "metadata": {},
   "outputs": [],
   "source": [
    "model=PolynomialFeatures(2)\n",
    "x_train=model.fit_transform(np.array(x_train))\n",
    "x_test=model.transform(np.array(x_test))"
   ]
  },
  {
   "cell_type": "code",
   "execution_count": null,
   "id": "3de2391f",
   "metadata": {},
   "outputs": [],
   "source": [
    "reg = LinearRegression()\n",
    "reg.fit(x_train,y_train)\n",
    "print(\"Train Score\",reg.score(x_train, y_train))\n",
    "print(\"Test Score\",reg.score(x_test,y_test))\n"
   ]
  },
  {
   "cell_type": "code",
   "execution_count": null,
   "id": "48dc2bca",
   "metadata": {},
   "outputs": [],
   "source": [
    "pred=reg.predict(x_train)\n",
    "results=pd.DataFrame({'predicted':list(pred),'observed':y_train})\n",
    "results['predicted'].plot(color='red',linestyle='--')\n",
    "results['observed'].plot(color='black',linestyle='-')\n",
    "plt.xlabel('Days')\n",
    "plt.ylabel('Runoff(cumes)')\n",
    "plt.title('MLR_train_70')\n",
    "plt.legend(loc='upper right')\n",
    "plt.savefig('MLR_train_70_black.png')\n",
    "plt.show()"
   ]
  },
  {
   "cell_type": "code",
   "execution_count": null,
   "id": "1e786860",
   "metadata": {},
   "outputs": [],
   "source": [
    "def fun(a,p):\n",
    "    ARE = []\n",
    "    n = len(pred)\n",
    "    for i in range(n):\n",
    "        val = (abs(a[i]-p[i])/a[i])*100\n",
    "        ARE.append(val)\n",
    "    c = 0\n",
    "    for i in range(n):\n",
    "        if ARE[i]<75:\n",
    "            c+=1\n",
    "    TS_75 = (c*100)/n\n",
    "    \n",
    "    d = 0\n",
    "    for i in range(n):\n",
    "        if ARE[i]<100:\n",
    "            d+=1\n",
    "    TS_100 = (d*100)/n\n",
    "    \n",
    "    return TS_75,TS_100\n",
    "\n",
    "TS_75,TS_100 = fun(y_train,pred)\n",
    "\n",
    "print(\"TS 75: \", TS_75, \"TS 100: \", TS_100)"
   ]
  },
  {
   "cell_type": "code",
   "execution_count": null,
   "id": "49fe41cb",
   "metadata": {},
   "outputs": [],
   "source": [
    "results.to_csv('70_PR.csv')\n",
    "plt.scatter(pred,y_train)\n",
    "m, b = np.polyfit(pred,y_train, 1)\n",
    "#add linear regression line to scatterplot \n",
    "plt.plot(pred,m*pred+b)\n",
    "plt.xlabel('predicted')\n",
    "plt.ylabel('observed')\n",
    "plt.title('70_MLR_Train')\n",
    "plt.savefig('70_MLR_scatter.jpg')\n",
    "results"
   ]
  },
  {
   "cell_type": "code",
   "execution_count": null,
   "id": "e1850b60",
   "metadata": {},
   "outputs": [],
   "source": [
    "pred=reg.predict(x_test)\n",
    "results=pd.DataFrame({'predicted':list(pred),'observed':y_test})\n",
    "results['predicted'].plot(color='red',linestyle='--')\n",
    "results['observed'].plot(color='black',linestyle='-')\n",
    "plt.xlabel('Days')\n",
    "plt.ylabel('Runoff(cumes)')\n",
    "plt.title('MLR_test_30')\n",
    "plt.legend(loc='upper right')\n",
    "plt.savefig('MLR_test_30_black.png')\n",
    "plt.show()"
   ]
  },
  {
   "cell_type": "code",
   "execution_count": null,
   "id": "c0332f46",
   "metadata": {},
   "outputs": [],
   "source": [
    "def fun(a,p):\n",
    "    ARE = []\n",
    "    n = len(pred)\n",
    "    for i in range(n):\n",
    "        val = (abs(a[i]-p[i])/a[i])*100\n",
    "        ARE.append(val)\n",
    "    c = 0\n",
    "    for i in range(n):\n",
    "        if ARE[i]<75:\n",
    "            c+=1\n",
    "    TS_75 = (c*100)/n\n",
    "    \n",
    "    d = 0\n",
    "    for i in range(n):\n",
    "        if ARE[i]<100:\n",
    "            d+=1\n",
    "    TS_100 = (d*100)/n\n",
    "    \n",
    "    return TS_75,TS_100\n",
    "\n",
    "TS_75,TS_100 = fun(y_test,pred)\n",
    "\n",
    "print(\"TS 75: \", TS_75, \"TS 100: \", TS_100)"
   ]
  },
  {
   "cell_type": "code",
   "execution_count": null,
   "id": "42b76f12",
   "metadata": {},
   "outputs": [],
   "source": [
    "results.to_csv('30_PR.csv')\n",
    "plt.scatter(pred,y_test)\n",
    "m, b = np.polyfit(pred,y_test, 1)\n",
    "\n",
    "#add linear regression line to scatterplot \n",
    "plt.plot(pred,m*pred+b)\n",
    "plt.xlabel('predicted')\n",
    "plt.ylabel('observed')\n",
    "plt.title('30_MLR_test')\n",
    "plt.savefig('30_MLR_scatter.jpg')\n",
    "results"
   ]
  },
  {
   "cell_type": "code",
   "execution_count": null,
   "id": "f5e1ecfb",
   "metadata": {},
   "outputs": [],
   "source": [
    "x_train,x_test,y_train,y_test=train_test_split(x,y,test_size=0.4,shuffle=False)"
   ]
  },
  {
   "cell_type": "code",
   "execution_count": null,
   "id": "61a8fa17",
   "metadata": {},
   "outputs": [],
   "source": [
    "model=PolynomialFeatures(2)\n",
    "x_train=model.fit_transform(np.array(x_train))\n",
    "x_test=model.transform(np.array(x_test))"
   ]
  },
  {
   "cell_type": "code",
   "execution_count": null,
   "id": "965b5400",
   "metadata": {},
   "outputs": [],
   "source": [
    "reg = LinearRegression()\n",
    "reg.fit(x_train,y_train)\n",
    "print(\"Train Score\",reg.score(x_train, y_train))\n",
    "print(\"Test Score\",reg.score(x_test,y_test))"
   ]
  },
  {
   "cell_type": "code",
   "execution_count": null,
   "id": "ddc50288",
   "metadata": {},
   "outputs": [],
   "source": [
    "pred=reg.predict(x_train)\n",
    "results=pd.DataFrame({'predicted':list(pred),'observed':y_train})\n",
    "results['predicted'].plot(color='red',linestyle='--')\n",
    "results['observed'].plot(color='black',linestyle='-')\n",
    "plt.xlabel('Days')\n",
    "plt.ylabel('Runoff(cumes)')\n",
    "plt.title('MLR_train_60')\n",
    "plt.legend(loc='upper right')\n",
    "plt.savefig('MLR_train_60_black.png')\n",
    "plt.show()"
   ]
  },
  {
   "cell_type": "code",
   "execution_count": null,
   "id": "3966b0f1",
   "metadata": {},
   "outputs": [],
   "source": [
    "def fun(a,p):\n",
    "    ARE = []\n",
    "    n = len(pred)\n",
    "    for i in range(n):\n",
    "        val = (abs(a[i]-p[i])/a[i])*100\n",
    "        ARE.append(val)\n",
    "    c = 0\n",
    "    for i in range(n):\n",
    "        if ARE[i]<75:\n",
    "            c+=1\n",
    "    TS_75 = (c*100)/n\n",
    "    \n",
    "    d = 0\n",
    "    for i in range(n):\n",
    "        if ARE[i]<100:\n",
    "            d+=1\n",
    "    TS_100 = (d*100)/n\n",
    "    \n",
    "    return TS_75,TS_100\n",
    "\n",
    "TS_75,TS_100 = fun(y_train,pred)\n",
    "\n",
    "print(\"TS 75: \", TS_75, \"TS 100: \", TS_100)"
   ]
  },
  {
   "cell_type": "code",
   "execution_count": null,
   "id": "a75024e5",
   "metadata": {},
   "outputs": [],
   "source": [
    "results.to_csv('60_PR.csv')\n",
    "plt.scatter(pred,y_train)\n",
    "m, b = np.polyfit(pred,y_train, 1)\n",
    "#add linear regression line to scatterplot \n",
    "plt.plot(pred,m*pred+b)\n",
    "plt.xlabel('predicted')\n",
    "plt.ylabel('observed')\n",
    "plt.title('60_MLR_train')\n",
    "plt.savefig('60_MLR_scatter.jpg')\n",
    "results"
   ]
  },
  {
   "cell_type": "code",
   "execution_count": null,
   "id": "69a3ba72",
   "metadata": {},
   "outputs": [],
   "source": [
    "pred=reg.predict(x_test)\n",
    "results=pd.DataFrame({'predicted':list(pred),'observed':y_test})\n",
    "results['predicted'].plot(color='red',linestyle='--')\n",
    "results['observed'].plot(color='black',linestyle='-')\n",
    "plt.xlabel('Days')\n",
    "plt.ylabel('Runoff(cumes)')\n",
    "plt.title('MLR_test_40')\n",
    "plt.legend(loc='upper right')\n",
    "plt.savefig('MLR_test_40_black.png')\n",
    "plt.show()"
   ]
  },
  {
   "cell_type": "code",
   "execution_count": null,
   "id": "a645166d",
   "metadata": {},
   "outputs": [],
   "source": [
    "def fun(a,p):\n",
    "    ARE = []\n",
    "    n = len(pred)\n",
    "    for i in range(n):\n",
    "        val = (abs(a[i]-p[i])/a[i])*100\n",
    "        ARE.append(val)\n",
    "    c = 0\n",
    "    for i in range(n):\n",
    "        if ARE[i]<75:\n",
    "            c+=1\n",
    "    TS_75 = (c*100)/n\n",
    "    \n",
    "    d = 0\n",
    "    for i in range(n):\n",
    "        if ARE[i]<100:\n",
    "            d+=1\n",
    "    TS_100 = (d*100)/n\n",
    "    \n",
    "    return TS_75,TS_100\n",
    "\n",
    "TS_75,TS_100 = fun(y_test,pred)\n",
    "\n",
    "print(\"TS 75: \", TS_75, \"TS 100: \", TS_100)"
   ]
  },
  {
   "cell_type": "code",
   "execution_count": null,
   "id": "9fc11a44",
   "metadata": {},
   "outputs": [],
   "source": [
    "results.to_csv('40_PR.csv')\n",
    "plt.scatter(pred,y_test)\n",
    "m, b = np.polyfit(pred,y_test, 1)\n",
    "\n",
    "#add linear regression line to scatterplot \n",
    "plt.plot(pred,m*pred+b)\n",
    "plt.xlabel('predicted')\n",
    "plt.ylabel('observed')\n",
    "plt.title('40_MLR_test')\n",
    "plt.savefig('40_MLR_scatter.jpg')\n",
    "results"
   ]
  },
  {
   "cell_type": "code",
   "execution_count": null,
   "id": "0689265e",
   "metadata": {},
   "outputs": [],
   "source": [
    "x_train,x_test,y_train,y_test=train_test_split(x,y,test_size=0.5,shuffle=False)"
   ]
  },
  {
   "cell_type": "code",
   "execution_count": null,
   "id": "33838920",
   "metadata": {},
   "outputs": [],
   "source": [
    "model=PolynomialFeatures(2)\n",
    "x_train=model.fit_transform(np.array(x_train))\n",
    "x_test=model.transform(np.array(x_test))"
   ]
  },
  {
   "cell_type": "code",
   "execution_count": null,
   "id": "40fdc63b",
   "metadata": {},
   "outputs": [],
   "source": [
    "reg = LinearRegression()\n",
    "reg.fit(x_train,y_train)\n",
    "print(\"Train Score\",reg.score(x_train, y_train))\n",
    "print(\"Test Score\",reg.score(x_test,y_test))"
   ]
  },
  {
   "cell_type": "code",
   "execution_count": null,
   "id": "a64e2fff",
   "metadata": {},
   "outputs": [],
   "source": [
    "pred=reg.predict(x_train)\n",
    "results=pd.DataFrame({'predicted':list(pred),'observed':y_train})\n",
    "results['predicted'].plot(color='red',linestyle='--')\n",
    "results['observed'].plot(color='black',linestyle='-')\n",
    "plt.xlabel('Days')\n",
    "plt.ylabel('Runoff(cumes)')\n",
    "plt.title('MLR_train_50')\n",
    "plt.legend(loc='upper right')\n",
    "plt.savefig('MLR_train_50_black.png')\n",
    "plt.show()"
   ]
  },
  {
   "cell_type": "code",
   "execution_count": null,
   "id": "e33cc5c3",
   "metadata": {},
   "outputs": [],
   "source": [
    "def fun(a,p):\n",
    "    ARE = []\n",
    "    n = len(pred)\n",
    "    for i in range(n):\n",
    "        val = (abs(a[i]-p[i])/a[i])*100\n",
    "        ARE.append(val)\n",
    "    c = 0\n",
    "    for i in range(n):\n",
    "        if ARE[i]<75:\n",
    "            c+=1\n",
    "    TS_75 = (c*100)/n\n",
    "    \n",
    "    d = 0\n",
    "    for i in range(n):\n",
    "        if ARE[i]<100:\n",
    "            d+=1\n",
    "    TS_100 = (d*100)/n\n",
    "    \n",
    "    return TS_75,TS_100\n",
    "\n",
    "TS_75,TS_100 = fun(y_train,pred)\n",
    "\n",
    "print(\"TS 75: \", TS_75, \"TS 100: \", TS_100)"
   ]
  },
  {
   "cell_type": "code",
   "execution_count": null,
   "id": "73af67cf",
   "metadata": {},
   "outputs": [],
   "source": [
    "results.to_csv('50_PR_train.csv')\n",
    "plt.scatter(pred,y_train)\n",
    "m, b = np.polyfit(pred,y_train, 1)\n",
    "\n",
    "#add linear regression line to scatterplot \n",
    "plt.plot(pred,m*pred+b)\n",
    "plt.xlabel('predicted')\n",
    "plt.ylabel('observed')\n",
    "plt.title('50_MLR_train')\n",
    "plt.savefig('50_MLR_train_scatter.jpg')\n",
    "results"
   ]
  },
  {
   "cell_type": "code",
   "execution_count": null,
   "id": "05b55851",
   "metadata": {},
   "outputs": [],
   "source": [
    "pred=reg.predict(x_test)\n",
    "results=pd.DataFrame({'predicted':list(pred),'observed':y_test})\n",
    "results['predicted'].plot(color='red',linestyle='--')\n",
    "results['observed'].plot(color='black',linestyle='-')\n",
    "plt.xlabel('Days')\n",
    "plt.ylabel('Runoff(cumes)')\n",
    "plt.title('MLR_test_50')\n",
    "plt.legend(loc='upper right')\n",
    "plt.savefig('MLR_test_50_black.png')\n",
    "plt.show()"
   ]
  },
  {
   "cell_type": "code",
   "execution_count": null,
   "id": "9c51ea29",
   "metadata": {},
   "outputs": [],
   "source": [
    "def fun(a,p):\n",
    "    ARE = []\n",
    "    n = len(pred)\n",
    "    for i in range(n):\n",
    "        val = (abs(a[i]-p[i])/a[i])*100\n",
    "        ARE.append(val)\n",
    "    c = 0\n",
    "    for i in range(n):\n",
    "        if ARE[i]<75:\n",
    "            c+=1\n",
    "    TS_75 = (c*100)/n\n",
    "    \n",
    "    d = 0\n",
    "    for i in range(n):\n",
    "        if ARE[i]<100:\n",
    "            d+=1\n",
    "    TS_100 = (d*100)/n\n",
    "    \n",
    "    return TS_75,TS_100\n",
    "\n",
    "TS_75,TS_100 = fun(y_test,pred)\n",
    "\n",
    "print(\"TS 75: \", TS_75, \"TS 100: \", TS_100)"
   ]
  },
  {
   "cell_type": "code",
   "execution_count": null,
   "id": "7226d08e",
   "metadata": {},
   "outputs": [],
   "source": [
    "results.to_csv('50_PR_test.csv')\n",
    "plt.scatter(pred,y_test)\n",
    "m, b = np.polyfit(pred,y_test, 1)\n",
    "\n",
    "#add linear regression line to scatterplot \n",
    "plt.plot(pred,m*pred+b)\n",
    "plt.xlabel('predicted')\n",
    "plt.ylabel('observed')\n",
    "plt.title('50_MLR_test')\n",
    "plt.savefig('50_MLR_testscatter.jpg')\n",
    "results"
   ]
  },
  {
   "cell_type": "code",
   "execution_count": null,
   "id": "4805ec4d",
   "metadata": {},
   "outputs": [],
   "source": []
  }
 ],
 "metadata": {
  "kernelspec": {
   "display_name": "Python 3 (ipykernel)",
   "language": "python",
   "name": "python3"
  },
  "language_info": {
   "codemirror_mode": {
    "name": "ipython",
    "version": 3
   },
   "file_extension": ".py",
   "mimetype": "text/x-python",
   "name": "python",
   "nbconvert_exporter": "python",
   "pygments_lexer": "ipython3",
   "version": "3.9.7"
  }
 },
 "nbformat": 4,
 "nbformat_minor": 5
}
