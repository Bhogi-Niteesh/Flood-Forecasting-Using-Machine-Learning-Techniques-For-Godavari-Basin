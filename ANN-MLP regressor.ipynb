{
 "cells": [
  {
   "cell_type": "code",
   "execution_count": 1,
   "id": "c8802697",
   "metadata": {},
   "outputs": [],
   "source": [
    "import numpy as np\n",
    "import pandas as pd\n",
    "import matplotlib.pyplot as plt\n",
    "import datetime\n",
    "import seaborn as sns\n",
    "from sklearn.neural_network import MLPRegressor"
   ]
  },
  {
   "cell_type": "code",
   "execution_count": 2,
   "id": "7bc04e02",
   "metadata": {},
   "outputs": [],
   "source": [
    "data=pd.read_excel(r'C:\\Users\\NITEESH\\Downloads\\Telegram Desktop\\project.xlsx')"
   ]
  },
  {
   "cell_type": "code",
   "execution_count": 3,
   "id": "c3e5eacc",
   "metadata": {},
   "outputs": [
    {
     "data": {
      "text/html": [
       "<div>\n",
       "<style scoped>\n",
       "    .dataframe tbody tr th:only-of-type {\n",
       "        vertical-align: middle;\n",
       "    }\n",
       "\n",
       "    .dataframe tbody tr th {\n",
       "        vertical-align: top;\n",
       "    }\n",
       "\n",
       "    .dataframe thead th {\n",
       "        text-align: right;\n",
       "    }\n",
       "</style>\n",
       "<table border=\"1\" class=\"dataframe\">\n",
       "  <thead>\n",
       "    <tr style=\"text-align: right;\">\n",
       "      <th></th>\n",
       "      <th>DATES</th>\n",
       "      <th>RUNOFF(Cumes)</th>\n",
       "      <th>AVERAGE RAINFALL(mm/day)</th>\n",
       "    </tr>\n",
       "  </thead>\n",
       "  <tbody>\n",
       "    <tr>\n",
       "      <th>0</th>\n",
       "      <td>2009-01-01</td>\n",
       "      <td>237.62383</td>\n",
       "      <td>0.0000</td>\n",
       "    </tr>\n",
       "    <tr>\n",
       "      <th>1</th>\n",
       "      <td>2009-01-02</td>\n",
       "      <td>238.6355</td>\n",
       "      <td>0.0300</td>\n",
       "    </tr>\n",
       "    <tr>\n",
       "      <th>2</th>\n",
       "      <td>2009-01-03</td>\n",
       "      <td>236</td>\n",
       "      <td>0.0125</td>\n",
       "    </tr>\n",
       "    <tr>\n",
       "      <th>3</th>\n",
       "      <td>2009-01-04</td>\n",
       "      <td>238</td>\n",
       "      <td>0.0025</td>\n",
       "    </tr>\n",
       "    <tr>\n",
       "      <th>4</th>\n",
       "      <td>2009-01-05</td>\n",
       "      <td>232.05756</td>\n",
       "      <td>0.0000</td>\n",
       "    </tr>\n",
       "    <tr>\n",
       "      <th>...</th>\n",
       "      <td>...</td>\n",
       "      <td>...</td>\n",
       "      <td>...</td>\n",
       "    </tr>\n",
       "    <tr>\n",
       "      <th>2548</th>\n",
       "      <td>2015-12-28</td>\n",
       "      <td>254.35973</td>\n",
       "      <td>0.0000</td>\n",
       "    </tr>\n",
       "    <tr>\n",
       "      <th>2549</th>\n",
       "      <td>2015-12-29</td>\n",
       "      <td>241.89023</td>\n",
       "      <td>0.0000</td>\n",
       "    </tr>\n",
       "    <tr>\n",
       "      <th>2550</th>\n",
       "      <td>2015-12-30</td>\n",
       "      <td>254.69104</td>\n",
       "      <td>0.0000</td>\n",
       "    </tr>\n",
       "    <tr>\n",
       "      <th>2551</th>\n",
       "      <td>2015-12-31</td>\n",
       "      <td>203.03522</td>\n",
       "      <td>0.0000</td>\n",
       "    </tr>\n",
       "    <tr>\n",
       "      <th>2552</th>\n",
       "      <td>NaT</td>\n",
       "      <td></td>\n",
       "      <td>NaN</td>\n",
       "    </tr>\n",
       "  </tbody>\n",
       "</table>\n",
       "<p>2553 rows × 3 columns</p>\n",
       "</div>"
      ],
      "text/plain": [
       "          DATES RUNOFF(Cumes)  AVERAGE RAINFALL(mm/day)\n",
       "0    2009-01-01     237.62383                    0.0000\n",
       "1    2009-01-02      238.6355                    0.0300\n",
       "2    2009-01-03           236                    0.0125\n",
       "3    2009-01-04           238                    0.0025\n",
       "4    2009-01-05     232.05756                    0.0000\n",
       "...         ...           ...                       ...\n",
       "2548 2015-12-28     254.35973                    0.0000\n",
       "2549 2015-12-29     241.89023                    0.0000\n",
       "2550 2015-12-30     254.69104                    0.0000\n",
       "2551 2015-12-31     203.03522                    0.0000\n",
       "2552        NaT                                     NaN\n",
       "\n",
       "[2553 rows x 3 columns]"
      ]
     },
     "execution_count": 3,
     "metadata": {},
     "output_type": "execute_result"
    }
   ],
   "source": [
    "data"
   ]
  },
  {
   "cell_type": "code",
   "execution_count": 4,
   "id": "e67e2d39",
   "metadata": {},
   "outputs": [
    {
     "data": {
      "text/html": [
       "<div>\n",
       "<style scoped>\n",
       "    .dataframe tbody tr th:only-of-type {\n",
       "        vertical-align: middle;\n",
       "    }\n",
       "\n",
       "    .dataframe tbody tr th {\n",
       "        vertical-align: top;\n",
       "    }\n",
       "\n",
       "    .dataframe thead th {\n",
       "        text-align: right;\n",
       "    }\n",
       "</style>\n",
       "<table border=\"1\" class=\"dataframe\">\n",
       "  <thead>\n",
       "    <tr style=\"text-align: right;\">\n",
       "      <th></th>\n",
       "      <th>DATES</th>\n",
       "      <th>RUNOFF(Cumes)</th>\n",
       "      <th>AVERAGE RAINFALL(mm/day)</th>\n",
       "    </tr>\n",
       "  </thead>\n",
       "  <tbody>\n",
       "    <tr>\n",
       "      <th>0</th>\n",
       "      <td>2009-01-01</td>\n",
       "      <td>237.62383</td>\n",
       "      <td>0.0000</td>\n",
       "    </tr>\n",
       "    <tr>\n",
       "      <th>1</th>\n",
       "      <td>2009-01-02</td>\n",
       "      <td>238.63550</td>\n",
       "      <td>0.0300</td>\n",
       "    </tr>\n",
       "    <tr>\n",
       "      <th>2</th>\n",
       "      <td>2009-01-03</td>\n",
       "      <td>236.00000</td>\n",
       "      <td>0.0125</td>\n",
       "    </tr>\n",
       "    <tr>\n",
       "      <th>3</th>\n",
       "      <td>2009-01-04</td>\n",
       "      <td>238.00000</td>\n",
       "      <td>0.0025</td>\n",
       "    </tr>\n",
       "    <tr>\n",
       "      <th>4</th>\n",
       "      <td>2009-01-05</td>\n",
       "      <td>232.05756</td>\n",
       "      <td>0.0000</td>\n",
       "    </tr>\n",
       "    <tr>\n",
       "      <th>...</th>\n",
       "      <td>...</td>\n",
       "      <td>...</td>\n",
       "      <td>...</td>\n",
       "    </tr>\n",
       "    <tr>\n",
       "      <th>2547</th>\n",
       "      <td>2015-12-27</td>\n",
       "      <td>271.80314</td>\n",
       "      <td>0.0000</td>\n",
       "    </tr>\n",
       "    <tr>\n",
       "      <th>2548</th>\n",
       "      <td>2015-12-28</td>\n",
       "      <td>254.35973</td>\n",
       "      <td>0.0000</td>\n",
       "    </tr>\n",
       "    <tr>\n",
       "      <th>2549</th>\n",
       "      <td>2015-12-29</td>\n",
       "      <td>241.89023</td>\n",
       "      <td>0.0000</td>\n",
       "    </tr>\n",
       "    <tr>\n",
       "      <th>2550</th>\n",
       "      <td>2015-12-30</td>\n",
       "      <td>254.69104</td>\n",
       "      <td>0.0000</td>\n",
       "    </tr>\n",
       "    <tr>\n",
       "      <th>2551</th>\n",
       "      <td>2015-12-31</td>\n",
       "      <td>203.03522</td>\n",
       "      <td>0.0000</td>\n",
       "    </tr>\n",
       "  </tbody>\n",
       "</table>\n",
       "<p>2552 rows × 3 columns</p>\n",
       "</div>"
      ],
      "text/plain": [
       "          DATES  RUNOFF(Cumes)  AVERAGE RAINFALL(mm/day)\n",
       "0    2009-01-01      237.62383                    0.0000\n",
       "1    2009-01-02      238.63550                    0.0300\n",
       "2    2009-01-03      236.00000                    0.0125\n",
       "3    2009-01-04      238.00000                    0.0025\n",
       "4    2009-01-05      232.05756                    0.0000\n",
       "...         ...            ...                       ...\n",
       "2547 2015-12-27      271.80314                    0.0000\n",
       "2548 2015-12-28      254.35973                    0.0000\n",
       "2549 2015-12-29      241.89023                    0.0000\n",
       "2550 2015-12-30      254.69104                    0.0000\n",
       "2551 2015-12-31      203.03522                    0.0000\n",
       "\n",
       "[2552 rows x 3 columns]"
      ]
     },
     "execution_count": 4,
     "metadata": {},
     "output_type": "execute_result"
    }
   ],
   "source": [
    "data=data.drop(2552)\n",
    "data['RUNOFF(Cumes)']=data['RUNOFF(Cumes)'].astype('float')\n",
    "data"
   ]
  },
  {
   "cell_type": "code",
   "execution_count": 5,
   "id": "8879641b",
   "metadata": {},
   "outputs": [
    {
     "data": {
      "text/html": [
       "<div>\n",
       "<style scoped>\n",
       "    .dataframe tbody tr th:only-of-type {\n",
       "        vertical-align: middle;\n",
       "    }\n",
       "\n",
       "    .dataframe tbody tr th {\n",
       "        vertical-align: top;\n",
       "    }\n",
       "\n",
       "    .dataframe thead th {\n",
       "        text-align: right;\n",
       "    }\n",
       "</style>\n",
       "<table border=\"1\" class=\"dataframe\">\n",
       "  <thead>\n",
       "    <tr style=\"text-align: right;\">\n",
       "      <th></th>\n",
       "      <th>RUNOFF(Cumes)</th>\n",
       "      <th>AVERAGE RAINFALL(mm/day)</th>\n",
       "    </tr>\n",
       "  </thead>\n",
       "  <tbody>\n",
       "    <tr>\n",
       "      <th>count</th>\n",
       "      <td>2552.000000</td>\n",
       "      <td>2552.000000</td>\n",
       "    </tr>\n",
       "    <tr>\n",
       "      <th>mean</th>\n",
       "      <td>2536.308765</td>\n",
       "      <td>3.058114</td>\n",
       "    </tr>\n",
       "    <tr>\n",
       "      <th>std</th>\n",
       "      <td>5203.616438</td>\n",
       "      <td>6.225914</td>\n",
       "    </tr>\n",
       "    <tr>\n",
       "      <th>min</th>\n",
       "      <td>47.143963</td>\n",
       "      <td>0.000000</td>\n",
       "    </tr>\n",
       "    <tr>\n",
       "      <th>25%</th>\n",
       "      <td>255.896600</td>\n",
       "      <td>0.000000</td>\n",
       "    </tr>\n",
       "    <tr>\n",
       "      <th>50%</th>\n",
       "      <td>405.185800</td>\n",
       "      <td>0.178750</td>\n",
       "    </tr>\n",
       "    <tr>\n",
       "      <th>75%</th>\n",
       "      <td>2016.836550</td>\n",
       "      <td>3.177188</td>\n",
       "    </tr>\n",
       "    <tr>\n",
       "      <th>max</th>\n",
       "      <td>39046.710000</td>\n",
       "      <td>52.397500</td>\n",
       "    </tr>\n",
       "  </tbody>\n",
       "</table>\n",
       "</div>"
      ],
      "text/plain": [
       "       RUNOFF(Cumes)  AVERAGE RAINFALL(mm/day)\n",
       "count    2552.000000               2552.000000\n",
       "mean     2536.308765                  3.058114\n",
       "std      5203.616438                  6.225914\n",
       "min        47.143963                  0.000000\n",
       "25%       255.896600                  0.000000\n",
       "50%       405.185800                  0.178750\n",
       "75%      2016.836550                  3.177188\n",
       "max     39046.710000                 52.397500"
      ]
     },
     "execution_count": 5,
     "metadata": {},
     "output_type": "execute_result"
    }
   ],
   "source": [
    "data.describe()"
   ]
  },
  {
   "cell_type": "code",
   "execution_count": 6,
   "id": "eb231c5d",
   "metadata": {},
   "outputs": [],
   "source": [
    "data['RunOff (t-1)']=data['RUNOFF(Cumes)'].shift(1)\n",
    "data['RunOff (t-2)']=data['RUNOFF(Cumes)'].shift(2)\n",
    "data['RunOff (t-3)']=data['RUNOFF(Cumes)'].shift(3)\n",
    "data['RunOff (t-4)']=data['RUNOFF(Cumes)'].shift(4)\n",
    "data['AVERAGE RAINFALL(mm/day)(t-1)']=data['AVERAGE RAINFALL(mm/day)'].shift(1)\n",
    "data['AVERAGE RAINFALL(mm/day)(t-2)']=data['AVERAGE RAINFALL(mm/day)'].shift(2)\n",
    "data['AVERAGE RAINFALL(mm/day)(t-3)']=data['AVERAGE RAINFALL(mm/day)'].shift(3)\n",
    "data['AVERAGE RAINFALL(mm/day)(t-4)']=data['AVERAGE RAINFALL(mm/day)'].shift(4)"
   ]
  },
  {
   "cell_type": "code",
   "execution_count": 7,
   "id": "138c3709",
   "metadata": {},
   "outputs": [],
   "source": [
    "data.dropna(inplace=True)"
   ]
  },
  {
   "cell_type": "code",
   "execution_count": 8,
   "id": "2f57a7ac",
   "metadata": {},
   "outputs": [
    {
     "data": {
      "text/html": [
       "<div>\n",
       "<style scoped>\n",
       "    .dataframe tbody tr th:only-of-type {\n",
       "        vertical-align: middle;\n",
       "    }\n",
       "\n",
       "    .dataframe tbody tr th {\n",
       "        vertical-align: top;\n",
       "    }\n",
       "\n",
       "    .dataframe thead th {\n",
       "        text-align: right;\n",
       "    }\n",
       "</style>\n",
       "<table border=\"1\" class=\"dataframe\">\n",
       "  <thead>\n",
       "    <tr style=\"text-align: right;\">\n",
       "      <th></th>\n",
       "      <th>DATES</th>\n",
       "      <th>RUNOFF(Cumes)</th>\n",
       "      <th>AVERAGE RAINFALL(mm/day)</th>\n",
       "      <th>RunOff (t-1)</th>\n",
       "      <th>RunOff (t-2)</th>\n",
       "      <th>RunOff (t-3)</th>\n",
       "      <th>RunOff (t-4)</th>\n",
       "      <th>AVERAGE RAINFALL(mm/day)(t-1)</th>\n",
       "      <th>AVERAGE RAINFALL(mm/day)(t-2)</th>\n",
       "      <th>AVERAGE RAINFALL(mm/day)(t-3)</th>\n",
       "      <th>AVERAGE RAINFALL(mm/day)(t-4)</th>\n",
       "    </tr>\n",
       "  </thead>\n",
       "  <tbody>\n",
       "    <tr>\n",
       "      <th>4</th>\n",
       "      <td>2009-01-05</td>\n",
       "      <td>232.05756</td>\n",
       "      <td>0.000</td>\n",
       "      <td>238.00000</td>\n",
       "      <td>236.000000</td>\n",
       "      <td>238.635500</td>\n",
       "      <td>237.623830</td>\n",
       "      <td>0.0025</td>\n",
       "      <td>0.01250</td>\n",
       "      <td>0.03000</td>\n",
       "      <td>0.00000</td>\n",
       "    </tr>\n",
       "    <tr>\n",
       "      <th>5</th>\n",
       "      <td>2009-01-06</td>\n",
       "      <td>230.00000</td>\n",
       "      <td>0.000</td>\n",
       "      <td>232.05756</td>\n",
       "      <td>238.000000</td>\n",
       "      <td>236.000000</td>\n",
       "      <td>238.635500</td>\n",
       "      <td>0.0000</td>\n",
       "      <td>0.00250</td>\n",
       "      <td>0.01250</td>\n",
       "      <td>0.03000</td>\n",
       "    </tr>\n",
       "    <tr>\n",
       "      <th>6</th>\n",
       "      <td>2009-01-07</td>\n",
       "      <td>232.00000</td>\n",
       "      <td>0.000</td>\n",
       "      <td>230.00000</td>\n",
       "      <td>232.057560</td>\n",
       "      <td>238.000000</td>\n",
       "      <td>236.000000</td>\n",
       "      <td>0.0000</td>\n",
       "      <td>0.00000</td>\n",
       "      <td>0.00250</td>\n",
       "      <td>0.01250</td>\n",
       "    </tr>\n",
       "    <tr>\n",
       "      <th>7</th>\n",
       "      <td>2009-01-08</td>\n",
       "      <td>230.00000</td>\n",
       "      <td>0.005</td>\n",
       "      <td>232.00000</td>\n",
       "      <td>230.000000</td>\n",
       "      <td>232.057560</td>\n",
       "      <td>238.000000</td>\n",
       "      <td>0.0000</td>\n",
       "      <td>0.00000</td>\n",
       "      <td>0.00000</td>\n",
       "      <td>0.00250</td>\n",
       "    </tr>\n",
       "    <tr>\n",
       "      <th>8</th>\n",
       "      <td>2009-01-09</td>\n",
       "      <td>221.77718</td>\n",
       "      <td>0.000</td>\n",
       "      <td>230.00000</td>\n",
       "      <td>232.000000</td>\n",
       "      <td>230.000000</td>\n",
       "      <td>232.057560</td>\n",
       "      <td>0.0050</td>\n",
       "      <td>0.00000</td>\n",
       "      <td>0.00000</td>\n",
       "      <td>0.00000</td>\n",
       "    </tr>\n",
       "    <tr>\n",
       "      <th>...</th>\n",
       "      <td>...</td>\n",
       "      <td>...</td>\n",
       "      <td>...</td>\n",
       "      <td>...</td>\n",
       "      <td>...</td>\n",
       "      <td>...</td>\n",
       "      <td>...</td>\n",
       "      <td>...</td>\n",
       "      <td>...</td>\n",
       "      <td>...</td>\n",
       "      <td>...</td>\n",
       "    </tr>\n",
       "    <tr>\n",
       "      <th>2547</th>\n",
       "      <td>2015-12-27</td>\n",
       "      <td>271.80314</td>\n",
       "      <td>0.000</td>\n",
       "      <td>289.24655</td>\n",
       "      <td>295.057503</td>\n",
       "      <td>300.868455</td>\n",
       "      <td>312.490360</td>\n",
       "      <td>0.2175</td>\n",
       "      <td>0.26875</td>\n",
       "      <td>0.00000</td>\n",
       "      <td>0.00000</td>\n",
       "    </tr>\n",
       "    <tr>\n",
       "      <th>2548</th>\n",
       "      <td>2015-12-28</td>\n",
       "      <td>254.35973</td>\n",
       "      <td>0.000</td>\n",
       "      <td>271.80314</td>\n",
       "      <td>289.246550</td>\n",
       "      <td>295.057503</td>\n",
       "      <td>300.868455</td>\n",
       "      <td>0.0000</td>\n",
       "      <td>0.21750</td>\n",
       "      <td>0.26875</td>\n",
       "      <td>0.00000</td>\n",
       "    </tr>\n",
       "    <tr>\n",
       "      <th>2549</th>\n",
       "      <td>2015-12-29</td>\n",
       "      <td>241.89023</td>\n",
       "      <td>0.000</td>\n",
       "      <td>254.35973</td>\n",
       "      <td>271.803140</td>\n",
       "      <td>289.246550</td>\n",
       "      <td>295.057503</td>\n",
       "      <td>0.0000</td>\n",
       "      <td>0.00000</td>\n",
       "      <td>0.21750</td>\n",
       "      <td>0.26875</td>\n",
       "    </tr>\n",
       "    <tr>\n",
       "      <th>2550</th>\n",
       "      <td>2015-12-30</td>\n",
       "      <td>254.69104</td>\n",
       "      <td>0.000</td>\n",
       "      <td>241.89023</td>\n",
       "      <td>254.359730</td>\n",
       "      <td>271.803140</td>\n",
       "      <td>289.246550</td>\n",
       "      <td>0.0000</td>\n",
       "      <td>0.00000</td>\n",
       "      <td>0.00000</td>\n",
       "      <td>0.21750</td>\n",
       "    </tr>\n",
       "    <tr>\n",
       "      <th>2551</th>\n",
       "      <td>2015-12-31</td>\n",
       "      <td>203.03522</td>\n",
       "      <td>0.000</td>\n",
       "      <td>254.69104</td>\n",
       "      <td>241.890230</td>\n",
       "      <td>254.359730</td>\n",
       "      <td>271.803140</td>\n",
       "      <td>0.0000</td>\n",
       "      <td>0.00000</td>\n",
       "      <td>0.00000</td>\n",
       "      <td>0.00000</td>\n",
       "    </tr>\n",
       "  </tbody>\n",
       "</table>\n",
       "<p>2548 rows × 11 columns</p>\n",
       "</div>"
      ],
      "text/plain": [
       "          DATES  RUNOFF(Cumes)  AVERAGE RAINFALL(mm/day)  RunOff (t-1)  \\\n",
       "4    2009-01-05      232.05756                     0.000     238.00000   \n",
       "5    2009-01-06      230.00000                     0.000     232.05756   \n",
       "6    2009-01-07      232.00000                     0.000     230.00000   \n",
       "7    2009-01-08      230.00000                     0.005     232.00000   \n",
       "8    2009-01-09      221.77718                     0.000     230.00000   \n",
       "...         ...            ...                       ...           ...   \n",
       "2547 2015-12-27      271.80314                     0.000     289.24655   \n",
       "2548 2015-12-28      254.35973                     0.000     271.80314   \n",
       "2549 2015-12-29      241.89023                     0.000     254.35973   \n",
       "2550 2015-12-30      254.69104                     0.000     241.89023   \n",
       "2551 2015-12-31      203.03522                     0.000     254.69104   \n",
       "\n",
       "      RunOff (t-2)  RunOff (t-3)  RunOff (t-4)  AVERAGE RAINFALL(mm/day)(t-1)  \\\n",
       "4       236.000000    238.635500    237.623830                         0.0025   \n",
       "5       238.000000    236.000000    238.635500                         0.0000   \n",
       "6       232.057560    238.000000    236.000000                         0.0000   \n",
       "7       230.000000    232.057560    238.000000                         0.0000   \n",
       "8       232.000000    230.000000    232.057560                         0.0050   \n",
       "...            ...           ...           ...                            ...   \n",
       "2547    295.057503    300.868455    312.490360                         0.2175   \n",
       "2548    289.246550    295.057503    300.868455                         0.0000   \n",
       "2549    271.803140    289.246550    295.057503                         0.0000   \n",
       "2550    254.359730    271.803140    289.246550                         0.0000   \n",
       "2551    241.890230    254.359730    271.803140                         0.0000   \n",
       "\n",
       "      AVERAGE RAINFALL(mm/day)(t-2)  AVERAGE RAINFALL(mm/day)(t-3)  \\\n",
       "4                           0.01250                        0.03000   \n",
       "5                           0.00250                        0.01250   \n",
       "6                           0.00000                        0.00250   \n",
       "7                           0.00000                        0.00000   \n",
       "8                           0.00000                        0.00000   \n",
       "...                             ...                            ...   \n",
       "2547                        0.26875                        0.00000   \n",
       "2548                        0.21750                        0.26875   \n",
       "2549                        0.00000                        0.21750   \n",
       "2550                        0.00000                        0.00000   \n",
       "2551                        0.00000                        0.00000   \n",
       "\n",
       "      AVERAGE RAINFALL(mm/day)(t-4)  \n",
       "4                           0.00000  \n",
       "5                           0.03000  \n",
       "6                           0.01250  \n",
       "7                           0.00250  \n",
       "8                           0.00000  \n",
       "...                             ...  \n",
       "2547                        0.00000  \n",
       "2548                        0.00000  \n",
       "2549                        0.26875  \n",
       "2550                        0.21750  \n",
       "2551                        0.00000  \n",
       "\n",
       "[2548 rows x 11 columns]"
      ]
     },
     "execution_count": 8,
     "metadata": {},
     "output_type": "execute_result"
    }
   ],
   "source": [
    "data"
   ]
  },
  {
   "cell_type": "code",
   "execution_count": 9,
   "id": "e69f4930",
   "metadata": {},
   "outputs": [],
   "source": [
    "data.set_index('DATES',inplace=True)"
   ]
  },
  {
   "cell_type": "code",
   "execution_count": 10,
   "id": "51dc91ec",
   "metadata": {},
   "outputs": [
    {
     "data": {
      "text/plain": [
       "<AxesSubplot:xlabel='DATES'>"
      ]
     },
     "execution_count": 10,
     "metadata": {},
     "output_type": "execute_result"
    },
    {
     "data": {
      "image/png": "[encoded data removed]",
      "text/plain": [
       "<Figure size 432x288 with 1 Axes>"
      ]
     },
     "metadata": {
      "needs_background": "light"
     },
     "output_type": "display_data"
    }
   ],
   "source": [
    "data['RUNOFF(Cumes)'].plot()"
   ]
  },
  {
   "cell_type": "code",
   "execution_count": 11,
   "id": "eb359100",
   "metadata": {},
   "outputs": [
    {
     "data": {
      "text/html": [
       "<div>\n",
       "<style scoped>\n",
       "    .dataframe tbody tr th:only-of-type {\n",
       "        vertical-align: middle;\n",
       "    }\n",
       "\n",
       "    .dataframe tbody tr th {\n",
       "        vertical-align: top;\n",
       "    }\n",
       "\n",
       "    .dataframe thead th {\n",
       "        text-align: right;\n",
       "    }\n",
       "</style>\n",
       "<table border=\"1\" class=\"dataframe\">\n",
       "  <thead>\n",
       "    <tr style=\"text-align: right;\">\n",
       "      <th></th>\n",
       "      <th>RUNOFF(Cumes)</th>\n",
       "      <th>AVERAGE RAINFALL(mm/day)</th>\n",
       "      <th>RunOff (t-1)</th>\n",
       "      <th>RunOff (t-2)</th>\n",
       "      <th>RunOff (t-3)</th>\n",
       "      <th>RunOff (t-4)</th>\n",
       "      <th>AVERAGE RAINFALL(mm/day)(t-1)</th>\n",
       "      <th>AVERAGE RAINFALL(mm/day)(t-2)</th>\n",
       "      <th>AVERAGE RAINFALL(mm/day)(t-3)</th>\n",
       "      <th>AVERAGE RAINFALL(mm/day)(t-4)</th>\n",
       "    </tr>\n",
       "    <tr>\n",
       "      <th>DATES</th>\n",
       "      <th></th>\n",
       "      <th></th>\n",
       "      <th></th>\n",
       "      <th></th>\n",
       "      <th></th>\n",
       "      <th></th>\n",
       "      <th></th>\n",
       "      <th></th>\n",
       "      <th></th>\n",
       "      <th></th>\n",
       "    </tr>\n",
       "  </thead>\n",
       "  <tbody>\n",
       "    <tr>\n",
       "      <th>2009-01-05</th>\n",
       "      <td>232.05756</td>\n",
       "      <td>0.000</td>\n",
       "      <td>238.00000</td>\n",
       "      <td>236.000000</td>\n",
       "      <td>238.635500</td>\n",
       "      <td>237.623830</td>\n",
       "      <td>0.0025</td>\n",
       "      <td>0.01250</td>\n",
       "      <td>0.03000</td>\n",
       "      <td>0.00000</td>\n",
       "    </tr>\n",
       "    <tr>\n",
       "      <th>2009-01-06</th>\n",
       "      <td>230.00000</td>\n",
       "      <td>0.000</td>\n",
       "      <td>232.05756</td>\n",
       "      <td>238.000000</td>\n",
       "      <td>236.000000</td>\n",
       "      <td>238.635500</td>\n",
       "      <td>0.0000</td>\n",
       "      <td>0.00250</td>\n",
       "      <td>0.01250</td>\n",
       "      <td>0.03000</td>\n",
       "    </tr>\n",
       "    <tr>\n",
       "      <th>2009-01-07</th>\n",
       "      <td>232.00000</td>\n",
       "      <td>0.000</td>\n",
       "      <td>230.00000</td>\n",
       "      <td>232.057560</td>\n",
       "      <td>238.000000</td>\n",
       "      <td>236.000000</td>\n",
       "      <td>0.0000</td>\n",
       "      <td>0.00000</td>\n",
       "      <td>0.00250</td>\n",
       "      <td>0.01250</td>\n",
       "    </tr>\n",
       "    <tr>\n",
       "      <th>2009-01-08</th>\n",
       "      <td>230.00000</td>\n",
       "      <td>0.005</td>\n",
       "      <td>232.00000</td>\n",
       "      <td>230.000000</td>\n",
       "      <td>232.057560</td>\n",
       "      <td>238.000000</td>\n",
       "      <td>0.0000</td>\n",
       "      <td>0.00000</td>\n",
       "      <td>0.00000</td>\n",
       "      <td>0.00250</td>\n",
       "    </tr>\n",
       "    <tr>\n",
       "      <th>2009-01-09</th>\n",
       "      <td>221.77718</td>\n",
       "      <td>0.000</td>\n",
       "      <td>230.00000</td>\n",
       "      <td>232.000000</td>\n",
       "      <td>230.000000</td>\n",
       "      <td>232.057560</td>\n",
       "      <td>0.0050</td>\n",
       "      <td>0.00000</td>\n",
       "      <td>0.00000</td>\n",
       "      <td>0.00000</td>\n",
       "    </tr>\n",
       "    <tr>\n",
       "      <th>...</th>\n",
       "      <td>...</td>\n",
       "      <td>...</td>\n",
       "      <td>...</td>\n",
       "      <td>...</td>\n",
       "      <td>...</td>\n",
       "      <td>...</td>\n",
       "      <td>...</td>\n",
       "      <td>...</td>\n",
       "      <td>...</td>\n",
       "      <td>...</td>\n",
       "    </tr>\n",
       "    <tr>\n",
       "      <th>2015-12-27</th>\n",
       "      <td>271.80314</td>\n",
       "      <td>0.000</td>\n",
       "      <td>289.24655</td>\n",
       "      <td>295.057503</td>\n",
       "      <td>300.868455</td>\n",
       "      <td>312.490360</td>\n",
       "      <td>0.2175</td>\n",
       "      <td>0.26875</td>\n",
       "      <td>0.00000</td>\n",
       "      <td>0.00000</td>\n",
       "    </tr>\n",
       "    <tr>\n",
       "      <th>2015-12-28</th>\n",
       "      <td>254.35973</td>\n",
       "      <td>0.000</td>\n",
       "      <td>271.80314</td>\n",
       "      <td>289.246550</td>\n",
       "      <td>295.057503</td>\n",
       "      <td>300.868455</td>\n",
       "      <td>0.0000</td>\n",
       "      <td>0.21750</td>\n",
       "      <td>0.26875</td>\n",
       "      <td>0.00000</td>\n",
       "    </tr>\n",
       "    <tr>\n",
       "      <th>2015-12-29</th>\n",
       "      <td>241.89023</td>\n",
       "      <td>0.000</td>\n",
       "      <td>254.35973</td>\n",
       "      <td>271.803140</td>\n",
       "      <td>289.246550</td>\n",
       "      <td>295.057503</td>\n",
       "      <td>0.0000</td>\n",
       "      <td>0.00000</td>\n",
       "      <td>0.21750</td>\n",
       "      <td>0.26875</td>\n",
       "    </tr>\n",
       "    <tr>\n",
       "      <th>2015-12-30</th>\n",
       "      <td>254.69104</td>\n",
       "      <td>0.000</td>\n",
       "      <td>241.89023</td>\n",
       "      <td>254.359730</td>\n",
       "      <td>271.803140</td>\n",
       "      <td>289.246550</td>\n",
       "      <td>0.0000</td>\n",
       "      <td>0.00000</td>\n",
       "      <td>0.00000</td>\n",
       "      <td>0.21750</td>\n",
       "    </tr>\n",
       "    <tr>\n",
       "      <th>2015-12-31</th>\n",
       "      <td>203.03522</td>\n",
       "      <td>0.000</td>\n",
       "      <td>254.69104</td>\n",
       "      <td>241.890230</td>\n",
       "      <td>254.359730</td>\n",
       "      <td>271.803140</td>\n",
       "      <td>0.0000</td>\n",
       "      <td>0.00000</td>\n",
       "      <td>0.00000</td>\n",
       "      <td>0.00000</td>\n",
       "    </tr>\n",
       "  </tbody>\n",
       "</table>\n",
       "<p>2548 rows × 10 columns</p>\n",
       "</div>"
      ],
      "text/plain": [
       "            RUNOFF(Cumes)  AVERAGE RAINFALL(mm/day)  RunOff (t-1)  \\\n",
       "DATES                                                               \n",
       "2009-01-05      232.05756                     0.000     238.00000   \n",
       "2009-01-06      230.00000                     0.000     232.05756   \n",
       "2009-01-07      232.00000                     0.000     230.00000   \n",
       "2009-01-08      230.00000                     0.005     232.00000   \n",
       "2009-01-09      221.77718                     0.000     230.00000   \n",
       "...                   ...                       ...           ...   \n",
       "2015-12-27      271.80314                     0.000     289.24655   \n",
       "2015-12-28      254.35973                     0.000     271.80314   \n",
       "2015-12-29      241.89023                     0.000     254.35973   \n",
       "2015-12-30      254.69104                     0.000     241.89023   \n",
       "2015-12-31      203.03522                     0.000     254.69104   \n",
       "\n",
       "            RunOff (t-2)  RunOff (t-3)  RunOff (t-4)  \\\n",
       "DATES                                                  \n",
       "2009-01-05    236.000000    238.635500    237.623830   \n",
       "2009-01-06    238.000000    236.000000    238.635500   \n",
       "2009-01-07    232.057560    238.000000    236.000000   \n",
       "2009-01-08    230.000000    232.057560    238.000000   \n",
       "2009-01-09    232.000000    230.000000    232.057560   \n",
       "...                  ...           ...           ...   \n",
       "2015-12-27    295.057503    300.868455    312.490360   \n",
       "2015-12-28    289.246550    295.057503    300.868455   \n",
       "2015-12-29    271.803140    289.246550    295.057503   \n",
       "2015-12-30    254.359730    271.803140    289.246550   \n",
       "2015-12-31    241.890230    254.359730    271.803140   \n",
       "\n",
       "            AVERAGE RAINFALL(mm/day)(t-1)  AVERAGE RAINFALL(mm/day)(t-2)  \\\n",
       "DATES                                                                      \n",
       "2009-01-05                         0.0025                        0.01250   \n",
       "2009-01-06                         0.0000                        0.00250   \n",
       "2009-01-07                         0.0000                        0.00000   \n",
       "2009-01-08                         0.0000                        0.00000   \n",
       "2009-01-09                         0.0050                        0.00000   \n",
       "...                                   ...                            ...   \n",
       "2015-12-27                         0.2175                        0.26875   \n",
       "2015-12-28                         0.0000                        0.21750   \n",
       "2015-12-29                         0.0000                        0.00000   \n",
       "2015-12-30                         0.0000                        0.00000   \n",
       "2015-12-31                         0.0000                        0.00000   \n",
       "\n",
       "            AVERAGE RAINFALL(mm/day)(t-3)  AVERAGE RAINFALL(mm/day)(t-4)  \n",
       "DATES                                                                     \n",
       "2009-01-05                        0.03000                        0.00000  \n",
       "2009-01-06                        0.01250                        0.03000  \n",
       "2009-01-07                        0.00250                        0.01250  \n",
       "2009-01-08                        0.00000                        0.00250  \n",
       "2009-01-09                        0.00000                        0.00000  \n",
       "...                                   ...                            ...  \n",
       "2015-12-27                        0.00000                        0.00000  \n",
       "2015-12-28                        0.26875                        0.00000  \n",
       "2015-12-29                        0.21750                        0.26875  \n",
       "2015-12-30                        0.00000                        0.21750  \n",
       "2015-12-31                        0.00000                        0.00000  \n",
       "\n",
       "[2548 rows x 10 columns]"
      ]
     },
     "execution_count": 11,
     "metadata": {},
     "output_type": "execute_result"
    }
   ],
   "source": [
    "data"
   ]
  },
  {
   "cell_type": "code",
   "execution_count": 12,
   "id": "a16fb38b",
   "metadata": {},
   "outputs": [
    {
     "name": "stdout",
     "output_type": "stream",
     "text": [
      "<class 'pandas.core.frame.DataFrame'>\n",
      "DatetimeIndex: 2548 entries, 2009-01-05 to 2015-12-31\n",
      "Data columns (total 10 columns):\n",
      " #   Column                         Non-Null Count  Dtype  \n",
      "---  ------                         --------------  -----  \n",
      " 0   RUNOFF(Cumes)                  2548 non-null   float64\n",
      " 1   AVERAGE RAINFALL(mm/day)       2548 non-null   float64\n",
      " 2   RunOff (t-1)                   2548 non-null   float64\n",
      " 3   RunOff (t-2)                   2548 non-null   float64\n",
      " 4   RunOff (t-3)                   2548 non-null   float64\n",
      " 5   RunOff (t-4)                   2548 non-null   float64\n",
      " 6   AVERAGE RAINFALL(mm/day)(t-1)  2548 non-null   float64\n",
      " 7   AVERAGE RAINFALL(mm/day)(t-2)  2548 non-null   float64\n",
      " 8   AVERAGE RAINFALL(mm/day)(t-3)  2548 non-null   float64\n",
      " 9   AVERAGE RAINFALL(mm/day)(t-4)  2548 non-null   float64\n",
      "dtypes: float64(10)\n",
      "memory usage: 219.0 KB\n"
     ]
    }
   ],
   "source": [
    "data.info()"
   ]
  },
  {
   "cell_type": "code",
   "execution_count": 13,
   "id": "c584a851",
   "metadata": {},
   "outputs": [],
   "source": [
    "y=data['RUNOFF(Cumes)']\n",
    "x=data.drop('RUNOFF(Cumes)',axis=1)"
   ]
  },
  {
   "cell_type": "code",
   "execution_count": 14,
   "id": "afcd449d",
   "metadata": {},
   "outputs": [],
   "source": [
    "from sklearn.model_selection import train_test_split\n",
    "x_train,x_test,y_train,y_test=train_test_split(x,y,test_size=0.2,shuffle=False)"
   ]
  },
  {
   "cell_type": "code",
   "execution_count": 15,
   "id": "cd21a547",
   "metadata": {},
   "outputs": [
    {
     "name": "stdout",
     "output_type": "stream",
     "text": [
      "train score: 0.9445943622318635\n",
      "Test Score: 0.9325431074490316\n"
     ]
    }
   ],
   "source": [
    "model = MLPRegressor()\n",
    "model.fit(x_train,y_train)\n",
    "print('train score:',model.score(x_train,y_train))\n",
    "print(\"Test Score:\",model.score(x_test,y_test))"
   ]
  },
  {
   "cell_type": "code",
   "execution_count": 16,
   "id": "0253d24b",
   "metadata": {},
   "outputs": [
    {
     "data": {
      "image/png": "[encoded data removed]",
      "text/plain": [
       "<Figure size 432x288 with 1 Axes>"
      ]
     },
     "metadata": {
      "needs_background": "light"
     },
     "output_type": "display_data"
    }
   ],
   "source": [
    "pred=model.predict(x_train)\n",
    "results=pd.DataFrame({'predicted':list(pred),'observed':y_train})\n",
    "results['predicted'].plot(color='red',linestyle='--')\n",
    "results['observed'].plot(color='black',linestyle='-')\n",
    "plt.xlabel('Days')\n",
    "plt.ylabel('Runoff(cumes)')\n",
    "plt.title('ANN_train_80')\n",
    "plt.legend(loc='upper right')\n",
    "plt.savefig('ANN_train_80_black.png')\n",
    "plt.show()"
   ]
  },
  {
   "cell_type": "code",
   "execution_count": 17,
   "id": "9b8cae9b",
   "metadata": {},
   "outputs": [
    {
     "data": {
      "image/png": "[encoded data removed]",
      "text/plain": [
       "<Figure size 432x288 with 1 Axes>"
      ]
     },
     "metadata": {
      "needs_background": "light"
     },
     "output_type": "display_data"
    }
   ],
   "source": [
    "plt.scatter(pred,y_train)\n",
    "m, b = np.polyfit(pred,y_train, 1)\n",
    "\n",
    "#add linear regression line to scatterplot \n",
    "plt.plot(pred,m*pred+b)\n",
    "plt.xlabel('predicted')\n",
    "plt.ylabel('observed')\n",
    "plt.title('80_ANN')\n",
    "plt.savefig('80_ANN_scatter.jpg')"
   ]
  },
  {
   "cell_type": "code",
   "execution_count": 18,
   "id": "e079a226",
   "metadata": {},
   "outputs": [
    {
     "name": "stdout",
     "output_type": "stream",
     "text": [
      "TS 75:  97.44847890088322 TS 100:  98.72423945044162\n"
     ]
    }
   ],
   "source": [
    "def fun(a,p):\n",
    "    ARE = []\n",
    "    n = len(pred)\n",
    "    for i in range(n):\n",
    "        val = (abs(a[i]-p[i])/a[i])*100\n",
    "        ARE.append(val)\n",
    "    c = 0\n",
    "    for i in range(n):\n",
    "        if ARE[i]<75:\n",
    "            c+=1\n",
    "    TS_75 = (c*100)/n\n",
    "    \n",
    "    d = 0\n",
    "    for i in range(n):\n",
    "        if ARE[i]<100:\n",
    "            d+=1\n",
    "    TS_100 = (d*100)/n\n",
    "    \n",
    "    return TS_75,TS_100\n",
    "\n",
    "TS_75,TS_100 = fun(y_train,pred)\n",
    "\n",
    "print(\"TS 75: \", TS_75, \"TS 100: \", TS_100)"
   ]
  },
  {
   "cell_type": "code",
   "execution_count": 19,
   "id": "c23f58ef",
   "metadata": {},
   "outputs": [
    {
     "data": {
      "text/html": [
       "<div>\n",
       "<style scoped>\n",
       "    .dataframe tbody tr th:only-of-type {\n",
       "        vertical-align: middle;\n",
       "    }\n",
       "\n",
       "    .dataframe tbody tr th {\n",
       "        vertical-align: top;\n",
       "    }\n",
       "\n",
       "    .dataframe thead th {\n",
       "        text-align: right;\n",
       "    }\n",
       "</style>\n",
       "<table border=\"1\" class=\"dataframe\">\n",
       "  <thead>\n",
       "    <tr style=\"text-align: right;\">\n",
       "      <th></th>\n",
       "      <th>predicted</th>\n",
       "      <th>observed</th>\n",
       "    </tr>\n",
       "    <tr>\n",
       "      <th>DATES</th>\n",
       "      <th></th>\n",
       "      <th></th>\n",
       "    </tr>\n",
       "  </thead>\n",
       "  <tbody>\n",
       "    <tr>\n",
       "      <th>2009-01-05</th>\n",
       "      <td>227.818948</td>\n",
       "      <td>232.05756</td>\n",
       "    </tr>\n",
       "    <tr>\n",
       "      <th>2009-01-06</th>\n",
       "      <td>218.903483</td>\n",
       "      <td>230.00000</td>\n",
       "    </tr>\n",
       "    <tr>\n",
       "      <th>2009-01-07</th>\n",
       "      <td>218.188818</td>\n",
       "      <td>232.00000</td>\n",
       "    </tr>\n",
       "    <tr>\n",
       "      <th>2009-01-08</th>\n",
       "      <td>222.519920</td>\n",
       "      <td>230.00000</td>\n",
       "    </tr>\n",
       "    <tr>\n",
       "      <th>2009-01-09</th>\n",
       "      <td>218.549411</td>\n",
       "      <td>221.77718</td>\n",
       "    </tr>\n",
       "    <tr>\n",
       "      <th>...</th>\n",
       "      <td>...</td>\n",
       "      <td>...</td>\n",
       "    </tr>\n",
       "    <tr>\n",
       "      <th>2014-07-31</th>\n",
       "      <td>5389.997034</td>\n",
       "      <td>4933.72560</td>\n",
       "    </tr>\n",
       "    <tr>\n",
       "      <th>2014-08-01</th>\n",
       "      <td>4624.293230</td>\n",
       "      <td>3888.45100</td>\n",
       "    </tr>\n",
       "    <tr>\n",
       "      <th>2014-08-02</th>\n",
       "      <td>3503.774560</td>\n",
       "      <td>5931.70100</td>\n",
       "    </tr>\n",
       "    <tr>\n",
       "      <th>2014-08-03</th>\n",
       "      <td>6540.602681</td>\n",
       "      <td>4579.24175</td>\n",
       "    </tr>\n",
       "    <tr>\n",
       "      <th>2014-08-04</th>\n",
       "      <td>3823.341415</td>\n",
       "      <td>3226.78250</td>\n",
       "    </tr>\n",
       "  </tbody>\n",
       "</table>\n",
       "<p>2038 rows × 2 columns</p>\n",
       "</div>"
      ],
      "text/plain": [
       "              predicted    observed\n",
       "DATES                              \n",
       "2009-01-05   227.818948   232.05756\n",
       "2009-01-06   218.903483   230.00000\n",
       "2009-01-07   218.188818   232.00000\n",
       "2009-01-08   222.519920   230.00000\n",
       "2009-01-09   218.549411   221.77718\n",
       "...                 ...         ...\n",
       "2014-07-31  5389.997034  4933.72560\n",
       "2014-08-01  4624.293230  3888.45100\n",
       "2014-08-02  3503.774560  5931.70100\n",
       "2014-08-03  6540.602681  4579.24175\n",
       "2014-08-04  3823.341415  3226.78250\n",
       "\n",
       "[2038 rows x 2 columns]"
      ]
     },
     "execution_count": 19,
     "metadata": {},
     "output_type": "execute_result"
    }
   ],
   "source": [
    "results.to_csv('80_ANN.csv')\n",
    "results"
   ]
  },
  {
   "cell_type": "code",
   "execution_count": 20,
   "id": "2e909ac4",
   "metadata": {},
   "outputs": [
    {
     "data": {
      "image/png": "[encoded data removed]",
      "text/plain": [
       "<Figure size 432x288 with 1 Axes>"
      ]
     },
     "metadata": {
      "needs_background": "light"
     },
     "output_type": "display_data"
    }
   ],
   "source": [
    "pred=model.predict(x_test)\n",
    "results=pd.DataFrame({'predicted':list(pred),'observed':y_test})\n",
    "results['predicted'].plot(color='red',linestyle='--')\n",
    "results['observed'].plot(color='black',linestyle='-')\n",
    "plt.xlabel('Days')\n",
    "plt.ylabel('Runoff(cumes)')\n",
    "plt.title('ANN_20')\n",
    "plt.legend(loc='upper right')\n",
    "plt.savefig('ANN_20_black.png')\n",
    "plt.show()"
   ]
  },
  {
   "cell_type": "code",
   "execution_count": 21,
   "id": "4b9df13d",
   "metadata": {},
   "outputs": [
    {
     "data": {
      "image/png": "[encoded data removed]",
      "text/plain": [
       "<Figure size 432x288 with 1 Axes>"
      ]
     },
     "metadata": {
      "needs_background": "light"
     },
     "output_type": "display_data"
    }
   ],
   "source": [
    "plt.scatter(pred,y_test)\n",
    "m, b = np.polyfit(pred,y_test, 1)\n",
    "\n",
    "#add linear regression line to scatterplot \n",
    "plt.plot(pred,m*pred+b)\n",
    "plt.xlabel('predicted')\n",
    "plt.ylabel('observed')\n",
    "plt.title('20_ANN')\n",
    "plt.savefig('20_ANN_scatter.jpg')"
   ]
  },
  {
   "cell_type": "code",
   "execution_count": 22,
   "id": "ad30b083",
   "metadata": {},
   "outputs": [
    {
     "name": "stdout",
     "output_type": "stream",
     "text": [
      "TS 75:  100.0 TS 100:  100.0\n"
     ]
    }
   ],
   "source": [
    "def fun(a,p):\n",
    "    ARE = []\n",
    "    n = len(pred)\n",
    "    for i in range(n):\n",
    "        val = (abs(a[i]-p[i])/a[i])*100\n",
    "        ARE.append(val)\n",
    "    c = 0\n",
    "    for i in range(n):\n",
    "        if ARE[i]<75:\n",
    "            c+=1\n",
    "    TS_75 = (c*100)/n\n",
    "    \n",
    "    d = 0\n",
    "    for i in range(n):\n",
    "        if ARE[i]<100:\n",
    "            d+=1\n",
    "    TS_100 = (d*100)/n\n",
    "    \n",
    "    return TS_75,TS_100\n",
    "\n",
    "TS_75,TS_100 = fun(y_test,pred)\n",
    "\n",
    "print(\"TS 75: \", TS_75, \"TS 100: \", TS_100)"
   ]
  },
  {
   "cell_type": "code",
   "execution_count": 23,
   "id": "0f5b2e19",
   "metadata": {},
   "outputs": [
    {
     "data": {
      "text/html": [
       "<div>\n",
       "<style scoped>\n",
       "    .dataframe tbody tr th:only-of-type {\n",
       "        vertical-align: middle;\n",
       "    }\n",
       "\n",
       "    .dataframe tbody tr th {\n",
       "        vertical-align: top;\n",
       "    }\n",
       "\n",
       "    .dataframe thead th {\n",
       "        text-align: right;\n",
       "    }\n",
       "</style>\n",
       "<table border=\"1\" class=\"dataframe\">\n",
       "  <thead>\n",
       "    <tr style=\"text-align: right;\">\n",
       "      <th></th>\n",
       "      <th>predicted</th>\n",
       "      <th>observed</th>\n",
       "    </tr>\n",
       "    <tr>\n",
       "      <th>DATES</th>\n",
       "      <th></th>\n",
       "      <th></th>\n",
       "    </tr>\n",
       "  </thead>\n",
       "  <tbody>\n",
       "    <tr>\n",
       "      <th>2014-08-05</th>\n",
       "      <td>2390.523293</td>\n",
       "      <td>3082.45800</td>\n",
       "    </tr>\n",
       "    <tr>\n",
       "      <th>2014-08-06</th>\n",
       "      <td>2972.078931</td>\n",
       "      <td>5244.10400</td>\n",
       "    </tr>\n",
       "    <tr>\n",
       "      <th>2014-08-07</th>\n",
       "      <td>6029.375992</td>\n",
       "      <td>7250.02540</td>\n",
       "    </tr>\n",
       "    <tr>\n",
       "      <th>2014-08-08</th>\n",
       "      <td>7530.394008</td>\n",
       "      <td>9838.56200</td>\n",
       "    </tr>\n",
       "    <tr>\n",
       "      <th>2014-08-09</th>\n",
       "      <td>9628.714157</td>\n",
       "      <td>6904.63200</td>\n",
       "    </tr>\n",
       "    <tr>\n",
       "      <th>...</th>\n",
       "      <td>...</td>\n",
       "      <td>...</td>\n",
       "    </tr>\n",
       "    <tr>\n",
       "      <th>2015-12-27</th>\n",
       "      <td>275.715655</td>\n",
       "      <td>271.80314</td>\n",
       "    </tr>\n",
       "    <tr>\n",
       "      <th>2015-12-28</th>\n",
       "      <td>253.627682</td>\n",
       "      <td>254.35973</td>\n",
       "    </tr>\n",
       "    <tr>\n",
       "      <th>2015-12-29</th>\n",
       "      <td>236.654219</td>\n",
       "      <td>241.89023</td>\n",
       "    </tr>\n",
       "    <tr>\n",
       "      <th>2015-12-30</th>\n",
       "      <td>226.627442</td>\n",
       "      <td>254.69104</td>\n",
       "    </tr>\n",
       "    <tr>\n",
       "      <th>2015-12-31</th>\n",
       "      <td>249.526425</td>\n",
       "      <td>203.03522</td>\n",
       "    </tr>\n",
       "  </tbody>\n",
       "</table>\n",
       "<p>510 rows × 2 columns</p>\n",
       "</div>"
      ],
      "text/plain": [
       "              predicted    observed\n",
       "DATES                              \n",
       "2014-08-05  2390.523293  3082.45800\n",
       "2014-08-06  2972.078931  5244.10400\n",
       "2014-08-07  6029.375992  7250.02540\n",
       "2014-08-08  7530.394008  9838.56200\n",
       "2014-08-09  9628.714157  6904.63200\n",
       "...                 ...         ...\n",
       "2015-12-27   275.715655   271.80314\n",
       "2015-12-28   253.627682   254.35973\n",
       "2015-12-29   236.654219   241.89023\n",
       "2015-12-30   226.627442   254.69104\n",
       "2015-12-31   249.526425   203.03522\n",
       "\n",
       "[510 rows x 2 columns]"
      ]
     },
     "execution_count": 23,
     "metadata": {},
     "output_type": "execute_result"
    }
   ],
   "source": [
    "results.to_csv('20_ANN.csv')\n",
    "results"
   ]
  },
  {
   "cell_type": "code",
   "execution_count": 24,
   "id": "34c7028f",
   "metadata": {},
   "outputs": [],
   "source": [
    "x_train,x_test,y_train,y_test=train_test_split(x,y,test_size=0.3,shuffle=False)"
   ]
  },
  {
   "cell_type": "code",
   "execution_count": 25,
   "id": "908b500c",
   "metadata": {},
   "outputs": [
    {
     "name": "stdout",
     "output_type": "stream",
     "text": [
      "train score: 0.9469388012081174\n",
      "Test Score 0.9243383274694039\n"
     ]
    }
   ],
   "source": [
    "model = MLPRegressor()\n",
    "model.fit(x_train,y_train)\n",
    "print('train score:',model.score(x_train,y_train))\n",
    "print(\"Test Score\",model.score(x_test,y_test))"
   ]
  },
  {
   "cell_type": "code",
   "execution_count": 26,
   "id": "760606b2",
   "metadata": {},
   "outputs": [
    {
     "data": {
      "image/png": "[encoded data removed]",
      "text/plain": [
       "<Figure size 432x288 with 1 Axes>"
      ]
     },
     "metadata": {
      "needs_background": "light"
     },
     "output_type": "display_data"
    }
   ],
   "source": [
    "pred=model.predict(x_train)\n",
    "results=pd.DataFrame({'predicted':list(pred),'observed':y_train})\n",
    "results['predicted'].plot(color='red',linestyle='--')\n",
    "results['observed'].plot(color='black',linestyle='-')\n",
    "plt.xlabel('Days')\n",
    "plt.ylabel('Runoff(cumes)')\n",
    "plt.title('ANN_70')\n",
    "plt.legend(loc='upper right')\n",
    "plt.savefig('ANN_70_black.png')\n",
    "plt.show()"
   ]
  },
  {
   "cell_type": "code",
   "execution_count": 27,
   "id": "f815a3e6",
   "metadata": {},
   "outputs": [
    {
     "data": {
      "image/png": "[encoded data removed]",
      "text/plain": [
       "<Figure size 432x288 with 1 Axes>"
      ]
     },
     "metadata": {
      "needs_background": "light"
     },
     "output_type": "display_data"
    }
   ],
   "source": [
    "plt.scatter(pred,y_train)\n",
    "m, b = np.polyfit(pred,y_train, 1)\n",
    "\n",
    "#add linear regression line to scatterplot \n",
    "plt.plot(pred,m*pred+b)\n",
    "plt.xlabel('predicted')\n",
    "plt.ylabel('observed')\n",
    "plt.title('70_ANN')\n",
    "plt.savefig('70_ANN_scatter.jpg')"
   ]
  },
  {
   "cell_type": "code",
   "execution_count": 28,
   "id": "41b6341f",
   "metadata": {},
   "outputs": [
    {
     "name": "stdout",
     "output_type": "stream",
     "text": [
      "TS 75:  96.52271452607964 TS 100:  98.20527201346046\n"
     ]
    }
   ],
   "source": [
    "def fun(a,p):\n",
    "    ARE = []\n",
    "    n = len(pred)\n",
    "    for i in range(n):\n",
    "        val = (abs(a[i]-p[i])/a[i])*100\n",
    "        ARE.append(val)\n",
    "    c = 0\n",
    "    for i in range(n):\n",
    "        if ARE[i]<75:\n",
    "            c+=1\n",
    "    TS_75 = (c*100)/n\n",
    "    \n",
    "    d = 0\n",
    "    for i in range(n):\n",
    "        if ARE[i]<100:\n",
    "            d+=1\n",
    "    TS_100 = (d*100)/n\n",
    "    \n",
    "    return TS_75,TS_100\n",
    "\n",
    "TS_75,TS_100 = fun(y_train,pred)\n",
    "\n",
    "print(\"TS 75: \", TS_75, \"TS 100: \", TS_100)"
   ]
  },
  {
   "cell_type": "code",
   "execution_count": 29,
   "id": "9276d119",
   "metadata": {},
   "outputs": [
    {
     "data": {
      "text/html": [
       "<div>\n",
       "<style scoped>\n",
       "    .dataframe tbody tr th:only-of-type {\n",
       "        vertical-align: middle;\n",
       "    }\n",
       "\n",
       "    .dataframe tbody tr th {\n",
       "        vertical-align: top;\n",
       "    }\n",
       "\n",
       "    .dataframe thead th {\n",
       "        text-align: right;\n",
       "    }\n",
       "</style>\n",
       "<table border=\"1\" class=\"dataframe\">\n",
       "  <thead>\n",
       "    <tr style=\"text-align: right;\">\n",
       "      <th></th>\n",
       "      <th>predicted</th>\n",
       "      <th>observed</th>\n",
       "    </tr>\n",
       "    <tr>\n",
       "      <th>DATES</th>\n",
       "      <th></th>\n",
       "      <th></th>\n",
       "    </tr>\n",
       "  </thead>\n",
       "  <tbody>\n",
       "    <tr>\n",
       "      <th>2009-01-05</th>\n",
       "      <td>233.266701</td>\n",
       "      <td>232.05756</td>\n",
       "    </tr>\n",
       "    <tr>\n",
       "      <th>2009-01-06</th>\n",
       "      <td>224.267546</td>\n",
       "      <td>230.00000</td>\n",
       "    </tr>\n",
       "    <tr>\n",
       "      <th>2009-01-07</th>\n",
       "      <td>223.848999</td>\n",
       "      <td>232.00000</td>\n",
       "    </tr>\n",
       "    <tr>\n",
       "      <th>2009-01-08</th>\n",
       "      <td>227.886602</td>\n",
       "      <td>230.00000</td>\n",
       "    </tr>\n",
       "    <tr>\n",
       "      <th>2009-01-09</th>\n",
       "      <td>223.639525</td>\n",
       "      <td>221.77718</td>\n",
       "    </tr>\n",
       "    <tr>\n",
       "      <th>...</th>\n",
       "      <td>...</td>\n",
       "      <td>...</td>\n",
       "    </tr>\n",
       "    <tr>\n",
       "      <th>2013-11-18</th>\n",
       "      <td>989.337774</td>\n",
       "      <td>1386.72190</td>\n",
       "    </tr>\n",
       "    <tr>\n",
       "      <th>2013-11-19</th>\n",
       "      <td>1448.114410</td>\n",
       "      <td>1197.91240</td>\n",
       "    </tr>\n",
       "    <tr>\n",
       "      <th>2013-11-20</th>\n",
       "      <td>1169.960601</td>\n",
       "      <td>1147.78560</td>\n",
       "    </tr>\n",
       "    <tr>\n",
       "      <th>2013-11-21</th>\n",
       "      <td>1089.844731</td>\n",
       "      <td>1102.96850</td>\n",
       "    </tr>\n",
       "    <tr>\n",
       "      <th>2013-11-22</th>\n",
       "      <td>1141.635902</td>\n",
       "      <td>1134.04820</td>\n",
       "    </tr>\n",
       "  </tbody>\n",
       "</table>\n",
       "<p>1783 rows × 2 columns</p>\n",
       "</div>"
      ],
      "text/plain": [
       "              predicted    observed\n",
       "DATES                              \n",
       "2009-01-05   233.266701   232.05756\n",
       "2009-01-06   224.267546   230.00000\n",
       "2009-01-07   223.848999   232.00000\n",
       "2009-01-08   227.886602   230.00000\n",
       "2009-01-09   223.639525   221.77718\n",
       "...                 ...         ...\n",
       "2013-11-18   989.337774  1386.72190\n",
       "2013-11-19  1448.114410  1197.91240\n",
       "2013-11-20  1169.960601  1147.78560\n",
       "2013-11-21  1089.844731  1102.96850\n",
       "2013-11-22  1141.635902  1134.04820\n",
       "\n",
       "[1783 rows x 2 columns]"
      ]
     },
     "execution_count": 29,
     "metadata": {},
     "output_type": "execute_result"
    }
   ],
   "source": [
    "results.to_csv('70_ANN.csv')\n",
    "results"
   ]
  },
  {
   "cell_type": "code",
   "execution_count": 30,
   "id": "a2fe6624",
   "metadata": {},
   "outputs": [
    {
     "data": {
      "image/png": "[encoded data removed]",
      "text/plain": [
       "<Figure size 432x288 with 1 Axes>"
      ]
     },
     "metadata": {
      "needs_background": "light"
     },
     "output_type": "display_data"
    }
   ],
   "source": [
    "pred=model.predict(x_test)\n",
    "results=pd.DataFrame({'predicted':list(pred),'observed':y_test})\n",
    "results['predicted'].plot(color='black',linestyle='--')\n",
    "results['observed'].plot(color='black',linestyle='-')\n",
    "plt.xlabel('Days')\n",
    "plt.ylabel('Runoff(cumes)')\n",
    "plt.title('ANN_30')\n",
    "plt.legend(loc='upper right')\n",
    "plt.savefig('ANN_30_black.png')\n",
    "plt.show()"
   ]
  },
  {
   "cell_type": "code",
   "execution_count": 31,
   "id": "4feb93af",
   "metadata": {},
   "outputs": [
    {
     "data": {
      "image/png": "[encoded data removed]",
      "text/plain": [
       "<Figure size 432x288 with 1 Axes>"
      ]
     },
     "metadata": {
      "needs_background": "light"
     },
     "output_type": "display_data"
    }
   ],
   "source": [
    "plt.scatter(pred,y_test)\n",
    "m, b = np.polyfit(pred,y_test, 1)\n",
    "\n",
    "#add linear regression line to scatterplot \n",
    "plt.plot(pred,m*pred+b)\n",
    "plt.xlabel('predicted')\n",
    "plt.ylabel('observed')\n",
    "plt.title('30_ANN')\n",
    "plt.savefig('30_ANN_scatter.jpg')"
   ]
  },
  {
   "cell_type": "code",
   "execution_count": 32,
   "id": "c5d20d2c",
   "metadata": {},
   "outputs": [
    {
     "name": "stdout",
     "output_type": "stream",
     "text": [
      "TS 75:  99.47712418300654 TS 100:  99.73856209150327\n"
     ]
    }
   ],
   "source": [
    "def fun(a,p):\n",
    "    ARE = []\n",
    "    n = len(pred)\n",
    "    for i in range(n):\n",
    "        val = (abs(a[i]-p[i])/a[i])*100\n",
    "        ARE.append(val)\n",
    "    c = 0\n",
    "    for i in range(n):\n",
    "        if ARE[i]<75:\n",
    "            c+=1\n",
    "    TS_75 = (c*100)/n\n",
    "    \n",
    "    d = 0\n",
    "    for i in range(n):\n",
    "        if ARE[i]<100:\n",
    "            d+=1\n",
    "    TS_100 = (d*100)/n\n",
    "    \n",
    "    return TS_75,TS_100\n",
    "\n",
    "TS_75,TS_100 = fun(y_test,pred)\n",
    "\n",
    "print(\"TS 75: \", TS_75, \"TS 100: \", TS_100)"
   ]
  },
  {
   "cell_type": "code",
   "execution_count": 33,
   "id": "7152af32",
   "metadata": {},
   "outputs": [
    {
     "data": {
      "text/html": [
       "<div>\n",
       "<style scoped>\n",
       "    .dataframe tbody tr th:only-of-type {\n",
       "        vertical-align: middle;\n",
       "    }\n",
       "\n",
       "    .dataframe tbody tr th {\n",
       "        vertical-align: top;\n",
       "    }\n",
       "\n",
       "    .dataframe thead th {\n",
       "        text-align: right;\n",
       "    }\n",
       "</style>\n",
       "<table border=\"1\" class=\"dataframe\">\n",
       "  <thead>\n",
       "    <tr style=\"text-align: right;\">\n",
       "      <th></th>\n",
       "      <th>predicted</th>\n",
       "      <th>observed</th>\n",
       "    </tr>\n",
       "    <tr>\n",
       "      <th>DATES</th>\n",
       "      <th></th>\n",
       "      <th></th>\n",
       "    </tr>\n",
       "  </thead>\n",
       "  <tbody>\n",
       "    <tr>\n",
       "      <th>2013-11-23</th>\n",
       "      <td>1301.632473</td>\n",
       "      <td>1032.45730</td>\n",
       "    </tr>\n",
       "    <tr>\n",
       "      <th>2013-11-24</th>\n",
       "      <td>1197.250437</td>\n",
       "      <td>842.79430</td>\n",
       "    </tr>\n",
       "    <tr>\n",
       "      <th>2013-11-25</th>\n",
       "      <td>969.651099</td>\n",
       "      <td>1052.90100</td>\n",
       "    </tr>\n",
       "    <tr>\n",
       "      <th>2013-11-26</th>\n",
       "      <td>1269.067306</td>\n",
       "      <td>1033.70230</td>\n",
       "    </tr>\n",
       "    <tr>\n",
       "      <th>2013-11-27</th>\n",
       "      <td>1054.455743</td>\n",
       "      <td>1064.90810</td>\n",
       "    </tr>\n",
       "    <tr>\n",
       "      <th>...</th>\n",
       "      <td>...</td>\n",
       "      <td>...</td>\n",
       "    </tr>\n",
       "    <tr>\n",
       "      <th>2015-12-27</th>\n",
       "      <td>283.513025</td>\n",
       "      <td>271.80314</td>\n",
       "    </tr>\n",
       "    <tr>\n",
       "      <th>2015-12-28</th>\n",
       "      <td>261.538408</td>\n",
       "      <td>254.35973</td>\n",
       "    </tr>\n",
       "    <tr>\n",
       "      <th>2015-12-29</th>\n",
       "      <td>244.335726</td>\n",
       "      <td>241.89023</td>\n",
       "    </tr>\n",
       "    <tr>\n",
       "      <th>2015-12-30</th>\n",
       "      <td>233.657767</td>\n",
       "      <td>254.69104</td>\n",
       "    </tr>\n",
       "    <tr>\n",
       "      <th>2015-12-31</th>\n",
       "      <td>256.206173</td>\n",
       "      <td>203.03522</td>\n",
       "    </tr>\n",
       "  </tbody>\n",
       "</table>\n",
       "<p>765 rows × 2 columns</p>\n",
       "</div>"
      ],
      "text/plain": [
       "              predicted    observed\n",
       "DATES                              \n",
       "2013-11-23  1301.632473  1032.45730\n",
       "2013-11-24  1197.250437   842.79430\n",
       "2013-11-25   969.651099  1052.90100\n",
       "2013-11-26  1269.067306  1033.70230\n",
       "2013-11-27  1054.455743  1064.90810\n",
       "...                 ...         ...\n",
       "2015-12-27   283.513025   271.80314\n",
       "2015-12-28   261.538408   254.35973\n",
       "2015-12-29   244.335726   241.89023\n",
       "2015-12-30   233.657767   254.69104\n",
       "2015-12-31   256.206173   203.03522\n",
       "\n",
       "[765 rows x 2 columns]"
      ]
     },
     "execution_count": 33,
     "metadata": {},
     "output_type": "execute_result"
    }
   ],
   "source": [
    "results.to_csv('30_ANN.csv')\n",
    "results"
   ]
  },
  {
   "cell_type": "code",
   "execution_count": 34,
   "id": "051d8c70",
   "metadata": {},
   "outputs": [],
   "source": [
    "x_train,x_test,y_train,y_test=train_test_split(x,y,test_size=0.4,shuffle=False)"
   ]
  },
  {
   "cell_type": "code",
   "execution_count": 35,
   "id": "f01bbdf8",
   "metadata": {},
   "outputs": [
    {
     "name": "stdout",
     "output_type": "stream",
     "text": [
      "train score: 0.9402490491572618\n",
      "Test Score 0.9443743717730432\n"
     ]
    }
   ],
   "source": [
    "model = MLPRegressor()\n",
    "model.fit(x_train,y_train)\n",
    "print('train score:',model.score(x_train,y_train))\n",
    "print(\"Test Score\",model.score(x_test,y_test))"
   ]
  },
  {
   "cell_type": "code",
   "execution_count": 36,
   "id": "2b090184",
   "metadata": {},
   "outputs": [
    {
     "data": {
      "image/png": "[encoded data removed]",
      "text/plain": [
       "<Figure size 432x288 with 1 Axes>"
      ]
     },
     "metadata": {
      "needs_background": "light"
     },
     "output_type": "display_data"
    }
   ],
   "source": [
    "pred=model.predict(x_train)\n",
    "results=pd.DataFrame({'predicted':list(pred),'observed':y_train})\n",
    "results['predicted'].plot(color='red',linestyle='--')\n",
    "results['observed'].plot(color='black',linestyle='-')\n",
    "plt.xlabel('Days')\n",
    "plt.ylabel('Runoff(cumes)')\n",
    "plt.title('ANN_60')\n",
    "plt.legend(loc='upper right')\n",
    "plt.savefig('ANN_60_black.png')\n",
    "plt.show()"
   ]
  },
  {
   "cell_type": "code",
   "execution_count": 37,
   "id": "d6751f96",
   "metadata": {},
   "outputs": [
    {
     "data": {
      "image/png": "[encoded data removed]",
      "text/plain": [
       "<Figure size 432x288 with 1 Axes>"
      ]
     },
     "metadata": {
      "needs_background": "light"
     },
     "output_type": "display_data"
    }
   ],
   "source": [
    "plt.scatter(pred,y_train)\n",
    "m, b = np.polyfit(pred,y_train, 1)\n",
    "\n",
    "#add linear regression line to scatterplot \n",
    "plt.plot(pred,m*pred+b)\n",
    "plt.xlabel('predicted')\n",
    "plt.ylabel('observed')\n",
    "plt.title('60_ANN')\n",
    "plt.savefig('60_ANN_scatter.jpg')"
   ]
  },
  {
   "cell_type": "code",
   "execution_count": 38,
   "id": "2a257e46",
   "metadata": {},
   "outputs": [
    {
     "name": "stdout",
     "output_type": "stream",
     "text": [
      "TS 75:  97.97120418848168 TS 100:  98.7565445026178\n"
     ]
    }
   ],
   "source": [
    "def fun(a,p):\n",
    "    ARE = []\n",
    "    n = len(pred)\n",
    "    for i in range(n):\n",
    "        val = (abs(a[i]-p[i])/a[i])*100\n",
    "        ARE.append(val)\n",
    "    c = 0\n",
    "    for i in range(n):\n",
    "        if ARE[i]<75:\n",
    "            c+=1\n",
    "    TS_75 = (c*100)/n\n",
    "    \n",
    "    d = 0\n",
    "    for i in range(n):\n",
    "        if ARE[i]<100:\n",
    "            d+=1\n",
    "    TS_100 = (d*100)/n\n",
    "    \n",
    "    return TS_75,TS_100\n",
    "\n",
    "TS_75,TS_100 = fun(y_train,pred)\n",
    "\n",
    "print(\"TS 75: \", TS_75, \"TS 100: \", TS_100)"
   ]
  },
  {
   "cell_type": "code",
   "execution_count": 39,
   "id": "4654e2b1",
   "metadata": {},
   "outputs": [
    {
     "data": {
      "text/html": [
       "<div>\n",
       "<style scoped>\n",
       "    .dataframe tbody tr th:only-of-type {\n",
       "        vertical-align: middle;\n",
       "    }\n",
       "\n",
       "    .dataframe tbody tr th {\n",
       "        vertical-align: top;\n",
       "    }\n",
       "\n",
       "    .dataframe thead th {\n",
       "        text-align: right;\n",
       "    }\n",
       "</style>\n",
       "<table border=\"1\" class=\"dataframe\">\n",
       "  <thead>\n",
       "    <tr style=\"text-align: right;\">\n",
       "      <th></th>\n",
       "      <th>predicted</th>\n",
       "      <th>observed</th>\n",
       "    </tr>\n",
       "    <tr>\n",
       "      <th>DATES</th>\n",
       "      <th></th>\n",
       "      <th></th>\n",
       "    </tr>\n",
       "  </thead>\n",
       "  <tbody>\n",
       "    <tr>\n",
       "      <th>2009-01-05</th>\n",
       "      <td>235.293056</td>\n",
       "      <td>232.05756</td>\n",
       "    </tr>\n",
       "    <tr>\n",
       "      <th>2009-01-06</th>\n",
       "      <td>227.129812</td>\n",
       "      <td>230.00000</td>\n",
       "    </tr>\n",
       "    <tr>\n",
       "      <th>2009-01-07</th>\n",
       "      <td>225.877684</td>\n",
       "      <td>232.00000</td>\n",
       "    </tr>\n",
       "    <tr>\n",
       "      <th>2009-01-08</th>\n",
       "      <td>230.204470</td>\n",
       "      <td>230.00000</td>\n",
       "    </tr>\n",
       "    <tr>\n",
       "      <th>2009-01-09</th>\n",
       "      <td>226.295663</td>\n",
       "      <td>221.77718</td>\n",
       "    </tr>\n",
       "    <tr>\n",
       "      <th>...</th>\n",
       "      <td>...</td>\n",
       "      <td>...</td>\n",
       "    </tr>\n",
       "    <tr>\n",
       "      <th>2013-03-08</th>\n",
       "      <td>286.202772</td>\n",
       "      <td>292.24036</td>\n",
       "    </tr>\n",
       "    <tr>\n",
       "      <th>2013-03-09</th>\n",
       "      <td>287.744410</td>\n",
       "      <td>294.09113</td>\n",
       "    </tr>\n",
       "    <tr>\n",
       "      <th>2013-03-10</th>\n",
       "      <td>290.013097</td>\n",
       "      <td>280.45400</td>\n",
       "    </tr>\n",
       "    <tr>\n",
       "      <th>2013-03-11</th>\n",
       "      <td>270.976424</td>\n",
       "      <td>298.70468</td>\n",
       "    </tr>\n",
       "    <tr>\n",
       "      <th>2013-03-12</th>\n",
       "      <td>299.894918</td>\n",
       "      <td>327.58180</td>\n",
       "    </tr>\n",
       "  </tbody>\n",
       "</table>\n",
       "<p>1528 rows × 2 columns</p>\n",
       "</div>"
      ],
      "text/plain": [
       "             predicted   observed\n",
       "DATES                            \n",
       "2009-01-05  235.293056  232.05756\n",
       "2009-01-06  227.129812  230.00000\n",
       "2009-01-07  225.877684  232.00000\n",
       "2009-01-08  230.204470  230.00000\n",
       "2009-01-09  226.295663  221.77718\n",
       "...                ...        ...\n",
       "2013-03-08  286.202772  292.24036\n",
       "2013-03-09  287.744410  294.09113\n",
       "2013-03-10  290.013097  280.45400\n",
       "2013-03-11  270.976424  298.70468\n",
       "2013-03-12  299.894918  327.58180\n",
       "\n",
       "[1528 rows x 2 columns]"
      ]
     },
     "execution_count": 39,
     "metadata": {},
     "output_type": "execute_result"
    }
   ],
   "source": [
    "results.to_csv('60_ANN.csv')\n",
    "results"
   ]
  },
  {
   "cell_type": "code",
   "execution_count": 40,
   "id": "863753d5",
   "metadata": {},
   "outputs": [
    {
     "data": {
      "image/png": "[encoded data removed]",
      "text/plain": [
       "<Figure size 432x288 with 1 Axes>"
      ]
     },
     "metadata": {
      "needs_background": "light"
     },
     "output_type": "display_data"
    }
   ],
   "source": [
    "pred=model.predict(x_test)\n",
    "results=pd.DataFrame({'predicted':list(pred),'observed':y_test})\n",
    "results['predicted'].plot(color='red',linestyle='--')\n",
    "results['observed'].plot(color='black',linestyle='-')\n",
    "plt.xlabel('Days')\n",
    "plt.ylabel('Runoff(cumes)')\n",
    "plt.title('ANN_40')\n",
    "plt.legend(loc='upper right')\n",
    "plt.savefig('ANN_40_black.png')\n",
    "plt.show()"
   ]
  },
  {
   "cell_type": "code",
   "execution_count": 41,
   "id": "13254bc6",
   "metadata": {},
   "outputs": [
    {
     "data": {
      "image/png": "[encoded data removed]",
      "text/plain": [
       "<Figure size 432x288 with 1 Axes>"
      ]
     },
     "metadata": {
      "needs_background": "light"
     },
     "output_type": "display_data"
    }
   ],
   "source": [
    "plt.scatter(pred,y_test)\n",
    "m, b = np.polyfit(pred,y_test, 1)\n",
    "\n",
    "#add linear regression line to scatterplot \n",
    "plt.plot(pred,m*pred+b)\n",
    "plt.xlabel('predicted')\n",
    "plt.ylabel('observed')\n",
    "plt.title('40_ANN')\n",
    "plt.savefig('40_ANN_scatter.jpg')"
   ]
  },
  {
   "cell_type": "code",
   "execution_count": 42,
   "id": "6276836c",
   "metadata": {},
   "outputs": [
    {
     "name": "stdout",
     "output_type": "stream",
     "text": [
      "TS 75:  99.70588235294117 TS 100:  99.80392156862744\n"
     ]
    }
   ],
   "source": [
    "def fun(a,p):\n",
    "    ARE = []\n",
    "    n = len(pred)\n",
    "    for i in range(n):\n",
    "        val = (abs(a[i]-p[i])/a[i])*100\n",
    "        ARE.append(val)\n",
    "    c = 0\n",
    "    for i in range(n):\n",
    "        if ARE[i]<75:\n",
    "            c+=1\n",
    "    TS_75 = (c*100)/n\n",
    "    \n",
    "    d = 0\n",
    "    for i in range(n):\n",
    "        if ARE[i]<100:\n",
    "            d+=1\n",
    "    TS_100 = (d*100)/n\n",
    "    \n",
    "    return TS_75,TS_100\n",
    "\n",
    "TS_75,TS_100 = fun(y_test,pred)\n",
    "\n",
    "print(\"TS 75: \", TS_75, \"TS 100: \", TS_100)"
   ]
  },
  {
   "cell_type": "code",
   "execution_count": 43,
   "id": "20c5bcac",
   "metadata": {},
   "outputs": [
    {
     "data": {
      "text/html": [
       "<div>\n",
       "<style scoped>\n",
       "    .dataframe tbody tr th:only-of-type {\n",
       "        vertical-align: middle;\n",
       "    }\n",
       "\n",
       "    .dataframe tbody tr th {\n",
       "        vertical-align: top;\n",
       "    }\n",
       "\n",
       "    .dataframe thead th {\n",
       "        text-align: right;\n",
       "    }\n",
       "</style>\n",
       "<table border=\"1\" class=\"dataframe\">\n",
       "  <thead>\n",
       "    <tr style=\"text-align: right;\">\n",
       "      <th></th>\n",
       "      <th>predicted</th>\n",
       "      <th>observed</th>\n",
       "    </tr>\n",
       "    <tr>\n",
       "      <th>DATES</th>\n",
       "      <th></th>\n",
       "      <th></th>\n",
       "    </tr>\n",
       "  </thead>\n",
       "  <tbody>\n",
       "    <tr>\n",
       "      <th>2013-03-13</th>\n",
       "      <td>333.058740</td>\n",
       "      <td>324.33057</td>\n",
       "    </tr>\n",
       "    <tr>\n",
       "      <th>2013-03-14</th>\n",
       "      <td>314.501073</td>\n",
       "      <td>295.17325</td>\n",
       "    </tr>\n",
       "    <tr>\n",
       "      <th>2013-03-15</th>\n",
       "      <td>276.397982</td>\n",
       "      <td>327.83478</td>\n",
       "    </tr>\n",
       "    <tr>\n",
       "      <th>2013-03-16</th>\n",
       "      <td>334.466670</td>\n",
       "      <td>330.75970</td>\n",
       "    </tr>\n",
       "    <tr>\n",
       "      <th>2013-03-17</th>\n",
       "      <td>329.427956</td>\n",
       "      <td>313.62850</td>\n",
       "    </tr>\n",
       "    <tr>\n",
       "      <th>...</th>\n",
       "      <td>...</td>\n",
       "      <td>...</td>\n",
       "    </tr>\n",
       "    <tr>\n",
       "      <th>2015-12-27</th>\n",
       "      <td>286.072268</td>\n",
       "      <td>271.80314</td>\n",
       "    </tr>\n",
       "    <tr>\n",
       "      <th>2015-12-28</th>\n",
       "      <td>264.260126</td>\n",
       "      <td>254.35973</td>\n",
       "    </tr>\n",
       "    <tr>\n",
       "      <th>2015-12-29</th>\n",
       "      <td>247.019717</td>\n",
       "      <td>241.89023</td>\n",
       "    </tr>\n",
       "    <tr>\n",
       "      <th>2015-12-30</th>\n",
       "      <td>237.158873</td>\n",
       "      <td>254.69104</td>\n",
       "    </tr>\n",
       "    <tr>\n",
       "      <th>2015-12-31</th>\n",
       "      <td>257.725526</td>\n",
       "      <td>203.03522</td>\n",
       "    </tr>\n",
       "  </tbody>\n",
       "</table>\n",
       "<p>1020 rows × 2 columns</p>\n",
       "</div>"
      ],
      "text/plain": [
       "             predicted   observed\n",
       "DATES                            \n",
       "2013-03-13  333.058740  324.33057\n",
       "2013-03-14  314.501073  295.17325\n",
       "2013-03-15  276.397982  327.83478\n",
       "2013-03-16  334.466670  330.75970\n",
       "2013-03-17  329.427956  313.62850\n",
       "...                ...        ...\n",
       "2015-12-27  286.072268  271.80314\n",
       "2015-12-28  264.260126  254.35973\n",
       "2015-12-29  247.019717  241.89023\n",
       "2015-12-30  237.158873  254.69104\n",
       "2015-12-31  257.725526  203.03522\n",
       "\n",
       "[1020 rows x 2 columns]"
      ]
     },
     "execution_count": 43,
     "metadata": {},
     "output_type": "execute_result"
    }
   ],
   "source": [
    "results.to_csv('40_ANN.csv')\n",
    "results"
   ]
  },
  {
   "cell_type": "code",
   "execution_count": 44,
   "id": "f4fe90b6",
   "metadata": {},
   "outputs": [],
   "source": [
    "x_train,x_test,y_train,y_test=train_test_split(x,y,test_size=0.5,shuffle=False)"
   ]
  },
  {
   "cell_type": "code",
   "execution_count": 45,
   "id": "f940e2d7",
   "metadata": {},
   "outputs": [
    {
     "name": "stdout",
     "output_type": "stream",
     "text": [
      "train score: 0.9378557816721397\n",
      "TS 75:  32.254901960784316 TS 100:  55.78431372549019\n",
      "Test Score 0.9438972664886904\n"
     ]
    }
   ],
   "source": [
    "model = MLPRegressor()\n",
    "model.fit(x_train,y_train)\n",
    "print('train score:',model.score(x_train,y_train))\n",
    "def fun(a,p):\n",
    "    ARE = []\n",
    "    n = len(pred)\n",
    "    for i in range(n):\n",
    "        val = (abs(a[i]-p[i])/a[i])*100\n",
    "        ARE.append(val)\n",
    "    c = 0\n",
    "    for i in range(n):\n",
    "        if ARE[i]<75:\n",
    "            c+=1\n",
    "    TS_75 = (c*100)/n\n",
    "    \n",
    "    d = 0\n",
    "    for i in range(n):\n",
    "        if ARE[i]<100:\n",
    "            d+=1\n",
    "    TS_100 = (d*100)/n\n",
    "    \n",
    "    return TS_75,TS_100\n",
    "\n",
    "TS_75,TS_100 = fun(y_train,pred)\n",
    "\n",
    "print(\"TS 75: \", TS_75, \"TS 100: \", TS_100)\n",
    "print(\"Test Score\",model.score(x_test,y_test))\n"
   ]
  },
  {
   "cell_type": "code",
   "execution_count": 46,
   "id": "3f9f77d9",
   "metadata": {},
   "outputs": [
    {
     "data": {
      "image/png": "[encoded data removed]",
      "text/plain": [
       "<Figure size 432x288 with 1 Axes>"
      ]
     },
     "metadata": {
      "needs_background": "light"
     },
     "output_type": "display_data"
    }
   ],
   "source": [
    "pred=model.predict(x_train)\n",
    "results=pd.DataFrame({'predicted':list(pred),'observed':y_train})\n",
    "results['predicted'].plot(color='red',linestyle='--')\n",
    "results['observed'].plot(color='black',linestyle='-')\n",
    "plt.xlabel('Days')\n",
    "plt.ylabel('Runoff(cumes)')\n",
    "plt.title('ANN_50_train')\n",
    "plt.legend(loc='upper right')\n",
    "plt.savefig('ANN_50_train_black.png')\n",
    "plt.show()"
   ]
  },
  {
   "cell_type": "code",
   "execution_count": 47,
   "id": "62a9b76e",
   "metadata": {},
   "outputs": [
    {
     "data": {
      "image/png": "[encoded data removed]",
      "text/plain": [
       "<Figure size 432x288 with 1 Axes>"
      ]
     },
     "metadata": {
      "needs_background": "light"
     },
     "output_type": "display_data"
    }
   ],
   "source": [
    "plt.scatter(pred,y_train)\n",
    "m, b = np.polyfit(pred,y_train, 1)\n",
    "\n",
    "#add linear regression line to scatterplot \n",
    "plt.plot(pred,m*pred+b)\n",
    "plt.xlabel('predicted')\n",
    "plt.ylabel('observed')\n",
    "plt.title('50_ANN_train')\n",
    "plt.savefig('50_ANN_train_scatter.jpg')"
   ]
  },
  {
   "cell_type": "code",
   "execution_count": 48,
   "id": "2cc67bbb",
   "metadata": {},
   "outputs": [
    {
     "name": "stdout",
     "output_type": "stream",
     "text": [
      "TS 75:  97.64521193092622 TS 100:  98.43014128728414\n"
     ]
    }
   ],
   "source": [
    "def fun(a,p):\n",
    "    ARE = []\n",
    "    n = len(pred)\n",
    "    for i in range(n):\n",
    "        val = (abs(a[i]-p[i])/a[i])*100\n",
    "        ARE.append(val)\n",
    "    c = 0\n",
    "    for i in range(n):\n",
    "        if ARE[i]<75:\n",
    "            c+=1\n",
    "    TS_75 = (c*100)/n\n",
    "    \n",
    "    d = 0\n",
    "    for i in range(n):\n",
    "        if ARE[i]<100:\n",
    "            d+=1\n",
    "    TS_100 = (d*100)/n\n",
    "    \n",
    "    return TS_75,TS_100\n",
    "\n",
    "TS_75,TS_100 = fun(y_train,pred)\n",
    "\n",
    "print(\"TS 75: \", TS_75, \"TS 100: \", TS_100)"
   ]
  },
  {
   "cell_type": "code",
   "execution_count": 49,
   "id": "e8be8433",
   "metadata": {},
   "outputs": [
    {
     "data": {
      "text/html": [
       "<div>\n",
       "<style scoped>\n",
       "    .dataframe tbody tr th:only-of-type {\n",
       "        vertical-align: middle;\n",
       "    }\n",
       "\n",
       "    .dataframe tbody tr th {\n",
       "        vertical-align: top;\n",
       "    }\n",
       "\n",
       "    .dataframe thead th {\n",
       "        text-align: right;\n",
       "    }\n",
       "</style>\n",
       "<table border=\"1\" class=\"dataframe\">\n",
       "  <thead>\n",
       "    <tr style=\"text-align: right;\">\n",
       "      <th></th>\n",
       "      <th>predicted</th>\n",
       "      <th>observed</th>\n",
       "    </tr>\n",
       "    <tr>\n",
       "      <th>DATES</th>\n",
       "      <th></th>\n",
       "      <th></th>\n",
       "    </tr>\n",
       "  </thead>\n",
       "  <tbody>\n",
       "    <tr>\n",
       "      <th>2009-01-05</th>\n",
       "      <td>234.564288</td>\n",
       "      <td>232.05756</td>\n",
       "    </tr>\n",
       "    <tr>\n",
       "      <th>2009-01-06</th>\n",
       "      <td>226.389560</td>\n",
       "      <td>230.00000</td>\n",
       "    </tr>\n",
       "    <tr>\n",
       "      <th>2009-01-07</th>\n",
       "      <td>224.951457</td>\n",
       "      <td>232.00000</td>\n",
       "    </tr>\n",
       "    <tr>\n",
       "      <th>2009-01-08</th>\n",
       "      <td>229.692556</td>\n",
       "      <td>230.00000</td>\n",
       "    </tr>\n",
       "    <tr>\n",
       "      <th>2009-01-09</th>\n",
       "      <td>225.655047</td>\n",
       "      <td>221.77718</td>\n",
       "    </tr>\n",
       "    <tr>\n",
       "      <th>...</th>\n",
       "      <td>...</td>\n",
       "      <td>...</td>\n",
       "    </tr>\n",
       "    <tr>\n",
       "      <th>2012-06-27</th>\n",
       "      <td>891.916939</td>\n",
       "      <td>777.58330</td>\n",
       "    </tr>\n",
       "    <tr>\n",
       "      <th>2012-06-28</th>\n",
       "      <td>819.619561</td>\n",
       "      <td>710.67487</td>\n",
       "    </tr>\n",
       "    <tr>\n",
       "      <th>2012-06-29</th>\n",
       "      <td>671.492660</td>\n",
       "      <td>645.90880</td>\n",
       "    </tr>\n",
       "    <tr>\n",
       "      <th>2012-06-30</th>\n",
       "      <td>630.071857</td>\n",
       "      <td>576.75146</td>\n",
       "    </tr>\n",
       "    <tr>\n",
       "      <th>2012-07-01</th>\n",
       "      <td>619.411027</td>\n",
       "      <td>453.62270</td>\n",
       "    </tr>\n",
       "  </tbody>\n",
       "</table>\n",
       "<p>1274 rows × 2 columns</p>\n",
       "</div>"
      ],
      "text/plain": [
       "             predicted   observed\n",
       "DATES                            \n",
       "2009-01-05  234.564288  232.05756\n",
       "2009-01-06  226.389560  230.00000\n",
       "2009-01-07  224.951457  232.00000\n",
       "2009-01-08  229.692556  230.00000\n",
       "2009-01-09  225.655047  221.77718\n",
       "...                ...        ...\n",
       "2012-06-27  891.916939  777.58330\n",
       "2012-06-28  819.619561  710.67487\n",
       "2012-06-29  671.492660  645.90880\n",
       "2012-06-30  630.071857  576.75146\n",
       "2012-07-01  619.411027  453.62270\n",
       "\n",
       "[1274 rows x 2 columns]"
      ]
     },
     "execution_count": 49,
     "metadata": {},
     "output_type": "execute_result"
    }
   ],
   "source": [
    "results.to_csv('50_ANN_train.csv')\n",
    "results"
   ]
  },
  {
   "cell_type": "code",
   "execution_count": 50,
   "id": "6f1fcd31",
   "metadata": {},
   "outputs": [
    {
     "data": {
      "image/png": "[encoded data removed]",
      "text/plain": [
       "<Figure size 432x288 with 1 Axes>"
      ]
     },
     "metadata": {
      "needs_background": "light"
     },
     "output_type": "display_data"
    }
   ],
   "source": [
    "pred=model.predict(x_test)\n",
    "results=pd.DataFrame({'predicted':list(pred),'observed':y_test})\n",
    "results['predicted'].plot(color='red',linestyle='--')\n",
    "results['observed'].plot(color='black',linestyle='-')\n",
    "plt.xlabel('Days')\n",
    "plt.ylabel('Runoff(cumes)')\n",
    "plt.title('ANN_50_test')\n",
    "plt.legend(loc='upper right')\n",
    "plt.savefig('ANN_50_black_test.png')\n",
    "plt.show()"
   ]
  },
  {
   "cell_type": "code",
   "execution_count": 51,
   "id": "a8180824",
   "metadata": {},
   "outputs": [
    {
     "data": {
      "image/png": "[encoded data removed]",
      "text/plain": [
       "<Figure size 432x288 with 1 Axes>"
      ]
     },
     "metadata": {
      "needs_background": "light"
     },
     "output_type": "display_data"
    }
   ],
   "source": [
    "plt.scatter(pred,y_test)\n",
    "m, b = np.polyfit(pred,y_test, 1)\n",
    "\n",
    "#add linear regression line to scatterplot \n",
    "plt.plot(pred,m*pred+b)\n",
    "plt.xlabel('predicted')\n",
    "plt.ylabel('observed')\n",
    "plt.title('50_ANN_test')\n",
    "plt.savefig('50_ANN_test_scatter.jpg')"
   ]
  },
  {
   "cell_type": "code",
   "execution_count": 52,
   "id": "890158b5",
   "metadata": {},
   "outputs": [
    {
     "name": "stdout",
     "output_type": "stream",
     "text": [
      "TS 75:  99.60753532182103 TS 100:  99.84301412872841\n"
     ]
    }
   ],
   "source": [
    "def fun(a,p):\n",
    "    ARE = []\n",
    "    n = len(pred)\n",
    "    for i in range(n):\n",
    "        val = (abs(a[i]-p[i])/a[i])*100\n",
    "        ARE.append(val)\n",
    "    c = 0\n",
    "    for i in range(n):\n",
    "        if ARE[i]<75:\n",
    "            c+=1\n",
    "    TS_75 = (c*100)/n\n",
    "    \n",
    "    d = 0\n",
    "    for i in range(n):\n",
    "        if ARE[i]<100:\n",
    "            d+=1\n",
    "    TS_100 = (d*100)/n\n",
    "    \n",
    "    return TS_75,TS_100\n",
    "\n",
    "TS_75,TS_100 = fun(y_test,pred)\n",
    "\n",
    "print(\"TS 75: \", TS_75, \"TS 100: \", TS_100)"
   ]
  },
  {
   "cell_type": "code",
   "execution_count": 53,
   "id": "e9ab241d",
   "metadata": {},
   "outputs": [
    {
     "data": {
      "text/html": [
       "<div>\n",
       "<style scoped>\n",
       "    .dataframe tbody tr th:only-of-type {\n",
       "        vertical-align: middle;\n",
       "    }\n",
       "\n",
       "    .dataframe tbody tr th {\n",
       "        vertical-align: top;\n",
       "    }\n",
       "\n",
       "    .dataframe thead th {\n",
       "        text-align: right;\n",
       "    }\n",
       "</style>\n",
       "<table border=\"1\" class=\"dataframe\">\n",
       "  <thead>\n",
       "    <tr style=\"text-align: right;\">\n",
       "      <th></th>\n",
       "      <th>predicted</th>\n",
       "      <th>observed</th>\n",
       "    </tr>\n",
       "    <tr>\n",
       "      <th>DATES</th>\n",
       "      <th></th>\n",
       "      <th></th>\n",
       "    </tr>\n",
       "  </thead>\n",
       "  <tbody>\n",
       "    <tr>\n",
       "      <th>2012-07-02</th>\n",
       "      <td>503.022499</td>\n",
       "      <td>595.76140</td>\n",
       "    </tr>\n",
       "    <tr>\n",
       "      <th>2012-07-03</th>\n",
       "      <td>760.201455</td>\n",
       "      <td>694.59406</td>\n",
       "    </tr>\n",
       "    <tr>\n",
       "      <th>2012-07-04</th>\n",
       "      <td>835.213413</td>\n",
       "      <td>657.53590</td>\n",
       "    </tr>\n",
       "    <tr>\n",
       "      <th>2012-07-05</th>\n",
       "      <td>667.109064</td>\n",
       "      <td>533.31230</td>\n",
       "    </tr>\n",
       "    <tr>\n",
       "      <th>2012-07-06</th>\n",
       "      <td>524.465873</td>\n",
       "      <td>676.50806</td>\n",
       "    </tr>\n",
       "    <tr>\n",
       "      <th>...</th>\n",
       "      <td>...</td>\n",
       "      <td>...</td>\n",
       "    </tr>\n",
       "    <tr>\n",
       "      <th>2015-12-27</th>\n",
       "      <td>285.466137</td>\n",
       "      <td>271.80314</td>\n",
       "    </tr>\n",
       "    <tr>\n",
       "      <th>2015-12-28</th>\n",
       "      <td>263.220468</td>\n",
       "      <td>254.35973</td>\n",
       "    </tr>\n",
       "    <tr>\n",
       "      <th>2015-12-29</th>\n",
       "      <td>245.624827</td>\n",
       "      <td>241.89023</td>\n",
       "    </tr>\n",
       "    <tr>\n",
       "      <th>2015-12-30</th>\n",
       "      <td>236.211026</td>\n",
       "      <td>254.69104</td>\n",
       "    </tr>\n",
       "    <tr>\n",
       "      <th>2015-12-31</th>\n",
       "      <td>257.534053</td>\n",
       "      <td>203.03522</td>\n",
       "    </tr>\n",
       "  </tbody>\n",
       "</table>\n",
       "<p>1274 rows × 2 columns</p>\n",
       "</div>"
      ],
      "text/plain": [
       "             predicted   observed\n",
       "DATES                            \n",
       "2012-07-02  503.022499  595.76140\n",
       "2012-07-03  760.201455  694.59406\n",
       "2012-07-04  835.213413  657.53590\n",
       "2012-07-05  667.109064  533.31230\n",
       "2012-07-06  524.465873  676.50806\n",
       "...                ...        ...\n",
       "2015-12-27  285.466137  271.80314\n",
       "2015-12-28  263.220468  254.35973\n",
       "2015-12-29  245.624827  241.89023\n",
       "2015-12-30  236.211026  254.69104\n",
       "2015-12-31  257.534053  203.03522\n",
       "\n",
       "[1274 rows x 2 columns]"
      ]
     },
     "execution_count": 53,
     "metadata": {},
     "output_type": "execute_result"
    }
   ],
   "source": [
    "results.to_csv('50_ANN_test.csv')\n",
    "results"
   ]
  },
  {
   "cell_type": "code",
   "execution_count": null,
   "id": "08256a2f",
   "metadata": {},
   "outputs": [],
   "source": []
  }
 ],
 "metadata": {
  "kernelspec": {
   "display_name": "Python 3 (ipykernel)",
   "language": "python",
   "name": "python3"
  },
  "language_info": {
   "codemirror_mode": {
    "name": "ipython",
    "version": 3
   },
   "file_extension": ".py",
   "mimetype": "text/x-python",
   "name": "python",
   "nbconvert_exporter": "python",
   "pygments_lexer": "ipython3",
   "version": "3.9.7"
  }
 },
 "nbformat": 4,
 "nbformat_minor": 5
}
